{
 "cells": [
  {
   "cell_type": "code",
   "execution_count": 30,
   "metadata": {
    "collapsed": true
   },
   "outputs": [],
   "source": [
    "#bajar un noticia y sus comentarios para hacer pruebas"
   ]
  },
  {
   "cell_type": "code",
   "execution_count": 31,
   "metadata": {
    "collapsed": true
   },
   "outputs": [],
   "source": [
    "#noticia"
   ]
  },
  {
   "cell_type": "code",
   "execution_count": 32,
   "metadata": {
    "collapsed": true
   },
   "outputs": [],
   "source": [
    "import requests\n",
    "import json\n",
    "from bs4 import BeautifulSoup"
   ]
  },
  {
   "cell_type": "code",
   "execution_count": 33,
   "metadata": {
    "collapsed": true
   },
   "outputs": [],
   "source": [
    "#url = 'https://www.lanacion.com.ar/2181393-la-relacion-entre-macri-y-vidal-un-vinculo-desgastado-por-la-crisis'\n",
    "url = 'https://www.lanacion.com.ar/2181492-hugo-moyano-pedido-detencion-hijo'"
   ]
  },
  {
   "cell_type": "code",
   "execution_count": 34,
   "metadata": {
    "collapsed": true
   },
   "outputs": [],
   "source": [
    "response =  requests.get(url)"
   ]
  },
  {
   "cell_type": "code",
   "execution_count": 35,
   "metadata": {
    "collapsed": true
   },
   "outputs": [],
   "source": [
    "html_soup = BeautifulSoup(response.text, 'html.parser')\n"
   ]
  },
  {
   "cell_type": "code",
   "execution_count": 36,
   "metadata": {
    "collapsed": true
   },
   "outputs": [],
   "source": [
    "titulo = html_soup.find_all('h1')[0].text"
   ]
  },
  {
   "cell_type": "code",
   "execution_count": 37,
   "metadata": {
    "collapsed": true
   },
   "outputs": [],
   "source": [
    "texto = \"\"\n",
    "for parrafo in html_soup.find_all(\"article\", {\"id\": \"nota\"})[0].find_all('p'):\n",
    "    texto +=  parrafo.text.replace('\\r\\n', '').strip().replace('\\n', '')"
   ]
  },
  {
   "cell_type": "code",
   "execution_count": 38,
   "metadata": {
    "collapsed": true
   },
   "outputs": [],
   "source": [
    "#import nltk\n",
    "#nltk.download('punkt')"
   ]
  },
  {
   "cell_type": "code",
   "execution_count": 39,
   "metadata": {},
   "outputs": [
    {
     "data": {
      "text/plain": [
       "14"
      ]
     },
     "execution_count": 39,
     "metadata": {},
     "output_type": "execute_result"
    }
   ],
   "source": [
    "from nltk.tokenize import sent_tokenize\n",
    "sent_tokenize_list = sent_tokenize(texto, language='spanish')\n",
    "len(sent_tokenize_list)"
   ]
  },
  {
   "cell_type": "code",
   "execution_count": 40,
   "metadata": {
    "collapsed": true
   },
   "outputs": [],
   "source": [
    "from sklearn.decomposition import NMF, LatentDirichletAllocation, TruncatedSVD\n",
    "from sklearn.feature_extraction.text import CountVectorizer"
   ]
  },
  {
   "cell_type": "code",
   "execution_count": 41,
   "metadata": {
    "collapsed": true
   },
   "outputs": [],
   "source": [
    "#nltk.download('stopwords')"
   ]
  },
  {
   "cell_type": "code",
   "execution_count": 42,
   "metadata": {
    "collapsed": true
   },
   "outputs": [],
   "source": [
    "from nltk.corpus import stopwords"
   ]
  },
  {
   "cell_type": "code",
   "execution_count": 43,
   "metadata": {
    "collapsed": true
   },
   "outputs": [],
   "source": [
    "from nltk.stem.snowball import SnowballStemmer\n",
    "stemmer = SnowballStemmer(language = 'spanish')"
   ]
  },
  {
   "cell_type": "code",
   "execution_count": 44,
   "metadata": {
    "collapsed": true
   },
   "outputs": [],
   "source": [
    "vectorizer = CountVectorizer(min_df=2, max_df=0.9, \n",
    "                             stop_words=stopwords.words('spanish'), lowercase=True, strip_accents='unicode', \n",
    "                             preprocessor= stemmer.stem)\n",
    "data_vectorized = vectorizer.fit_transform(sent_tokenize_list)"
   ]
  },
  {
   "cell_type": "code",
   "execution_count": 45,
   "metadata": {},
   "outputs": [
    {
     "data": {
      "text/plain": [
       "{'adelante': 0,\n",
       " 'ahora': 1,\n",
       " 'asociacion': 2,\n",
       " 'atencion': 3,\n",
       " 'barrabravas': 4,\n",
       " 'camioneros': 5,\n",
       " 'club': 6,\n",
       " 'contesto': 7,\n",
       " 'cosas': 8,\n",
       " 'detencion': 9,\n",
       " 'dialogo': 10,\n",
       " 'dijo': 11,\n",
       " 'dirigentes': 12,\n",
       " 'disparatado': 13,\n",
       " 'disparate': 14,\n",
       " 'distraer': 15,\n",
       " 'entienden': 16,\n",
       " 'fiscal': 17,\n",
       " 'frigerio': 18,\n",
       " 'general': 19,\n",
       " 'gente': 20,\n",
       " 'gobierno': 21,\n",
       " 'hoy': 22,\n",
       " 'hugo': 23,\n",
       " 'iguales': 24,\n",
       " 'ilicita': 25,\n",
       " 'imputado': 26,\n",
       " 'independiente': 27,\n",
       " 'insistio': 28,\n",
       " 'integrar': 29,\n",
       " 'interior': 30,\n",
       " 'junto': 31,\n",
       " 'justicia': 32,\n",
       " 'ley': 33,\n",
       " 'lleva': 34,\n",
       " 'lomas': 35,\n",
       " 'ministro': 36,\n",
       " 'mitre': 37,\n",
       " 'moyano': 38,\n",
       " 'pablo': 39,\n",
       " 'pedido': 40,\n",
       " 'radio': 41,\n",
       " 'rogelio': 42,\n",
       " 'secretario': 43,\n",
       " 'si': 44,\n",
       " 'sindicato': 45,\n",
       " 'tambien': 46,\n",
       " 'tan': 47,\n",
       " 'todas': 48,\n",
       " 'todavia': 49,\n",
       " 'zamora': 50}"
      ]
     },
     "execution_count": 45,
     "metadata": {},
     "output_type": "execute_result"
    }
   ],
   "source": [
    "vectorizer.vocabulary_"
   ]
  },
  {
   "cell_type": "code",
   "execution_count": 46,
   "metadata": {
    "collapsed": true
   },
   "outputs": [],
   "source": [
    "lda_model = LatentDirichletAllocation(n_components=3, max_iter=10, learning_method='online')\n",
    "lda_Z = lda_model.fit_transform(data_vectorized)"
   ]
  },
  {
   "cell_type": "code",
   "execution_count": 47,
   "metadata": {},
   "outputs": [
    {
     "name": "stderr",
     "output_type": "stream",
     "text": [
      "C:\\Users\\p_bag\\Anaconda3\\lib\\site-packages\\pyLDAvis\\_prepare.py:257: FutureWarning: Sorting because non-concatenation axis is not aligned. A future version\n",
      "of pandas will change to not sort by default.\n",
      "\n",
      "To accept the future behavior, pass 'sort=False'.\n",
      "\n",
      "To retain the current behavior and silence the warning, pass 'sort=True'.\n",
      "\n",
      "  return pd.concat([default_term_info] + list(topic_dfs))\n"
     ]
    },
    {
     "data": {
      "text/html": [
       "\n",
       "<link rel=\"stylesheet\" type=\"text/css\" href=\"https://cdn.rawgit.com/bmabey/pyLDAvis/files/ldavis.v1.0.0.css\">\n",
       "\n",
       "\n",
       "<div id=\"ldavis_el98827117804581929269276461\"></div>\n",
       "<script type=\"text/javascript\">\n",
       "\n",
       "var ldavis_el98827117804581929269276461_data = {\"mdsDat\": {\"x\": [-372.1424560546875, -437.7695617675781, -620.1272583007812], \"y\": [-195.24327087402344, -443.70355224609375, -262.63836669921875], \"topics\": [1, 2, 3], \"cluster\": [1, 1, 1], \"Freq\": [52.38380468045282, 25.36157599085484, 22.25461932869234]}, \"tinfo\": {\"Category\": [\"Default\", \"Default\", \"Default\", \"Default\", \"Default\", \"Default\", \"Default\", \"Default\", \"Default\", \"Default\", \"Default\", \"Default\", \"Default\", \"Default\", \"Default\", \"Default\", \"Default\", \"Default\", \"Default\", \"Default\", \"Default\", \"Default\", \"Default\", \"Default\", \"Default\", \"Default\", \"Default\", \"Default\", \"Default\", \"Default\", \"Topic1\", \"Topic1\", \"Topic1\", \"Topic1\", \"Topic1\", \"Topic1\", \"Topic1\", \"Topic1\", \"Topic1\", \"Topic1\", \"Topic1\", \"Topic1\", \"Topic1\", \"Topic1\", \"Topic1\", \"Topic1\", \"Topic1\", \"Topic1\", \"Topic1\", \"Topic1\", \"Topic1\", \"Topic1\", \"Topic1\", \"Topic1\", \"Topic1\", \"Topic1\", \"Topic1\", \"Topic1\", \"Topic1\", \"Topic1\", \"Topic1\", \"Topic2\", \"Topic2\", \"Topic2\", \"Topic2\", \"Topic2\", \"Topic2\", \"Topic2\", \"Topic2\", \"Topic2\", \"Topic2\", \"Topic2\", \"Topic2\", \"Topic2\", \"Topic2\", \"Topic2\", \"Topic2\", \"Topic2\", \"Topic2\", \"Topic2\", \"Topic2\", \"Topic2\", \"Topic2\", \"Topic2\", \"Topic2\", \"Topic2\", \"Topic2\", \"Topic2\", \"Topic2\", \"Topic2\", \"Topic2\", \"Topic2\", \"Topic2\", \"Topic2\", \"Topic2\", \"Topic3\", \"Topic3\", \"Topic3\", \"Topic3\", \"Topic3\", \"Topic3\", \"Topic3\", \"Topic3\", \"Topic3\", \"Topic3\", \"Topic3\", \"Topic3\", \"Topic3\", \"Topic3\", \"Topic3\", \"Topic3\", \"Topic3\", \"Topic3\", \"Topic3\", \"Topic3\", \"Topic3\", \"Topic3\", \"Topic3\", \"Topic3\", \"Topic3\", \"Topic3\", \"Topic3\", \"Topic3\", \"Topic3\", \"Topic3\", \"Topic3\", \"Topic3\", \"Topic3\", \"Topic3\", \"Topic3\", \"Topic3\", \"Topic3\"], \"Freq\": [3.0, 2.0, 2.0, 2.0, 2.0, 2.0, 2.0, 2.0, 2.0, 2.0, 2.0, 2.0, 2.0, 2.0, 2.0, 2.0, 2.0, 2.0, 2.0, 2.0, 2.0, 2.0, 2.0, 4.0, 2.0, 2.0, 2.0, 2.0, 3.0, 2.0, 2.479461428952005, 2.453416512893561, 2.426766575732937, 2.398230334315368, 1.7889562198731024, 1.7813621109311655, 1.7472137914063937, 1.7725187006020342, 1.7758279211568415, 1.785592286050125, 1.811431280038256, 1.7627655546015975, 1.7973701462201128, 1.7930282290683386, 1.814193539248162, 1.7689216104333714, 1.7898609501313536, 1.7082510569211038, 3.12086280131233, 4.6283355157850385, 1.7889308097435963, 1.806687100588296, 2.494363482322364, 1.7952439840588896, 1.7424382431371823, 1.754613760224206, 1.7956802406426189, 1.1357899007190488, 1.125107584043545, 1.1099539995236205, 1.1264010384712053, 1.393783404590034, 1.3773229593912473, 1.3691867216181905, 1.3836939677224571, 1.3843712188701969, 1.3811734651249854, 1.375090437462091, 0.8623744178524521, 0.8364730778669337, 0.8352742185217045, 0.828068803496374, 0.8547105972764247, 0.8287366371035634, 0.8533147074647234, 0.8171626299266579, 0.8609627580165917, 0.8636676051621649, 0.8701264532668742, 0.8832547123888611, 0.8479609345073018, 1.3801936035937856, 0.8415946520543187, 0.8353621709929031, 1.404243474913067, 0.35466419677633976, 0.3425901911487705, 0.3369537822137602, 0.305472234965346, 0.30630493378199775, 0.3380112001888291, 0.32824455830187754, 0.32823550138048535, 0.3495050319929553, 0.34441003808149895, 2.778239488887175, 1.3133458363835913, 1.300342748488968, 0.8036887694381808, 0.7906124146830018, 0.7780907489736946, 0.773172821248709, 0.7904996620263693, 0.770597108156981, 0.8105749709330745, 0.7894442761560136, 0.8174144904227483, 0.7762955833136387, 0.7760301711095379, 0.7755585621203832, 0.7596123963793106, 0.8065935326659318, 0.783262132030617, 0.7910307042810499, 0.7977472897890205, 0.7571588168764777, 1.2633695713623123, 0.3118151570015542, 0.30088618665551553, 0.2962423949092696, 0.29963279424851796, 0.34207313860371225, 0.2932758144349955, 0.34376471371230366, 0.2843983746869932, 0.3242411515008279, 0.3129398827177581, 0.3344825593208852, 0.3319843068436526, 0.31065375602772477, 0.3200678322335152, 0.3273479780638652], \"Term\": [\"justicia\", \"iguales\", \"ley\", \"todas\", \"tan\", \"disparatado\", \"adelante\", \"insistio\", \"cosas\", \"lleva\", \"entienden\", \"dijo\", \"frigerio\", \"rogelio\", \"todavia\", \"ministro\", \"interior\", \"ahora\", \"radio\", \"mitre\", \"fiscal\", \"dialogo\", \"hoy\", \"gobierno\", \"contesto\", \"camioneros\", \"si\", \"independiente\", \"pablo\", \"ilicita\", \"pedido\", \"distraer\", \"gente\", \"disparate\", \"dirigentes\", \"imputado\", \"lomas\", \"detencion\", \"general\", \"sindicato\", \"barrabravas\", \"tambien\", \"junto\", \"integrar\", \"secretario\", \"club\", \"zamora\", \"atencion\", \"gobierno\", \"moyano\", \"camioneros\", \"independiente\", \"hugo\", \"si\", \"asociacion\", \"ilicita\", \"pablo\", \"hoy\", \"dialogo\", \"fiscal\", \"radio\", \"todas\", \"tan\", \"insistio\", \"disparatado\", \"adelante\", \"cosas\", \"lleva\", \"entienden\", \"rogelio\", \"interior\", \"todavia\", \"ministro\", \"dijo\", \"frigerio\", \"ahora\", \"contesto\", \"iguales\", \"ley\", \"ilicita\", \"asociacion\", \"gobierno\", \"pablo\", \"hugo\", \"moyano\", \"zamora\", \"club\", \"atencion\", \"mitre\", \"hoy\", \"integrar\", \"tambien\", \"sindicato\", \"independiente\", \"si\", \"justicia\", \"iguales\", \"ley\", \"dijo\", \"ahora\", \"todavia\", \"rogelio\", \"entienden\", \"interior\", \"frigerio\", \"ministro\", \"radio\", \"mitre\", \"fiscal\", \"dialogo\", \"hoy\", \"si\", \"camioneros\", \"independiente\", \"pablo\", \"hugo\", \"moyano\", \"lleva\", \"cosas\", \"todas\", \"adelante\", \"atencion\", \"tan\", \"secretario\", \"insistio\", \"zamora\", \"junto\", \"disparate\", \"distraer\", \"club\", \"gente\", \"gobierno\"], \"Total\": [3.0, 2.0, 2.0, 2.0, 2.0, 2.0, 2.0, 2.0, 2.0, 2.0, 2.0, 2.0, 2.0, 2.0, 2.0, 2.0, 2.0, 2.0, 2.0, 2.0, 2.0, 2.0, 2.0, 4.0, 2.0, 2.0, 2.0, 2.0, 3.0, 2.0, 3.0922756142538494, 3.088898692496984, 3.0628844647156157, 3.050225812490564, 2.3734557351827785, 2.378766201024186, 2.33490843844796, 2.380644039195352, 2.38666907798615, 2.4001689912101534, 2.4410777448224734, 2.3768691347230724, 2.4250408721719854, 2.432009848611497, 2.4672036053859676, 2.4221655576098664, 2.4687662984085215, 2.387277977738576, 4.828404382969981, 7.295948562060418, 2.8691564225060917, 2.9472228368623012, 4.0868844701917455, 2.94624755480632, 2.870446104699401, 2.9300657995722466, 3.435022182485958, 2.201707230880357, 2.1997797557177257, 2.1880149536432545, 2.2456365364717303, 2.0594937899064134, 2.054922587353689, 2.0435497520058963, 2.0696092638356074, 2.0861613336779983, 2.085255641128231, 2.081806966014979, 2.0570663743209465, 2.0117220692352937, 2.0130326870394484, 2.0091332022520234, 2.0899490308078867, 2.045736595092733, 2.1182124180020923, 2.0355648619834117, 2.1864513959243217, 2.588897832342718, 2.61080287542517, 2.9300657995722466, 2.870446104699401, 4.828404382969981, 3.435022182485958, 4.0868844701917455, 7.295948562060418, 2.4687662984085215, 2.4221655576098664, 2.387277977738576, 2.18148874813788, 2.201707230880357, 2.432009848611497, 2.3768691347230724, 2.4001689912101534, 2.9472228368623012, 2.94624755480632, 3.5572976761701707, 2.588897832342718, 2.61080287542517, 2.045736595092733, 2.0355648619834117, 2.0091332022520234, 2.0117220692352937, 2.0570663743209465, 2.0130326870394484, 2.1182124180020923, 2.0899490308078867, 2.2456365364717303, 2.18148874813788, 2.1880149536432545, 2.1997797557177257, 2.201707230880357, 2.94624755480632, 2.8691564225060917, 2.9472228368623012, 3.435022182485958, 4.0868844701917455, 7.295948562060418, 2.081806966014979, 2.085255641128231, 2.0594937899064134, 2.0861613336779983, 2.387277977738576, 2.054922587353689, 2.4672036053859676, 2.0435497520058963, 2.4687662984085215, 2.4250408721719854, 3.050225812490564, 3.088898692496984, 2.4221655576098664, 3.0628844647156157, 4.828404382969981], \"loglift\": [30.0, 29.0, 28.0, 27.0, 26.0, 25.0, 24.0, 23.0, 22.0, 21.0, 20.0, 19.0, 18.0, 17.0, 16.0, 15.0, 14.0, 13.0, 12.0, 11.0, 10.0, 9.0, 8.0, 7.0, 6.0, 5.0, 4.0, 3.0, 2.0, 1.0, 0.4257, 0.4162, 0.4138, 0.4061, 0.3639, 0.3574, 0.3566, 0.3516, 0.3509, 0.3508, 0.3483, 0.3477, 0.347, 0.3418, 0.3391, 0.3323, 0.325, 0.3119, 0.2102, 0.1915, 0.1742, 0.1572, 0.1528, 0.1512, 0.1474, 0.1338, -0.0021, -0.0153, -0.0239, -0.0321, -0.0434, 0.9815, 0.9718, 0.9715, 0.9693, 0.9619, 0.96, 0.9572, 0.5026, 0.4944, 0.4923, 0.4856, 0.4778, 0.4683, 0.4627, 0.4592, 0.44, 0.2741, 0.2732, 0.1728, 0.1525, 0.1196, -0.0345, -0.2157, -0.2759, -0.5684, -0.5839, -0.586, -0.594, -0.6005, -0.6015, -0.6078, -0.6176, -0.7602, -0.7745, 1.2554, 0.824, 0.8056, 0.5683, 0.5569, 0.554, 0.5464, 0.5462, 0.5424, 0.542, 0.5291, 0.492, 0.4694, 0.4661, 0.4601, 0.4384, 0.2072, 0.2043, 0.1873, 0.0426, -0.1833, -0.2509, -0.396, -0.4333, -0.4364, -0.4379, -0.4403, -0.4443, -0.4683, -0.4694, -0.5274, -0.545, -0.7078, -0.7279, -0.5511, -0.756, -1.1886], \"logprob\": [30.0, 29.0, 28.0, 27.0, 26.0, 25.0, 24.0, 23.0, 22.0, 21.0, 20.0, 19.0, 18.0, 17.0, 16.0, 15.0, 14.0, 13.0, 12.0, 11.0, 10.0, 9.0, 8.0, 7.0, 6.0, 5.0, 4.0, 3.0, 2.0, 1.0, -3.3357, -3.3463, -3.3572, -3.369, -3.6621, -3.6664, -3.6858, -3.6714, -3.6695, -3.664, -3.6497, -3.6769, -3.6575, -3.6599, -3.6481, -3.6734, -3.6616, -3.7083, -3.1057, -2.7116, -3.6622, -3.6523, -3.3297, -3.6586, -3.6885, -3.6815, -3.6584, -4.1164, -4.1259, -4.1395, -4.1247, -3.1864, -3.1983, -3.2042, -3.1937, -3.1932, -3.1955, -3.1999, -3.6665, -3.697, -3.6984, -3.7071, -3.6754, -3.7063, -3.677, -3.7203, -3.6681, -3.665, -3.6575, -3.6426, -3.6833, -3.1962, -3.6909, -3.6983, -3.1789, -4.555, -4.5896, -4.6062, -4.7043, -4.7016, -4.6031, -4.6324, -4.6324, -4.5697, -4.5843, -2.3659, -3.1152, -3.1251, -3.6063, -3.6227, -3.6386, -3.645, -3.6228, -3.6483, -3.5977, -3.6242, -3.5893, -3.641, -3.6413, -3.6419, -3.6627, -3.6027, -3.632, -3.6221, -3.6137, -3.6659, -3.1539, -4.5531, -4.5888, -4.6043, -4.5929, -4.4605, -4.6144, -4.4555, -4.6451, -4.514, -4.5495, -4.4829, -4.4904, -4.5568, -4.527, -4.5045]}, \"token.table\": {\"Topic\": [2, 2, 3, 1, 2, 1, 1, 1, 3, 1, 1, 2, 2, 1, 1, 3, 2, 3, 1, 2, 1, 1, 2, 3, 1, 3, 2, 3, 1, 1, 1, 2, 1, 3, 1, 2, 3, 2, 3, 1, 2, 1, 1, 3, 2, 1, 2, 3, 1, 3, 2, 3, 2, 1, 2, 3, 1, 3, 1, 2, 3, 1, 2, 3, 1, 1, 3, 2, 3, 1, 1, 3, 1, 1, 2, 2, 2, 3, 1], \"Freq\": [0.4793493119906283, 0.4912641295181432, 0.4912641295181432, 0.6967558097417906, 0.3483779048708953, 0.837774242735889, 0.8193102428802198, 0.6970690005995146, 0.3485345002997573, 0.8257073897019455, 0.4573620990908194, 0.4573620990908194, 0.4795575085743196, 0.8401087970614842, 0.45459096411846395, 0.45459096411846395, 0.48882148483767535, 0.48882148483767535, 0.8426531703764768, 0.4831829937534681, 0.6556891597369849, 0.6474799593971963, 0.48612918498077523, 0.48612918498077523, 0.4570352676680313, 0.4570352676680313, 0.47209618426427913, 0.47209618426427913, 0.8379879801717556, 0.6529792498019337, 0.6213232699773754, 0.20710775665912512, 0.4541929944065034, 0.4541929944065034, 0.48937032954742793, 0.24468516477371396, 0.24468516477371396, 0.3862647600485225, 0.3862647600485225, 0.682578527858308, 0.341289263929154, 0.8407719931193294, 0.6786049480158269, 0.33930247400791347, 0.4893445823956209, 0.8223650908082697, 0.4967629221513995, 0.4967629221513995, 0.8247283676537386, 0.8433367890735071, 0.3830239385028828, 0.3830239385028828, 0.48035193287599215, 0.8565646374251071, 0.478480568310052, 0.478480568310052, 0.45840254773424827, 0.45840254773424827, 0.6853118490994365, 0.13706236981988731, 0.13706236981988731, 0.5822378703105147, 0.29111893515525733, 0.29111893515525733, 0.6467728784526828, 0.4453080379477468, 0.4453080379477468, 0.49708655847282385, 0.49708655847282385, 0.8106343536601315, 0.6788295833244996, 0.3394147916622498, 0.8332746599611762, 0.8414430440374324, 0.48663633664555267, 0.48555621041491054, 0.49772707896077123, 0.49772707896077123, 0.8101212339496414], \"Term\": [\"adelante\", \"ahora\", \"ahora\", \"asociacion\", \"asociacion\", \"atencion\", \"barrabravas\", \"camioneros\", \"camioneros\", \"club\", \"contesto\", \"contesto\", \"cosas\", \"detencion\", \"dialogo\", \"dialogo\", \"dijo\", \"dijo\", \"dirigentes\", \"disparatado\", \"disparate\", \"distraer\", \"entienden\", \"entienden\", \"fiscal\", \"fiscal\", \"frigerio\", \"frigerio\", \"general\", \"gente\", \"gobierno\", \"gobierno\", \"hoy\", \"hoy\", \"hugo\", \"hugo\", \"hugo\", \"iguales\", \"iguales\", \"ilicita\", \"ilicita\", \"imputado\", \"independiente\", \"independiente\", \"insistio\", \"integrar\", \"interior\", \"interior\", \"junto\", \"justicia\", \"ley\", \"ley\", \"lleva\", \"lomas\", \"ministro\", \"ministro\", \"mitre\", \"mitre\", \"moyano\", \"moyano\", \"moyano\", \"pablo\", \"pablo\", \"pablo\", \"pedido\", \"radio\", \"radio\", \"rogelio\", \"rogelio\", \"secretario\", \"si\", \"si\", \"sindicato\", \"tambien\", \"tan\", \"todas\", \"todavia\", \"todavia\", \"zamora\"]}, \"R\": 30, \"lambda.step\": 0.01, \"plot.opts\": {\"xlab\": \"PC1\", \"ylab\": \"PC2\"}, \"topic.order\": [3, 2, 1]};\n",
       "\n",
       "function LDAvis_load_lib(url, callback){\n",
       "  var s = document.createElement('script');\n",
       "  s.src = url;\n",
       "  s.async = true;\n",
       "  s.onreadystatechange = s.onload = callback;\n",
       "  s.onerror = function(){console.warn(\"failed to load library \" + url);};\n",
       "  document.getElementsByTagName(\"head\")[0].appendChild(s);\n",
       "}\n",
       "\n",
       "if(typeof(LDAvis) !== \"undefined\"){\n",
       "   // already loaded: just create the visualization\n",
       "   !function(LDAvis){\n",
       "       new LDAvis(\"#\" + \"ldavis_el98827117804581929269276461\", ldavis_el98827117804581929269276461_data);\n",
       "   }(LDAvis);\n",
       "}else if(typeof define === \"function\" && define.amd){\n",
       "   // require.js is available: use it to load d3/LDAvis\n",
       "   require.config({paths: {d3: \"https://cdnjs.cloudflare.com/ajax/libs/d3/3.5.5/d3.min\"}});\n",
       "   require([\"d3\"], function(d3){\n",
       "      window.d3 = d3;\n",
       "      LDAvis_load_lib(\"https://cdn.rawgit.com/bmabey/pyLDAvis/files/ldavis.v1.0.0.js\", function(){\n",
       "        new LDAvis(\"#\" + \"ldavis_el98827117804581929269276461\", ldavis_el98827117804581929269276461_data);\n",
       "      });\n",
       "    });\n",
       "}else{\n",
       "    // require.js not available: dynamically load d3 & LDAvis\n",
       "    LDAvis_load_lib(\"https://cdnjs.cloudflare.com/ajax/libs/d3/3.5.5/d3.min.js\", function(){\n",
       "         LDAvis_load_lib(\"https://cdn.rawgit.com/bmabey/pyLDAvis/files/ldavis.v1.0.0.js\", function(){\n",
       "                 new LDAvis(\"#\" + \"ldavis_el98827117804581929269276461\", ldavis_el98827117804581929269276461_data);\n",
       "            })\n",
       "         });\n",
       "}\n",
       "</script>"
      ],
      "text/plain": [
       "PreparedData(topic_coordinates=                x           y  topics  cluster       Freq\n",
       "topic                                                    \n",
       "2     -372.142456 -195.243271       1        1  52.383805\n",
       "1     -437.769562 -443.703552       2        1  25.361576\n",
       "0     -620.127258 -262.638367       3        1  22.254619, topic_info=     Category      Freq           Term     Total  loglift  logprob\n",
       "term                                                              \n",
       "32    Default  3.000000       justicia  3.000000  30.0000  30.0000\n",
       "24    Default  2.000000        iguales  2.000000  29.0000  29.0000\n",
       "33    Default  2.000000            ley  2.000000  28.0000  28.0000\n",
       "48    Default  2.000000          todas  2.000000  27.0000  27.0000\n",
       "47    Default  2.000000            tan  2.000000  26.0000  26.0000\n",
       "13    Default  2.000000    disparatado  2.000000  25.0000  25.0000\n",
       "0     Default  2.000000       adelante  2.000000  24.0000  24.0000\n",
       "28    Default  2.000000       insistio  2.000000  23.0000  23.0000\n",
       "8     Default  2.000000          cosas  2.000000  22.0000  22.0000\n",
       "34    Default  2.000000          lleva  2.000000  21.0000  21.0000\n",
       "16    Default  2.000000      entienden  2.000000  20.0000  20.0000\n",
       "11    Default  2.000000           dijo  2.000000  19.0000  19.0000\n",
       "18    Default  2.000000       frigerio  2.000000  18.0000  18.0000\n",
       "42    Default  2.000000        rogelio  2.000000  17.0000  17.0000\n",
       "49    Default  2.000000        todavia  2.000000  16.0000  16.0000\n",
       "36    Default  2.000000       ministro  2.000000  15.0000  15.0000\n",
       "30    Default  2.000000       interior  2.000000  14.0000  14.0000\n",
       "1     Default  2.000000          ahora  2.000000  13.0000  13.0000\n",
       "41    Default  2.000000          radio  2.000000  12.0000  12.0000\n",
       "37    Default  2.000000          mitre  2.000000  11.0000  11.0000\n",
       "17    Default  2.000000         fiscal  2.000000  10.0000  10.0000\n",
       "10    Default  2.000000        dialogo  2.000000   9.0000   9.0000\n",
       "22    Default  2.000000            hoy  2.000000   8.0000   8.0000\n",
       "21    Default  4.000000       gobierno  4.000000   7.0000   7.0000\n",
       "7     Default  2.000000       contesto  2.000000   6.0000   6.0000\n",
       "5     Default  2.000000     camioneros  2.000000   5.0000   5.0000\n",
       "44    Default  2.000000             si  2.000000   4.0000   4.0000\n",
       "27    Default  2.000000  independiente  2.000000   3.0000   3.0000\n",
       "39    Default  3.000000          pablo  3.000000   2.0000   2.0000\n",
       "25    Default  2.000000        ilicita  2.000000   1.0000   1.0000\n",
       "...       ...       ...            ...       ...      ...      ...\n",
       "16     Topic3  0.790500      entienden  2.057066   0.5462  -3.6228\n",
       "30     Topic3  0.770597       interior  2.013033   0.5424  -3.6483\n",
       "18     Topic3  0.810575       frigerio  2.118212   0.5420  -3.5977\n",
       "36     Topic3  0.789444       ministro  2.089949   0.5291  -3.6242\n",
       "41     Topic3  0.817414          radio  2.245637   0.4920  -3.5893\n",
       "37     Topic3  0.776296          mitre  2.181489   0.4694  -3.6410\n",
       "17     Topic3  0.776030         fiscal  2.188015   0.4661  -3.6413\n",
       "10     Topic3  0.775559        dialogo  2.199780   0.4601  -3.6419\n",
       "22     Topic3  0.759612            hoy  2.201707   0.4384  -3.6627\n",
       "44     Topic3  0.806594             si  2.946248   0.2072  -3.6027\n",
       "5      Topic3  0.783262     camioneros  2.869156   0.2043  -3.6320\n",
       "27     Topic3  0.791031  independiente  2.947223   0.1873  -3.6221\n",
       "39     Topic3  0.797747          pablo  3.435022   0.0426  -3.6137\n",
       "23     Topic3  0.757159           hugo  4.086884  -0.1833  -3.6659\n",
       "38     Topic3  1.263370         moyano  7.295949  -0.2509  -3.1539\n",
       "34     Topic3  0.311815          lleva  2.081807  -0.3960  -4.5531\n",
       "8      Topic3  0.300886          cosas  2.085256  -0.4333  -4.5888\n",
       "48     Topic3  0.296242          todas  2.059494  -0.4364  -4.6043\n",
       "0      Topic3  0.299633       adelante  2.086161  -0.4379  -4.5929\n",
       "3      Topic3  0.342073       atencion  2.387278  -0.4403  -4.4605\n",
       "47     Topic3  0.293276            tan  2.054923  -0.4443  -4.6144\n",
       "43     Topic3  0.343765     secretario  2.467204  -0.4683  -4.4555\n",
       "28     Topic3  0.284398       insistio  2.043550  -0.4694  -4.6451\n",
       "50     Topic3  0.324241         zamora  2.468766  -0.5274  -4.5140\n",
       "31     Topic3  0.312940          junto  2.425041  -0.5450  -4.5495\n",
       "14     Topic3  0.334483      disparate  3.050226  -0.7078  -4.4829\n",
       "15     Topic3  0.331984       distraer  3.088899  -0.7279  -4.4904\n",
       "6      Topic3  0.310654           club  2.422166  -0.5511  -4.5568\n",
       "20     Topic3  0.320068          gente  3.062884  -0.7560  -4.5270\n",
       "21     Topic3  0.327348       gobierno  4.828404  -1.1886  -4.5045\n",
       "\n",
       "[132 rows x 6 columns], token_table=      Topic      Freq         Term\n",
       "term                              \n",
       "0         2  0.479349     adelante\n",
       "1         2  0.491264        ahora\n",
       "1         3  0.491264        ahora\n",
       "2         1  0.696756   asociacion\n",
       "2         2  0.348378   asociacion\n",
       "3         1  0.837774     atencion\n",
       "4         1  0.819310  barrabravas\n",
       "5         1  0.697069   camioneros\n",
       "5         3  0.348535   camioneros\n",
       "6         1  0.825707         club\n",
       "7         1  0.457362     contesto\n",
       "7         2  0.457362     contesto\n",
       "8         2  0.479558        cosas\n",
       "9         1  0.840109    detencion\n",
       "10        1  0.454591      dialogo\n",
       "10        3  0.454591      dialogo\n",
       "11        2  0.488821         dijo\n",
       "11        3  0.488821         dijo\n",
       "12        1  0.842653   dirigentes\n",
       "13        2  0.483183  disparatado\n",
       "14        1  0.655689    disparate\n",
       "15        1  0.647480     distraer\n",
       "16        2  0.486129    entienden\n",
       "16        3  0.486129    entienden\n",
       "17        1  0.457035       fiscal\n",
       "17        3  0.457035       fiscal\n",
       "18        2  0.472096     frigerio\n",
       "18        3  0.472096     frigerio\n",
       "19        1  0.837988      general\n",
       "20        1  0.652979        gente\n",
       "...     ...       ...          ...\n",
       "32        3  0.843337     justicia\n",
       "33        2  0.383024          ley\n",
       "33        3  0.383024          ley\n",
       "34        2  0.480352        lleva\n",
       "35        1  0.856565        lomas\n",
       "36        2  0.478481     ministro\n",
       "36        3  0.478481     ministro\n",
       "37        1  0.458403        mitre\n",
       "37        3  0.458403        mitre\n",
       "38        1  0.685312       moyano\n",
       "38        2  0.137062       moyano\n",
       "38        3  0.137062       moyano\n",
       "39        1  0.582238        pablo\n",
       "39        2  0.291119        pablo\n",
       "39        3  0.291119        pablo\n",
       "40        1  0.646773       pedido\n",
       "41        1  0.445308        radio\n",
       "41        3  0.445308        radio\n",
       "42        2  0.497087      rogelio\n",
       "42        3  0.497087      rogelio\n",
       "43        1  0.810634   secretario\n",
       "44        1  0.678830           si\n",
       "44        3  0.339415           si\n",
       "45        1  0.833275    sindicato\n",
       "46        1  0.841443      tambien\n",
       "47        2  0.486636          tan\n",
       "48        2  0.485556        todas\n",
       "49        2  0.497727      todavia\n",
       "49        3  0.497727      todavia\n",
       "50        1  0.810121       zamora\n",
       "\n",
       "[79 rows x 3 columns], R=30, lambda_step=0.01, plot_opts={'xlab': 'PC1', 'ylab': 'PC2'}, topic_order=[3, 2, 1])"
      ]
     },
     "execution_count": 47,
     "metadata": {},
     "output_type": "execute_result"
    }
   ],
   "source": [
    "import pyLDAvis.sklearn\n",
    " \n",
    "pyLDAvis.enable_notebook()\n",
    "panel = pyLDAvis.sklearn.prepare(lda_model, data_vectorized, vectorizer, mds='tsne')\n",
    "panel"
   ]
  },
  {
   "cell_type": "code",
   "execution_count": 48,
   "metadata": {
    "collapsed": true
   },
   "outputs": [],
   "source": [
    "import pandas as pd\n",
    "df = pd.read_csv('./data/hugo-moyano-pedido-detencion-hijo.csv', index_col= 0).dropna()"
   ]
  },
  {
   "cell_type": "code",
   "execution_count": 49,
   "metadata": {},
   "outputs": [
    {
     "name": "stdout",
     "output_type": "stream",
     "text": [
      "Si este pais no saca a los gremios sea el que este como presidente jamas saldra Adelante no puede ser que en las ultimas 7 decadas existe el poder presidencial y el sindicalista y para peor la CGT esto solo ocurre en este pais y no en uno normal.\n",
      "[0.14962368 0.48984193 0.36053438] 0.9999999999999999\n"
     ]
    }
   ],
   "source": [
    "text = df.iloc[25].comments\n",
    "print(text)\n",
    "x = lda_model.transform(vectorizer.transform([text]))[0]\n",
    "print(x, x.sum())\n",
    "#distribución uniforme no comparte ninguna palabra, habría que ver si hay un topic minoritario también"
   ]
  },
  {
   "cell_type": "code",
   "execution_count": 50,
   "metadata": {
    "collapsed": true
   },
   "outputs": [],
   "source": [
    "#pruebas sobre comentarios"
   ]
  },
  {
   "cell_type": "code",
   "execution_count": 51,
   "metadata": {
    "collapsed": true
   },
   "outputs": [],
   "source": [
    "vectorizer = CountVectorizer(min_df=0.03, max_df=0.9, \n",
    "                             stop_words=stopwords.words('spanish'), lowercase=True, strip_accents='unicode', \n",
    "                             preprocessor= stemmer.stem)\n",
    "data_vectorized = vectorizer.fit_transform(df.comments)"
   ]
  },
  {
   "cell_type": "code",
   "execution_count": 52,
   "metadata": {
    "collapsed": true
   },
   "outputs": [],
   "source": [
    "# from sklearn.feature_extraction.text import TfidfVectorizer\n",
    "# vectorizer = TfidfVectorizer(min_df= 7,stop_words=stopwords.words('spanish'), lowercase=True, strip_accents='unicode')\n",
    "# data_vectorized = vectorizer.fit_transform(df.comments)"
   ]
  },
  {
   "cell_type": "code",
   "execution_count": 53,
   "metadata": {},
   "outputs": [
    {
     "data": {
      "text/plain": [
       "vos             25\n",
       "van             24\n",
       "susana87        23\n",
       "solo            22\n",
       "si              21\n",
       "ser             20\n",
       "poder           19\n",
       "moyano          18\n",
       "mismo           17\n",
       "merc1708        16\n",
       "mejor           15\n",
       "mas             14\n",
       "mafiosos        13\n",
       "macri           12\n",
       "ley             11\n",
       "justicia        10\n",
       "just4justice     9\n",
       "hace             8\n",
       "guli1911         7\n",
       "gracias          6\n",
       "gobierno         5\n",
       "fper7709         4\n",
       "estan            3\n",
       "disparate        2\n",
       "años             1\n",
       "ahora            0\n",
       "dtype: int64"
      ]
     },
     "execution_count": 53,
     "metadata": {},
     "output_type": "execute_result"
    }
   ],
   "source": [
    "pd.Series(vectorizer.vocabulary_).sort_values(ascending = False)"
   ]
  },
  {
   "cell_type": "code",
   "execution_count": 54,
   "metadata": {
    "collapsed": true
   },
   "outputs": [],
   "source": [
    "lda_model = LatentDirichletAllocation(n_components=5, max_iter=10, learning_method='online')\n",
    "lda_Z = lda_model.fit_transform(data_vectorized)"
   ]
  },
  {
   "cell_type": "code",
   "execution_count": 55,
   "metadata": {},
   "outputs": [
    {
     "name": "stderr",
     "output_type": "stream",
     "text": [
      "C:\\Users\\p_bag\\Anaconda3\\lib\\site-packages\\pyLDAvis\\_prepare.py:257: FutureWarning: Sorting because non-concatenation axis is not aligned. A future version\n",
      "of pandas will change to not sort by default.\n",
      "\n",
      "To accept the future behavior, pass 'sort=False'.\n",
      "\n",
      "To retain the current behavior and silence the warning, pass 'sort=True'.\n",
      "\n",
      "  return pd.concat([default_term_info] + list(topic_dfs))\n"
     ]
    },
    {
     "data": {
      "text/html": [
       "\n",
       "<link rel=\"stylesheet\" type=\"text/css\" href=\"https://cdn.rawgit.com/bmabey/pyLDAvis/files/ldavis.v1.0.0.css\">\n",
       "\n",
       "\n",
       "<div id=\"ldavis_el98827117765588006230591988\"></div>\n",
       "<script type=\"text/javascript\">\n",
       "\n",
       "var ldavis_el98827117765588006230591988_data = {\"mdsDat\": {\"x\": [60.16782760620117, 87.04359436035156, 2.218468189239502, -36.31150817871094, 125.09827423095703], \"y\": [-135.59767150878906, 29.425996780395508, -18.030590057373047, -107.26570129394531, -63.64823913574219], \"topics\": [1, 2, 3, 4, 5], \"cluster\": [1, 1, 1, 1, 1], \"Freq\": [26.49643373980357, 24.78271114484753, 20.793724981843383, 16.213951131887967, 11.713179001617533]}, \"tinfo\": {\"Category\": [\"Default\", \"Default\", \"Default\", \"Default\", \"Default\", \"Default\", \"Default\", \"Default\", \"Default\", \"Default\", \"Default\", \"Default\", \"Default\", \"Default\", \"Default\", \"Default\", \"Default\", \"Default\", \"Default\", \"Default\", \"Default\", \"Default\", \"Default\", \"Default\", \"Default\", \"Default\", \"Topic1\", \"Topic1\", \"Topic1\", \"Topic1\", \"Topic1\", \"Topic1\", \"Topic1\", \"Topic1\", \"Topic1\", \"Topic1\", \"Topic1\", \"Topic1\", \"Topic1\", \"Topic1\", \"Topic1\", \"Topic1\", \"Topic1\", \"Topic1\", \"Topic1\", \"Topic1\", \"Topic1\", \"Topic1\", \"Topic1\", \"Topic1\", \"Topic1\", \"Topic1\", \"Topic2\", \"Topic2\", \"Topic2\", \"Topic2\", \"Topic2\", \"Topic2\", \"Topic2\", \"Topic2\", \"Topic2\", \"Topic2\", \"Topic2\", \"Topic2\", \"Topic2\", \"Topic2\", \"Topic2\", \"Topic2\", \"Topic2\", \"Topic2\", \"Topic2\", \"Topic2\", \"Topic2\", \"Topic2\", \"Topic2\", \"Topic2\", \"Topic2\", \"Topic2\", \"Topic3\", \"Topic3\", \"Topic3\", \"Topic3\", \"Topic3\", \"Topic3\", \"Topic3\", \"Topic3\", \"Topic3\", \"Topic3\", \"Topic3\", \"Topic3\", \"Topic3\", \"Topic3\", \"Topic3\", \"Topic3\", \"Topic3\", \"Topic3\", \"Topic3\", \"Topic3\", \"Topic3\", \"Topic3\", \"Topic3\", \"Topic3\", \"Topic3\", \"Topic3\", \"Topic4\", \"Topic4\", \"Topic4\", \"Topic4\", \"Topic4\", \"Topic4\", \"Topic4\", \"Topic4\", \"Topic4\", \"Topic4\", \"Topic4\", \"Topic4\", \"Topic4\", \"Topic4\", \"Topic4\", \"Topic4\", \"Topic4\", \"Topic4\", \"Topic4\", \"Topic4\", \"Topic4\", \"Topic4\", \"Topic4\", \"Topic4\", \"Topic4\", \"Topic4\", \"Topic5\", \"Topic5\", \"Topic5\", \"Topic5\", \"Topic5\", \"Topic5\", \"Topic5\", \"Topic5\", \"Topic5\", \"Topic5\", \"Topic5\", \"Topic5\", \"Topic5\", \"Topic5\", \"Topic5\", \"Topic5\", \"Topic5\", \"Topic5\", \"Topic5\", \"Topic5\", \"Topic5\", \"Topic5\", \"Topic5\", \"Topic5\", \"Topic5\", \"Topic5\"], \"Freq\": [41.0, 12.0, 14.0, 8.0, 29.0, 12.0, 9.0, 28.0, 13.0, 11.0, 10.0, 8.0, 9.0, 10.0, 8.0, 9.0, 8.0, 8.0, 11.0, 8.0, 6.0, 7.0, 13.0, 6.0, 10.0, 7.0, 11.970202142149807, 9.016558130712163, 9.218493647151142, 7.364910921149218, 27.404844934188517, 3.65665093360653, 6.289109515961214, 2.7976020959601042, 1.599638975440894, 2.944141225337232, 0.3169736641219522, 0.5379380537925462, 0.3150788978054962, 0.22646396753312273, 0.5048493785737592, 0.2617568564973091, 0.22683668017297298, 0.22471663832911037, 0.22647452160329137, 0.22184673987697207, 0.2239334949436455, 0.22340706422849996, 0.21714586805977967, 0.22443002490919545, 0.21127483349443765, 0.2180591235588316, 9.814592724179876, 8.005265494720783, 7.080850525479252, 5.330642276165372, 21.8566845644918, 6.827650223144798, 3.854141582877099, 8.953425272423727, 2.206367345935546, 1.1993542187370545, 0.9528087126885135, 0.8079923951425353, 1.0126244348399853, 0.22745437980725342, 0.25541559225628047, 0.22290528730734172, 0.4126097354593342, 0.22319801475533058, 0.232026100229312, 0.23242236012325698, 0.2207797616434158, 0.2275236430913534, 0.22733003841713498, 0.21204201310452914, 0.22188854051863902, 0.22147020611195872, 11.065525600775711, 7.894184394260041, 5.396269348707145, 7.520190795729183, 6.743696759094335, 3.8422034269562233, 12.732236810267763, 2.0681439889851916, 3.69342344628918, 1.325676976539841, 0.7118787285264186, 0.3988990400312839, 1.408113754264034, 0.29257901085403343, 0.2645853517405704, 0.23811487700083828, 0.2589454383758529, 0.24387083266578502, 0.23388971937334782, 0.2285950950589047, 0.23090528360558316, 0.2364687970904987, 0.26042475946342286, 0.23406169272161145, 0.22843599793648273, 0.24416076431462608, 13.110027772201594, 8.267524820499506, 5.292389306398743, 3.5392685188596595, 11.177518319516249, 3.1058436882780383, 1.2318355377388162, 1.0372288875308582, 0.5430078894797647, 0.3362854120579427, 0.30365989829545137, 0.3920799828134745, 0.43451231317517647, 0.2622724144921211, 0.2763989897229124, 0.2772439278358277, 0.2781173982974499, 0.3780244345302496, 0.3062451980957414, 0.2926775896419224, 0.3223576911657594, 0.27567766754103956, 0.278905361702199, 0.6942028821770182, 0.2615062151184333, 0.3448080841077453, 11.276855713698621, 7.8583857184105375, 5.439884037442311, 3.189513767841165, 2.255927805149733, 0.8611776143298646, 0.7921226928187958, 0.3165660227870838, 0.5493237088839419, 0.3545222551227264, 0.3086788396850213, 0.3547846183890207, 0.3514544269006452, 0.4161773968435827, 0.3491461858646151, 0.31007103108786166, 0.31962434056808464, 0.3162489659283147, 0.3931058968785613, 0.3130850026981853, 0.3494110125617768, 0.33569484556878526, 0.32383192056637183, 0.35096562205507914, 0.29365944755068746, 0.32187644565797685], \"Term\": [\"moyano\", \"mafiosos\", \"justicia\", \"a\\u00f1os\", \"si\", \"macri\", \"van\", \"mas\", \"disparate\", \"solo\", \"poder\", \"mejor\", \"fper7709\", \"merc1708\", \"mismo\", \"ser\", \"ley\", \"ahora\", \"estan\", \"guli1911\", \"just4justice\", \"susana87\", \"gobierno\", \"gracias\", \"vos\", \"hace\", \"disparate\", \"merc1708\", \"estan\", \"vos\", \"moyano\", \"hace\", \"mas\", \"gobierno\", \"ley\", \"si\", \"gracias\", \"mafiosos\", \"guli1911\", \"just4justice\", \"justicia\", \"a\\u00f1os\", \"susana87\", \"mismo\", \"ahora\", \"mejor\", \"fper7709\", \"ser\", \"van\", \"solo\", \"poder\", \"macri\", \"poder\", \"ser\", \"guli1911\", \"gracias\", \"si\", \"gobierno\", \"solo\", \"mas\", \"vos\", \"hace\", \"mismo\", \"ahora\", \"estan\", \"just4justice\", \"a\\u00f1os\", \"susana87\", \"justicia\", \"ley\", \"mejor\", \"van\", \"fper7709\", \"merc1708\", \"mafiosos\", \"macri\", \"disparate\", \"moyano\", \"macri\", \"mejor\", \"just4justice\", \"fper7709\", \"ahora\", \"susana87\", \"moyano\", \"hace\", \"si\", \"solo\", \"vos\", \"gracias\", \"mas\", \"ley\", \"mismo\", \"guli1911\", \"van\", \"a\\u00f1os\", \"ser\", \"merc1708\", \"poder\", \"estan\", \"disparate\", \"mafiosos\", \"gobierno\", \"justicia\", \"justicia\", \"van\", \"ley\", \"mismo\", \"mas\", \"gobierno\", \"susana87\", \"fper7709\", \"ser\", \"gracias\", \"just4justice\", \"ahora\", \"solo\", \"hace\", \"guli1911\", \"a\\u00f1os\", \"mejor\", \"mafiosos\", \"poder\", \"merc1708\", \"macri\", \"vos\", \"estan\", \"si\", \"disparate\", \"moyano\", \"mafiosos\", \"a\\u00f1os\", \"solo\", \"mismo\", \"susana87\", \"ley\", \"merc1708\", \"just4justice\", \"estan\", \"hace\", \"gracias\", \"guli1911\", \"ahora\", \"poder\", \"van\", \"mejor\", \"ser\", \"fper7709\", \"gobierno\", \"vos\", \"macri\", \"disparate\", \"justicia\", \"si\", \"mas\", \"moyano\"], \"Total\": [41.0, 12.0, 14.0, 8.0, 29.0, 12.0, 9.0, 28.0, 13.0, 11.0, 10.0, 8.0, 9.0, 10.0, 8.0, 9.0, 8.0, 8.0, 11.0, 8.0, 6.0, 7.0, 13.0, 6.0, 10.0, 7.0, 13.049716502819088, 10.55747715132314, 11.295815949667766, 10.871919665850408, 41.025236480333966, 7.540943810943624, 28.12182630971591, 13.352637902197985, 8.268982921778866, 29.53941774035031, 6.691479232061572, 12.654209933160164, 8.26522790839752, 6.470413617130056, 14.595479571115686, 8.89667292766574, 7.7797087373250875, 8.170892989459018, 8.52169808555428, 8.936245663751636, 9.318381905775418, 9.325194508370481, 9.325184672923012, 11.278644934943621, 10.979195436219221, 12.167395441166608, 10.979195436219221, 9.325194508370481, 8.26522790839752, 6.691479232061572, 29.53941774035031, 13.352637902197985, 11.278644934943621, 28.12182630971591, 10.871919665850408, 7.540943810943624, 8.170892989459018, 8.52169808555428, 11.295815949667766, 6.470413617130056, 8.89667292766574, 7.7797087373250875, 14.595479571115686, 8.268982921778866, 8.936245663751636, 9.325184672923012, 9.318381905775418, 10.55747715132314, 12.654209933160164, 12.167395441166608, 13.049716502819088, 41.025236480333966, 12.167395441166608, 8.936245663751636, 6.470413617130056, 9.318381905775418, 8.52169808555428, 7.7797087373250875, 41.025236480333966, 7.540943810943624, 29.53941774035031, 11.278644934943621, 10.871919665850408, 6.691479232061572, 28.12182630971591, 8.268982921778866, 8.170892989459018, 8.26522790839752, 9.325184672923012, 8.89667292766574, 9.325194508370481, 10.55747715132314, 10.979195436219221, 11.295815949667766, 13.049716502819088, 12.654209933160164, 13.352637902197985, 14.595479571115686, 14.595479571115686, 9.325184672923012, 8.268982921778866, 8.170892989459018, 28.12182630971591, 13.352637902197985, 7.7797087373250875, 9.318381905775418, 9.325194508370481, 6.691479232061572, 6.470413617130056, 8.52169808555428, 11.278644934943621, 7.540943810943624, 8.26522790839752, 8.89667292766574, 8.936245663751636, 12.654209933160164, 10.979195436219221, 10.55747715132314, 12.167395441166608, 10.871919665850408, 11.295815949667766, 29.53941774035031, 13.049716502819088, 41.025236480333966, 12.654209933160164, 8.89667292766574, 11.278644934943621, 8.170892989459018, 7.7797087373250875, 8.268982921778866, 10.55747715132314, 6.470413617130056, 11.295815949667766, 7.540943810943624, 6.691479232061572, 8.26522790839752, 8.52169808555428, 10.979195436219221, 9.325184672923012, 8.936245663751636, 9.325194508370481, 9.318381905775418, 13.352637902197985, 10.871919665850408, 12.167395441166608, 13.049716502819088, 14.595479571115686, 29.53941774035031, 28.12182630971591, 41.025236480333966], \"loglift\": [26.0, 25.0, 24.0, 23.0, 22.0, 21.0, 20.0, 19.0, 18.0, 17.0, 16.0, 15.0, 14.0, 13.0, 12.0, 11.0, 10.0, 9.0, 8.0, 7.0, 6.0, 5.0, 4.0, 3.0, 2.0, 1.0, 1.2418, 1.1704, 1.1249, 0.9387, 0.9247, 0.6044, -0.1696, -0.2348, -0.3146, -0.9777, -1.7216, -1.8298, -1.9388, -2.0242, -2.036, -2.1979, -2.2069, -2.2653, -2.2996, -2.3677, -2.4002, -2.4033, -2.4317, -2.5889, -2.6224, -2.6936, 1.2829, 1.2424, 1.2404, 1.1677, 1.0938, 0.7243, 0.3213, 0.2505, -0.1998, -0.4435, -0.7539, -0.9608, -1.0169, -1.953, -2.1555, -2.1575, -2.1709, -2.2172, -2.256, -2.2969, -2.3476, -2.4423, -2.6243, -2.6547, -2.6793, -3.8266, 1.4756, 1.4465, 1.389, 1.3561, 1.3365, 0.865, 0.4005, 0.2768, -0.5087, -0.5705, -1.1555, -1.2494, -1.4238, -1.771, -1.8597, -1.9765, -2.0133, -2.0263, -2.1151, -2.2621, -2.2912, -2.2959, -2.3437, -2.4196, -2.4977, -2.5201, 1.712, 1.6989, 1.3731, 0.9826, 0.8967, 0.3609, -0.0237, -0.3761, -1.0241, -1.1713, -1.2398, -1.2596, -1.4371, -1.5394, -1.5787, -1.6492, -1.6505, -1.6915, -1.7601, -1.7662, -1.8116, -1.8554, -1.882, -1.9314, -2.0908, -2.9597, 2.0292, 2.0204, 1.4153, 1.2037, 0.9065, -0.1175, -0.4454, -0.873, -0.879, -0.9129, -0.9318, -1.0038, -1.0438, -1.1282, -1.1405, -1.2166, -1.2289, -1.2388, -1.3809, -1.403, -1.4058, -1.5159, -1.6638, -2.2883, -2.4174, -2.7033], \"logprob\": [26.0, 25.0, 24.0, 23.0, 22.0, 21.0, 20.0, 19.0, 18.0, 17.0, 16.0, 15.0, 14.0, 13.0, 12.0, 11.0, 10.0, 9.0, 8.0, 7.0, 6.0, 5.0, 4.0, 3.0, 2.0, 1.0, -1.9794, -2.2627, -2.2406, -2.4651, -1.1511, -3.1653, -2.623, -3.433, -3.992, -3.382, -5.6107, -5.0818, -5.6167, -5.947, -5.1453, -5.8021, -5.9453, -5.9547, -5.9469, -5.9676, -5.9582, -5.9606, -5.989, -5.956, -6.0164, -5.9848, -2.1111, -2.3148, -2.4375, -2.7215, -1.3104, -2.474, -3.0458, -2.2029, -3.6036, -4.2132, -4.4433, -4.6081, -4.3824, -5.8757, -5.7598, -5.8959, -5.2802, -5.8946, -5.8558, -5.8541, -5.9055, -5.8754, -5.8763, -5.9459, -5.9005, -5.9024, -1.8156, -2.1533, -2.5337, -2.2018, -2.3108, -2.8734, -1.6753, -3.4928, -2.9129, -3.9375, -4.5593, -5.1385, -3.8772, -5.4485, -5.549, -5.6544, -5.5706, -5.6306, -5.6723, -5.6952, -5.6852, -5.6614, -5.5649, -5.6716, -5.6959, -5.6294, -1.3973, -1.8583, -2.3044, -2.7067, -1.5568, -2.8374, -3.7622, -3.9341, -4.5813, -5.0605, -5.1625, -4.907, -4.8042, -5.309, -5.2566, -5.2535, -5.2504, -4.9435, -5.154, -5.1993, -5.1028, -5.2592, -5.2475, -4.3357, -5.312, -5.0354, -1.2228, -1.5839, -1.9517, -2.4856, -2.8319, -3.795, -3.8785, -4.7957, -4.2446, -4.6825, -4.821, -4.6817, -4.6912, -4.5221, -4.6978, -4.8165, -4.7861, -4.7967, -4.5792, -4.8068, -4.697, -4.7371, -4.773, -4.6926, -4.8708, -4.7791]}, \"token.table\": {\"Topic\": [2, 3, 5, 1, 1, 2, 5, 3, 4, 1, 2, 4, 2, 2, 1, 2, 3, 3, 1, 4, 1, 4, 5, 3, 1, 5, 1, 2, 3, 4, 3, 1, 5, 2, 4, 5, 1, 3, 2, 2, 4, 1, 2, 3, 4, 2, 3, 5, 3, 4, 5, 4, 1, 2, 3], \"Freq\": [0.1173475039787163, 0.8214325278510141, 0.899212555642303, 0.9195602063391706, 0.7967551914888193, 0.08852835460986881, 0.08852835460986881, 0.8585181505644986, 0.10731476882056233, 0.22467470637439874, 0.5242409815402638, 0.22467470637439874, 0.7472189371885047, 0.8469215946105925, 0.5304375818574713, 0.1326093954643678, 0.2652187909287356, 0.7727481264509554, 0.0685143639938348, 0.8906867319198525, 0.24186771443588248, 0.6046692860897063, 0.12093385721794124, 0.9040554367768063, 0.07902508376911903, 0.8692759214603093, 0.21335740907862155, 0.3200361136179323, 0.03555956817977026, 0.39115524997747286, 0.8952305365160944, 0.8524763891032485, 0.09471959878924983, 0.12238564393023686, 0.48954257572094745, 0.3671569317907106, 0.6581314896976361, 0.3168781246692322, 0.9108135526043231, 0.8578909526036201, 0.10723636907545252, 0.10155921238427304, 0.7447675574846689, 0.13541228317903073, 0.03385307079475768, 0.35465253344461234, 0.08866313336115308, 0.4433156668057654, 0.5141580662022738, 0.12853951655056844, 0.2570790331011369, 0.8578918574373253, 0.6438605338473549, 0.1839601525278157, 0.09198007626390785], \"Term\": [\"ahora\", \"ahora\", \"a\\u00f1os\", \"disparate\", \"estan\", \"estan\", \"estan\", \"fper7709\", \"fper7709\", \"gobierno\", \"gobierno\", \"gobierno\", \"gracias\", \"guli1911\", \"hace\", \"hace\", \"hace\", \"just4justice\", \"justicia\", \"justicia\", \"ley\", \"ley\", \"ley\", \"macri\", \"mafiosos\", \"mafiosos\", \"mas\", \"mas\", \"mas\", \"mas\", \"mejor\", \"merc1708\", \"merc1708\", \"mismo\", \"mismo\", \"mismo\", \"moyano\", \"moyano\", \"poder\", \"ser\", \"ser\", \"si\", \"si\", \"si\", \"si\", \"solo\", \"solo\", \"solo\", \"susana87\", \"susana87\", \"susana87\", \"van\", \"vos\", \"vos\", \"vos\"]}, \"R\": 26, \"lambda.step\": 0.01, \"plot.opts\": {\"xlab\": \"PC1\", \"ylab\": \"PC2\"}, \"topic.order\": [3, 1, 4, 2, 5]};\n",
       "\n",
       "function LDAvis_load_lib(url, callback){\n",
       "  var s = document.createElement('script');\n",
       "  s.src = url;\n",
       "  s.async = true;\n",
       "  s.onreadystatechange = s.onload = callback;\n",
       "  s.onerror = function(){console.warn(\"failed to load library \" + url);};\n",
       "  document.getElementsByTagName(\"head\")[0].appendChild(s);\n",
       "}\n",
       "\n",
       "if(typeof(LDAvis) !== \"undefined\"){\n",
       "   // already loaded: just create the visualization\n",
       "   !function(LDAvis){\n",
       "       new LDAvis(\"#\" + \"ldavis_el98827117765588006230591988\", ldavis_el98827117765588006230591988_data);\n",
       "   }(LDAvis);\n",
       "}else if(typeof define === \"function\" && define.amd){\n",
       "   // require.js is available: use it to load d3/LDAvis\n",
       "   require.config({paths: {d3: \"https://cdnjs.cloudflare.com/ajax/libs/d3/3.5.5/d3.min\"}});\n",
       "   require([\"d3\"], function(d3){\n",
       "      window.d3 = d3;\n",
       "      LDAvis_load_lib(\"https://cdn.rawgit.com/bmabey/pyLDAvis/files/ldavis.v1.0.0.js\", function(){\n",
       "        new LDAvis(\"#\" + \"ldavis_el98827117765588006230591988\", ldavis_el98827117765588006230591988_data);\n",
       "      });\n",
       "    });\n",
       "}else{\n",
       "    // require.js not available: dynamically load d3 & LDAvis\n",
       "    LDAvis_load_lib(\"https://cdnjs.cloudflare.com/ajax/libs/d3/3.5.5/d3.min.js\", function(){\n",
       "         LDAvis_load_lib(\"https://cdn.rawgit.com/bmabey/pyLDAvis/files/ldavis.v1.0.0.js\", function(){\n",
       "                 new LDAvis(\"#\" + \"ldavis_el98827117765588006230591988\", ldavis_el98827117765588006230591988_data);\n",
       "            })\n",
       "         });\n",
       "}\n",
       "</script>"
      ],
      "text/plain": [
       "PreparedData(topic_coordinates=                x           y  topics  cluster       Freq\n",
       "topic                                                    \n",
       "2       60.167828 -135.597672       1        1  26.496434\n",
       "0       87.043594   29.425997       2        1  24.782711\n",
       "3        2.218468  -18.030590       3        1  20.793725\n",
       "1      -36.311508 -107.265701       4        1  16.213951\n",
       "4      125.098274  -63.648239       5        1  11.713179, topic_info=     Category       Freq          Term      Total  loglift  logprob\n",
       "term                                                               \n",
       "18    Default  41.000000        moyano  41.000000  26.0000  26.0000\n",
       "13    Default  12.000000      mafiosos  12.000000  25.0000  25.0000\n",
       "10    Default  14.000000      justicia  14.000000  24.0000  24.0000\n",
       "1     Default   8.000000          años   8.000000  23.0000  23.0000\n",
       "21    Default  29.000000            si  29.000000  22.0000  22.0000\n",
       "12    Default  12.000000         macri  12.000000  21.0000  21.0000\n",
       "24    Default   9.000000           van   9.000000  20.0000  20.0000\n",
       "14    Default  28.000000           mas  28.000000  19.0000  19.0000\n",
       "2     Default  13.000000     disparate  13.000000  18.0000  18.0000\n",
       "22    Default  11.000000          solo  11.000000  17.0000  17.0000\n",
       "19    Default  10.000000         poder  10.000000  16.0000  16.0000\n",
       "15    Default   8.000000         mejor   8.000000  15.0000  15.0000\n",
       "4     Default   9.000000      fper7709   9.000000  14.0000  14.0000\n",
       "16    Default  10.000000      merc1708  10.000000  13.0000  13.0000\n",
       "17    Default   8.000000         mismo   8.000000  12.0000  12.0000\n",
       "20    Default   9.000000           ser   9.000000  11.0000  11.0000\n",
       "11    Default   8.000000           ley   8.000000  10.0000  10.0000\n",
       "0     Default   8.000000         ahora   8.000000   9.0000   9.0000\n",
       "3     Default  11.000000         estan  11.000000   8.0000   8.0000\n",
       "7     Default   8.000000      guli1911   8.000000   7.0000   7.0000\n",
       "9     Default   6.000000  just4justice   6.000000   6.0000   6.0000\n",
       "23    Default   7.000000      susana87   7.000000   5.0000   5.0000\n",
       "5     Default  13.000000      gobierno  13.000000   4.0000   4.0000\n",
       "6     Default   6.000000       gracias   6.000000   3.0000   3.0000\n",
       "25    Default  10.000000           vos  10.000000   2.0000   2.0000\n",
       "8     Default   7.000000          hace   7.000000   1.0000   1.0000\n",
       "2      Topic1  11.970202     disparate  13.049717   1.2418  -1.9794\n",
       "16     Topic1   9.016558      merc1708  10.557477   1.1704  -2.2627\n",
       "3      Topic1   9.218494         estan  11.295816   1.1249  -2.2406\n",
       "25     Topic1   7.364911           vos  10.871920   0.9387  -2.4651\n",
       "...       ...        ...           ...        ...      ...      ...\n",
       "3      Topic4   0.278905         estan  11.295816  -1.8820  -5.2475\n",
       "21     Topic4   0.694203            si  29.539418  -1.9314  -4.3357\n",
       "2      Topic4   0.261506     disparate  13.049717  -2.0908  -5.3120\n",
       "18     Topic4   0.344808        moyano  41.025236  -2.9597  -5.0354\n",
       "13     Topic5  11.276856      mafiosos  12.654210   2.0292  -1.2228\n",
       "1      Topic5   7.858386          años   8.896673   2.0204  -1.5839\n",
       "22     Topic5   5.439884          solo  11.278645   1.4153  -1.9517\n",
       "17     Topic5   3.189514         mismo   8.170893   1.2037  -2.4856\n",
       "23     Topic5   2.255928      susana87   7.779709   0.9065  -2.8319\n",
       "11     Topic5   0.861178           ley   8.268983  -0.1175  -3.7950\n",
       "16     Topic5   0.792123      merc1708  10.557477  -0.4454  -3.8785\n",
       "9      Topic5   0.316566  just4justice   6.470414  -0.8730  -4.7957\n",
       "3      Topic5   0.549324         estan  11.295816  -0.8790  -4.2446\n",
       "8      Topic5   0.354522          hace   7.540944  -0.9129  -4.6825\n",
       "6      Topic5   0.308679       gracias   6.691479  -0.9318  -4.8210\n",
       "7      Topic5   0.354785      guli1911   8.265228  -1.0038  -4.6817\n",
       "0      Topic5   0.351454         ahora   8.521698  -1.0438  -4.6912\n",
       "19     Topic5   0.416177         poder  10.979195  -1.1282  -4.5221\n",
       "24     Topic5   0.349146           van   9.325185  -1.1405  -4.6978\n",
       "15     Topic5   0.310071         mejor   8.936246  -1.2166  -4.8165\n",
       "20     Topic5   0.319624           ser   9.325195  -1.2289  -4.7861\n",
       "4      Topic5   0.316249      fper7709   9.318382  -1.2388  -4.7967\n",
       "5      Topic5   0.393106      gobierno  13.352638  -1.3809  -4.5792\n",
       "25     Topic5   0.313085           vos  10.871920  -1.4030  -4.8068\n",
       "12     Topic5   0.349411         macri  12.167395  -1.4058  -4.6970\n",
       "2      Topic5   0.335695     disparate  13.049717  -1.5159  -4.7371\n",
       "10     Topic5   0.323832      justicia  14.595480  -1.6638  -4.7730\n",
       "21     Topic5   0.350966            si  29.539418  -2.2883  -4.6926\n",
       "14     Topic5   0.293659           mas  28.121826  -2.4174  -4.8708\n",
       "18     Topic5   0.321876        moyano  41.025236  -2.7033  -4.7791\n",
       "\n",
       "[156 rows x 6 columns], token_table=      Topic      Freq          Term\n",
       "term                               \n",
       "0         2  0.117348         ahora\n",
       "0         3  0.821433         ahora\n",
       "1         5  0.899213          años\n",
       "2         1  0.919560     disparate\n",
       "3         1  0.796755         estan\n",
       "3         2  0.088528         estan\n",
       "3         5  0.088528         estan\n",
       "4         3  0.858518      fper7709\n",
       "4         4  0.107315      fper7709\n",
       "5         1  0.224675      gobierno\n",
       "5         2  0.524241      gobierno\n",
       "5         4  0.224675      gobierno\n",
       "6         2  0.747219       gracias\n",
       "7         2  0.846922      guli1911\n",
       "8         1  0.530438          hace\n",
       "8         2  0.132609          hace\n",
       "8         3  0.265219          hace\n",
       "9         3  0.772748  just4justice\n",
       "10        1  0.068514      justicia\n",
       "10        4  0.890687      justicia\n",
       "11        1  0.241868           ley\n",
       "11        4  0.604669           ley\n",
       "11        5  0.120934           ley\n",
       "12        3  0.904055         macri\n",
       "13        1  0.079025      mafiosos\n",
       "13        5  0.869276      mafiosos\n",
       "14        1  0.213357           mas\n",
       "14        2  0.320036           mas\n",
       "14        3  0.035560           mas\n",
       "14        4  0.391155           mas\n",
       "15        3  0.895231         mejor\n",
       "16        1  0.852476      merc1708\n",
       "16        5  0.094720      merc1708\n",
       "17        2  0.122386         mismo\n",
       "17        4  0.489543         mismo\n",
       "17        5  0.367157         mismo\n",
       "18        1  0.658131        moyano\n",
       "18        3  0.316878        moyano\n",
       "19        2  0.910814         poder\n",
       "20        2  0.857891           ser\n",
       "20        4  0.107236           ser\n",
       "21        1  0.101559            si\n",
       "21        2  0.744768            si\n",
       "21        3  0.135412            si\n",
       "21        4  0.033853            si\n",
       "22        2  0.354653          solo\n",
       "22        3  0.088663          solo\n",
       "22        5  0.443316          solo\n",
       "23        3  0.514158      susana87\n",
       "23        4  0.128540      susana87\n",
       "23        5  0.257079      susana87\n",
       "24        4  0.857892           van\n",
       "25        1  0.643861           vos\n",
       "25        2  0.183960           vos\n",
       "25        3  0.091980           vos, R=26, lambda_step=0.01, plot_opts={'xlab': 'PC1', 'ylab': 'PC2'}, topic_order=[3, 1, 4, 2, 5])"
      ]
     },
     "execution_count": 55,
     "metadata": {},
     "output_type": "execute_result"
    }
   ],
   "source": [
    "pyLDAvis.enable_notebook()\n",
    "panel = pyLDAvis.sklearn.prepare(lda_model, data_vectorized, vectorizer, mds='tsne')\n",
    "panel"
   ]
  },
  {
   "cell_type": "code",
   "execution_count": 56,
   "metadata": {},
   "outputs": [
    {
     "data": {
      "text/plain": [
       "-1    64\n",
       " 2    50\n",
       " 3    36\n",
       " 0    34\n",
       " 1    23\n",
       " 4    17\n",
       "Name: topicos, dtype: int64"
      ]
     },
     "execution_count": 56,
     "metadata": {},
     "output_type": "execute_result"
    }
   ],
   "source": [
    "import numpy as np\n",
    "topicos = lda_Z.argmax(axis = 1)\n",
    "topicos[pd.DataFrame(lda_Z).apply(np.unique, axis = 1).apply(len) == 1] = -1\n",
    "df['topicos'] = topicos\n",
    "df.topicos.value_counts()"
   ]
  },
  {
   "cell_type": "code",
   "execution_count": 59,
   "metadata": {},
   "outputs": [
    {
     "data": {
      "text/plain": [
       "['mientras el jefe del clan grita, el prófugo está en los emiratos árabes tratando de afiliar a los camelleros. solo en peronia.',\n",
       " '@susana87 Cambiemos  debe dialogar con todos los mafiosos) tamb. ',\n",
       " '@susana87 Amiga: en el universo peronista colmado de mafiosos de distintos pelajes y distintos clanes...',\n",
       " '@rarregui4 Estos mafiosos enquistados , en el Poder, se tiene que TERMINAR YA !!! ',\n",
       " 'que un inútil se sienta útil, solo puede pasar en este País, que es lo positivo logrado por este energúmeno?',\n",
       " '@cheroke1 Lo positivo es solo para el  MULTI  MEGA  MILLONARIO',\n",
       " 'Yo sabia que tenia un doctorado en lavador de tripas. Es el mismo?',\n",
       " 'No insistas Huguito esta película de burdos mafiosos NO NOS DISTRAE. son pésimos actores y la novela policial aburridísima.',\n",
       " 'PUEDE QUE ALGO CAMBIE EL DIA QUE SE SANCIONE UNA LEY QUE IMPIDA QUE CUALQUIER CARGO ELECTIVO -PUBLICO O PRIVADO- SUPERE EL TIEMPO MAXIMO QUE LA CONSTITUCION OTORGA AL PRESIDENTE DE LA NACION. DOS PERIODOS SEGUIDOS DE 4 AÑOS Y DESPUES AL LLANO. ',\n",
       " 'Los sindicalistas el que menos tiene son 30 años al frente de sus respectivo gremio, cero alternancia, la democracia a estos tipos les importa un bledo, carecen en todos los casos de formación cívica, se pasan la vida apretando, desestabilizando  y/o extorsionando a todos los gobiernos y esto se tiene que terminar de una buena vez.',\n",
       " '... en 1945 lanzaron 2 BOMBAS ATÓMICAS sobre JAPÓN .... en 1945 surgió el PERONISMO en ARGENTINA ..... 70 años despues, se comprueba CIENTÍFICAMENTE que el PERONISMO es peor que la BOMBA ATÓMICA ...',\n",
       " '@timsanders Están pensando en lanzarse en camiones hacia la casa rosada. Para estos mafiosos no hay límites. De terror!',\n",
       " 'Esto es lo mismo que los mafiosos de Chicago años 30 que manejaban sindicatos y vendían protección.',\n",
       " '@jlopez149 Por eso llevamos 70 años de atraso. El mismo Peron dijo que eran unos choros, pero se quedo corto',\n",
       " '@merc1708 ¿ Se imagina cómo mafiosos multimillonarios, sueltos, sin escrúpulos, podrían apretar a muchos y silenciar a otros ?.',\n",
       " '@erin3ar Mafiosos abstenerse',\n",
       " 'pucha che, que suerte que tienen los ex k....no tienen un solo corrupto.......']"
      ]
     },
     "execution_count": 59,
     "metadata": {},
     "output_type": "execute_result"
    }
   ],
   "source": [
    "#topico minoritario\n",
    "[x for x in df.loc[df.topicos == 4].comments]"
   ]
  },
  {
   "cell_type": "code",
   "execution_count": 60,
   "metadata": {},
   "outputs": [
    {
     "data": {
      "text/plain": [
       "['Seria muy recomendable q no hagan escala en Brasil.por las dudas',\n",
       " 'El POROTISMO esta ON FIRE: SE LES CAE OTRO ALIADO',\n",
       " 'Otro que se reune con el Pancho y recibe la \"bendicion\"',\n",
       " 'Alguien en su sano juicio duda de la acusación del Fiscal.....? ',\n",
       " 'ESTA VEZ EL HELICOPTERO ESTA LISTO PARA LA IZQUIERDA Y EL CANCER DEL SINDICALISMO !!!!!.....  CUANDO ARGENTINA TERMINE LA RADIOTERAPIA  SERA DE UNA VEZ REPUBLICA !!! ',\n",
       " 'Panchooooooooo, faltan rosarios! Hay una escasez enorme!',\n",
       " '@fumenoire  Es que los chinos no alcanzan a la demanda',\n",
       " 'Extraño la serie \"Los intocables\".',\n",
       " 'Demostralo en un tribunal Moyi.',\n",
       " 'Y falta, negri querido, tu dulce e inocente esposa!',\n",
       " 'Estos ya son \"los encausados\"',\n",
       " 'Dr en que estimado Rai',\n",
       " '@ghriva Doctorado en ASADO, VINO y APRIETES',\n",
       " 'Facil, que explique su patrimonio.',\n",
       " 'Prefiero a Al-Capone contra Eliot Ness.',\n",
       " '@fumenoire La cara y el fisique du rol, convengamos que son perfectos ad hoc....',\n",
       " 'tenés que ir preso mafia,',\n",
       " 'La carcel te va a bajar los humitos negro',\n",
       " 'Este no tiene fueros pero tiene \"fierros\"',\n",
       " 'ME SACO EL SOMBRERO ANTE LOS DIRIGENTES SINDICALES Y SOCIALES QUE ABNEGAN POR EL BIEN DE SUS REPRESENTADOS SIN USUFRUCTUAR ECONOMICAMENTE DE ELLO. PERO TODOS SABEMOS SOBRADAMENTE QUE ESTE NO ES EL CASO... ',\n",
       " '@Mojigato Muy bueno !',\n",
       " '@lafraslafra y un clubcito de futbol de barrio para que jueguen los nenes. Nada importante.',\n",
       " 'Son temas penales manejados por intereses políticos.',\n",
       " 'Ademas el mismisimo Presidente veria con beneplacito no penar a los empresarios que defraudaron al Estado con la obra publica y accionaron ilegalmente para no parar la misma.',\n",
       " '@Vipest barrabasada de comentario',\n",
       " '@Vipest La impunidad facturásela al Congreso, especialmente al bloque peronista que comanda Picchetto.',\n",
       " 'Pagaria una gran cuota mensual por acceder a una camarita en la celda de estos asesinos ... viendo como se la dan 20 veces por día !!!!.......',\n",
       " 'No, no de lo que usted asegura.',\n",
       " 'Respuesta de manual la de Huguito...',\n",
       " 'Todo en familia. Como los Corleone. O peor,  porque es con la complicidad del estado.',\n",
       " 'Pues yo me estoy \"distrayendo\" mucho.',\n",
       " 'A llorar a la cancha.',\n",
       " 'Muy democrático su comentario.',\n",
       " 'Porque no elije otra excusa, esta es muy trillada.',\n",
       " 'DE MANUAL, LO DE MOY.ANO',\n",
       " '@jsalvetti2 \"político\" (con comillas)',\n",
       " '@richaires Y la Sra. su Contratista.',\n",
       " 'VOLVEMOS !!',\n",
       " 'Gato cuando te vayas te vas a tener que refugiar en Liberia, porque vas en cana de por vida',\n",
       " 'Ni lo sueñes!!! primero los anteriores',\n",
       " '@g_alde Son 4 los que votan. El resto ni los conoce. No representan a nadie, como el resto del sindicalismo',\n",
       " '@g_alde Los barra pagados. Es la pesada del sindicato.',\n",
       " 'Tenes razón. La estamos pasando remal. Pero eso no tapa lo que son ustedes.',\n",
       " '@Mehid2016 Ni POR QUÉ la pasamos mal .------------',\n",
       " 'Espero que le saquen hasta el último centavo de plata malhabida a este clan mafioso.',\n",
       " '@gguasoncito1 Alguién puso la torta',\n",
       " 'La denuncia la hizo Bebote Álvarez por asociación ilícita.\\r\\nEs sabido que es ultra macrista.',\n",
       " 'Cero en sarcasmo.\\r\\nVuelva a Facebook y no moleste por acá.',\n",
       " 'Hoy es sabado. El lunes esta detenido',\n",
       " 'excelente tu comentario. pero dudo mucho q los moyanos puedan leer tantas letras!',\n",
       " '@gguasoncito1 🤣🤣🤣😂😂😂🤣🤣🤣',\n",
       " 'Papi cuidando nene!',\n",
       " 'Conducta mafiosa,quien sopló para que Pablito se fuera del país justo teniendo pedido de detención?',\n",
       " 'no sabes ni lo que es un trosko',\n",
       " 'leo cómo deberías hacer vos',\n",
       " 'El régimen macrista quiere a todos los opositores presos.',\n",
       " '@pancho56 a todos los chorros presos, y andá a repasar la tabla del 3,porque tu idea de \"régimen\" es como decir que estos malandras son \"inocentes\".',\n",
       " 'SIIII y ya sabemos donde vives!! Jajajjaj KERNEROLO!!!',\n",
       " '@flacas ¿Independencia, quién, Comodoro Pro? ',\n",
       " 'Yo distraigo\\r\\nTu distraes\\r\\nEl distrae\\r\\n....\\r\\n\\r\\nPero el que afanó, sabemos quien fue.',\n",
       " '@La_Robespierre La que afanó, te referís?.',\n",
       " '@juanberi Al gato se refiere, histórico manoteador del dinero del estado.',\n",
       " 'Con esa declaración, TAN BERRETA, ya dejaste claro que tu hijo es culpable de lo que se lo acusa y ademas, un PATOTERO COBARDE',\n",
       " '@pnogueira3 Lo que realmente es .. una BASURA.-']"
      ]
     },
     "execution_count": 60,
     "metadata": {},
     "output_type": "execute_result"
    }
   ],
   "source": [
    "#sin topico\n",
    "[x for x in df.loc[df.topicos == -1].comments]"
   ]
  },
  {
   "cell_type": "code",
   "execution_count": 61,
   "metadata": {},
   "outputs": [
    {
     "data": {
      "text/plain": [
       "['@rarregui4 \"Este gobierno de derecha, supuestamente de derecha, fue el primero que reconoció los derechos de los trabajadores\" . esto dijo moyano según LA NACIÓN del 28 de setiembre de 2015.  De eso usted no se acuerda nada, verdad? No defiendo a moyano, destaco la moral de convniencia del sr. Mauri, flor de chanta. ',\n",
       " 'Moyano vivimos en democracia deje que la justicia actue…...',\n",
       " 'Que lindo pero que lindoooo que se esta poniendo esto\\r\\nEL CLAN MOYANO EN CANA EXTASISSS',\n",
       " 'EL DR. HUGO MOYANO YA PRESENTE LA EXENCIÓN DE PRISIÓN DE PABLO MOYANO, ANTE EL JUZGADO DE GARANTÍAS A QUO.',\n",
       " 'A LA CORRUPCION  LOS MOYANO LA LLAMAN \"\" DISPARATE PARA DISTRAER\"\"\"  NOS AHORRARIA TIEMPO Y DINERO SI SE PRESENTAN ANTE LA LEY A DAR EXPLICACIONES DE LAS CUALES LOS ACUSAN. ',\n",
       " 'PERONISTA ES AQUEL QUE SE HACE LLAMAR DE ESA MANERA PARA SACAR VENTAJA\\r\\n\\r\\nJ. L. Borges',\n",
       " 'Don Moyano amo de los escritorios como Don Frio',\n",
       " 'Vos seguis creyendo ese verso? Los Moyano Son todos ladrones',\n",
       " '@merc1708 NO NECESARIAMENTE. LAS EVIDENCIAS ESTAN A LA VISTA. QUE TENGAN REPERCUSION POLITICA, ES OTRA COSA. ',\n",
       " 'No dije repercusión. Están manejados políticamente.',\n",
       " '@merc1708 Para el que no es pasible de ninguna imputación penal no hay ningún interés político que pueda impulsar ninguna causa. El que tiene las manos limpias no tiene problema alguno. No creo que sea precisamente el caso de los Moyano.',\n",
       " '@merc1708 PROBALO.',\n",
       " '@merc1708 perdón, y en que basa tan temeraria aseveración?',\n",
       " 'Huguito si es un disparate por que te preocupas? O es que no estas tan limpito? Eh?',\n",
       " 'Que tiempos aquellos donde  \"Mauri\" innauguraba estatuas junto con el entonces rubio Moyano y  eran grandes amigos. Todo para ganar la elección 2015. Ay, ay y ay!! ',\n",
       " '@merc1708 Dejate de chicanas. TODOS sabemos que la gran mayoría de los gremialistas son ladrones, Moyano el capo de tutti i capi.',\n",
       " '@merc1708 Ya la hicieron otros por mí, gracias por el consejo.',\n",
       " '@merc1708 Ya están hechas todas las denuncias. Preguntale a Florencia Arietto.',\n",
       " '@merc1708 Acaso no es verdad? ud tiene menos argumentos que el Pato Donald',\n",
       " '@merc1708 Que Perón era brillante decís ? Sin duda, por eso nunca les dio las obras sociales, regalo que le deben a la dictadura de Onganía.',\n",
       " '@lilianacesar @merc1708 Para chorear era tan brillante como Moyano. Como hizo para vivir en la mansion de Puerta de Hierro sin laburar?',\n",
       " 'Será un disparate, pero por las dudas no te disparés que te traen del jopo.',\n",
       " 'No es un disparate la causa contra Moyano por lo que se sabe. El momento y la obsesión por la prision preventiva, si son un disparate.',\n",
       " '@merc1708 La prisión preventiva es un instituto previsto en la ley penal del mundo entero y desde hace siglos. Que un juez juzgue que un poderoso se puede fugar u obstruir el proceso no tiene nada de disparate. Disparate es que en este país cualquiera hable de lo que lo conoce ¿Sos abogado? Yo sí.',\n",
       " 'Independiente es el Hotesur de los Moyano, \\r\\nPablo es su DeVido, \\r\\nel Policlinico del gremio es su Obra Pública\\r\\ny los camioneros son su Cámpora...',\n",
       " 'El gobierno verdaderamente es un disparate, pero los Moyano son unos mafiosos que mas que merecidos tienen el encierro.',\n",
       " '@erin3ar Vos perteneces al sindicato?',\n",
       " 'Mafia pura los Moyano. Y los afiliados al gremio que los apañan con su silencio. Porque sin ese silencio no existiría esa mafia!!!',\n",
       " 'Pero están y apoyan cuando salen a cortar calles, a amenazar y a jorobarle la vida a quien trabaja honestamente. O no??',\n",
       " 'La gente del interior no piensa como vos. Han hecho mucho daño cuando les abrían las tolvas a los camiones que seguían circulando cuando ellos llamaban al paro. Y no eran los barras, eran afiliados comunes.',\n",
       " 'La Revolucion de la alegria pone varias notas de Moyano para todo el fin de semana ........jajajajajajja disimulen cheee',\n",
       " '@paca7612 AH NO ES PARA VOS?, CIERTO QUE VOS SOS AMARGO............',\n",
       " 'SEGUN MOYANO, DE VIDO, BODOU, EL PATA MEDINA, JAIME, LAZARO, MILANI, ESTECHE, SEGOVIA, TODOS ELLOS SON PRESOS POLITICOS.......ES DECIR LOS JUECES ERRARON EN CASI MAS DE 10 CAUSAS.......TIENE RAZON, FUNCIONA MUY MAL LA JUSTICIA QUE LO CONDENA A MOYANO Y A SUS HIJOS............',\n",
       " 'Lo dijo Moyano : Esto es una \"distrasión\" para evitá que se vea la falta de esito del programa economico que esperimentamo en todo lo ordene de la nasion\" \\r\\n(y evitó decir: \"si me tocas al nene te meto otro paro\")',\n",
       " 'Moyano Scioli perdio se terminaron los negocios…..',\n",
       " 'Los Moyano están mas sucios que el Riachuelo, lo saben y están más que nerviosos.',\n",
       " 'A Cristina la procesan para distraer el pedido de detención de Moyano, para que la gente no le preste atención a la condena de De Vido, para distraer por lo de Boudou, etc, etc,.....',\n",
       " ' Disparate?   Explicámelo!!!!\\r\\nLa UIF apuntó a los Moyano por una cuenta en el exterior con más de 30  millones de dólares\\r\\nSe supo que el Club Atlético Independiente posee dos cuentas en el exterior en las que, según un informe de la Unidad de Información Financiera (UIF), habría recibido más de 30 millones de dólares. Están en el Bedura Bank del Principado de Liechtenstein, un paraíso fiscal. Pero los Moyano le ocultaron la existencia de esas cuentas a los socios e hinchas del club. ',\n",
       " 'El mayor disparate es que moyano padre y madre no estén presos.\\r\\nMafiosos ladrones de la plata de los trabajadores.',\n",
       " '@Italiener67  No caballero, no hablo sin saber, la denuncia fue hecha, Le recomiendo entre otras una lectura sobre el episodio de 2011. Saludos\\r\\n\\r\\nhttps://www.infobae.com/2011/03/20/570707-documento-completo-suiza-solicitar-informacion-moyano/',\n",
       " 'Es un disparate q hace 30 años controles el Gremio de Camioneros y robes a 2 manos y no estes preso todavía Huguito...,',\n",
       " 'Decir cualquier estupidez , no lo hace inocente a tu nene , tiene tu ADN ',\n",
       " 'Una de las diferencias entre la \\'Ndrangheta, la Cosa Nostra o la Camorra y el sindicalismo peronista: las primeras tienen un código de \"omertá\", de silencio. Las nuestras se creen tan impunes que están en los medios permanentemente.',\n",
       " 'A MI ME DISTRAJO ESTO DE PABLO MOYANO.\\r\\nFUI AL SUPER Y NI ME DI CUENTA LO QUE GASTE.',\n",
       " 'Lo de De Vido era un disparate del gobierno. Y sin embargo... ',\n",
       " '@guli1911  tanta ecuanimidad es sorprendente. No se preocupe con el Hijo de Franco, ya le va a llegar algún día. Pero hoy hablemos de Moyano.',\n",
       " 'EL DISPARATE ES QUE UN DELINCUENTE \"PELIGROSO\" COMO USTED, AUN ESTE EN LIBERTAD.',\n",
       " 'El bebote arrepentido, noray arrepentido, a quién creés que entregaron? A tu hijo y a vos, disparate que es todavía no estés guardado en algún penal',\n",
       " 'Para distraer esta NEFLIXT,para delinquir estan los SINDICALISTAS. Por las dudas te paso significado de delenquir: Cometer un delito si continúa con esas compañías puede acabar delinquiendo ',\n",
       " 'A la Gayola Hugito. Vos tambien en Breve.']"
      ]
     },
     "execution_count": 61,
     "metadata": {},
     "output_type": "execute_result"
    }
   ],
   "source": [
    "[x for x in df.loc[df.topicos == 2].comments]"
   ]
  },
  {
   "cell_type": "code",
   "execution_count": 62,
   "metadata": {},
   "outputs": [
    {
     "data": {
      "text/plain": [
       "['Seria muy recomendable q no hagan escala en Brasil.por las dudas',\n",
       " 'El POROTISMO esta ON FIRE: SE LES CAE OTRO ALIADO',\n",
       " 'Otro que se reune con el Pancho y recibe la \"bendicion\"',\n",
       " 'Alguien en su sano juicio duda de la acusación del Fiscal.....? ',\n",
       " 'ESTA VEZ EL HELICOPTERO ESTA LISTO PARA LA IZQUIERDA Y EL CANCER DEL SINDICALISMO !!!!!.....  CUANDO ARGENTINA TERMINE LA RADIOTERAPIA  SERA DE UNA VEZ REPUBLICA !!! ',\n",
       " 'Panchooooooooo, faltan rosarios! Hay una escasez enorme!',\n",
       " '@fumenoire  Es que los chinos no alcanzan a la demanda',\n",
       " 'Extraño la serie \"Los intocables\".',\n",
       " 'Demostralo en un tribunal Moyi.',\n",
       " 'Y falta, negri querido, tu dulce e inocente esposa!',\n",
       " 'Estos ya son \"los encausados\"',\n",
       " 'Dr en que estimado Rai',\n",
       " '@ghriva Doctorado en ASADO, VINO y APRIETES',\n",
       " 'Facil, que explique su patrimonio.',\n",
       " 'Prefiero a Al-Capone contra Eliot Ness.',\n",
       " '@fumenoire La cara y el fisique du rol, convengamos que son perfectos ad hoc....',\n",
       " 'tenés que ir preso mafia,',\n",
       " 'La carcel te va a bajar los humitos negro',\n",
       " 'Este no tiene fueros pero tiene \"fierros\"',\n",
       " 'ME SACO EL SOMBRERO ANTE LOS DIRIGENTES SINDICALES Y SOCIALES QUE ABNEGAN POR EL BIEN DE SUS REPRESENTADOS SIN USUFRUCTUAR ECONOMICAMENTE DE ELLO. PERO TODOS SABEMOS SOBRADAMENTE QUE ESTE NO ES EL CASO... ',\n",
       " '@Mojigato Muy bueno !',\n",
       " '@lafraslafra y un clubcito de futbol de barrio para que jueguen los nenes. Nada importante.',\n",
       " 'Son temas penales manejados por intereses políticos.',\n",
       " 'Ademas el mismisimo Presidente veria con beneplacito no penar a los empresarios que defraudaron al Estado con la obra publica y accionaron ilegalmente para no parar la misma.',\n",
       " '@Vipest barrabasada de comentario',\n",
       " '@Vipest La impunidad facturásela al Congreso, especialmente al bloque peronista que comanda Picchetto.',\n",
       " 'Pagaria una gran cuota mensual por acceder a una camarita en la celda de estos asesinos ... viendo como se la dan 20 veces por día !!!!.......',\n",
       " 'No, no de lo que usted asegura.',\n",
       " 'Respuesta de manual la de Huguito...',\n",
       " 'Todo en familia. Como los Corleone. O peor,  porque es con la complicidad del estado.',\n",
       " 'Pues yo me estoy \"distrayendo\" mucho.',\n",
       " 'A llorar a la cancha.',\n",
       " 'Muy democrático su comentario.',\n",
       " 'Porque no elije otra excusa, esta es muy trillada.',\n",
       " 'DE MANUAL, LO DE MOY.ANO',\n",
       " '@jsalvetti2 \"político\" (con comillas)',\n",
       " '@richaires Y la Sra. su Contratista.',\n",
       " 'VOLVEMOS !!',\n",
       " 'Gato cuando te vayas te vas a tener que refugiar en Liberia, porque vas en cana de por vida',\n",
       " 'Ni lo sueñes!!! primero los anteriores',\n",
       " '@g_alde Son 4 los que votan. El resto ni los conoce. No representan a nadie, como el resto del sindicalismo',\n",
       " '@g_alde Los barra pagados. Es la pesada del sindicato.',\n",
       " 'Tenes razón. La estamos pasando remal. Pero eso no tapa lo que son ustedes.',\n",
       " '@Mehid2016 Ni POR QUÉ la pasamos mal .------------',\n",
       " 'Espero que le saquen hasta el último centavo de plata malhabida a este clan mafioso.',\n",
       " '@gguasoncito1 Alguién puso la torta',\n",
       " 'La denuncia la hizo Bebote Álvarez por asociación ilícita.\\r\\nEs sabido que es ultra macrista.',\n",
       " 'Cero en sarcasmo.\\r\\nVuelva a Facebook y no moleste por acá.',\n",
       " 'Hoy es sabado. El lunes esta detenido',\n",
       " 'excelente tu comentario. pero dudo mucho q los moyanos puedan leer tantas letras!',\n",
       " '@gguasoncito1 🤣🤣🤣😂😂😂🤣🤣🤣',\n",
       " 'Papi cuidando nene!',\n",
       " 'Conducta mafiosa,quien sopló para que Pablito se fuera del país justo teniendo pedido de detención?',\n",
       " 'no sabes ni lo que es un trosko',\n",
       " 'leo cómo deberías hacer vos',\n",
       " 'El régimen macrista quiere a todos los opositores presos.',\n",
       " '@pancho56 a todos los chorros presos, y andá a repasar la tabla del 3,porque tu idea de \"régimen\" es como decir que estos malandras son \"inocentes\".',\n",
       " 'SIIII y ya sabemos donde vives!! Jajajjaj KERNEROLO!!!',\n",
       " '@flacas ¿Independencia, quién, Comodoro Pro? ',\n",
       " 'Yo distraigo\\r\\nTu distraes\\r\\nEl distrae\\r\\n....\\r\\n\\r\\nPero el que afanó, sabemos quien fue.',\n",
       " '@La_Robespierre La que afanó, te referís?.',\n",
       " '@juanberi Al gato se refiere, histórico manoteador del dinero del estado.',\n",
       " 'Con esa declaración, TAN BERRETA, ya dejaste claro que tu hijo es culpable de lo que se lo acusa y ademas, un PATOTERO COBARDE',\n",
       " '@pnogueira3 Lo que realmente es .. una BASURA.-']"
      ]
     },
     "execution_count": 62,
     "metadata": {},
     "output_type": "execute_result"
    }
   ],
   "source": [
    "[x for x in df.loc[df.topicos == -1].comments]"
   ]
  },
  {
   "cell_type": "code",
   "execution_count": null,
   "metadata": {
    "collapsed": true
   },
   "outputs": [],
   "source": []
  }
 ],
 "metadata": {
  "kernelspec": {
   "display_name": "Python 3",
   "language": "python",
   "name": "python3"
  },
  "language_info": {
   "codemirror_mode": {
    "name": "ipython",
    "version": 3
   },
   "file_extension": ".py",
   "mimetype": "text/x-python",
   "name": "python",
   "nbconvert_exporter": "python",
   "pygments_lexer": "ipython3",
   "version": "3.6.3"
  }
 },
 "nbformat": 4,
 "nbformat_minor": 2
}
