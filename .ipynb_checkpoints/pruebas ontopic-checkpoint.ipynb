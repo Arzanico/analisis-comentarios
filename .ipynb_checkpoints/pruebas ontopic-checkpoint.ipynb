{
 "cells": [
  {
   "cell_type": "code",
   "execution_count": 1,
   "metadata": {},
   "outputs": [],
   "source": [
    "#bajar un noticia y sus comentarios para hacer pruebas"
   ]
  },
  {
   "cell_type": "code",
   "execution_count": null,
   "metadata": {},
   "outputs": [],
   "source": [
    "#noticia"
   ]
  },
  {
   "cell_type": "code",
   "execution_count": 3,
   "metadata": {},
   "outputs": [],
   "source": [
    "import requests\n",
    "import json\n",
    "from bs4 import BeautifulSoup"
   ]
  },
  {
   "cell_type": "code",
   "execution_count": 4,
   "metadata": {},
   "outputs": [],
   "source": [
    "#url = 'https://www.lanacion.com.ar/2181393-la-relacion-entre-macri-y-vidal-un-vinculo-desgastado-por-la-crisis'\n",
    "url = 'https://www.lanacion.com.ar/2181492-hugo-moyano-pedido-detencion-hijo'"
   ]
  },
  {
   "cell_type": "code",
   "execution_count": 5,
   "metadata": {},
   "outputs": [],
   "source": [
    "response =  requests.get(url)"
   ]
  },
  {
   "cell_type": "code",
   "execution_count": 6,
   "metadata": {},
   "outputs": [],
   "source": [
    "html_soup = BeautifulSoup(response.text, 'html.parser')\n"
   ]
  },
  {
   "cell_type": "code",
   "execution_count": 7,
   "metadata": {},
   "outputs": [],
   "source": [
    "titulo = html_soup.find_all('h1')[0].text"
   ]
  },
  {
   "cell_type": "code",
   "execution_count": 8,
   "metadata": {},
   "outputs": [],
   "source": [
    "texto = \"\"\n",
    "for parrafo in html_soup.find_all(\"article\", {\"id\": \"nota\"})[0].find_all('p'):\n",
    "    texto +=  parrafo.text.replace('\\r\\n', '').strip().replace('\\n', '')"
   ]
  },
  {
   "cell_type": "code",
   "execution_count": 9,
   "metadata": {},
   "outputs": [],
   "source": [
    "#import nltk\n",
    "#nltk.download('punkt')"
   ]
  },
  {
   "cell_type": "code",
   "execution_count": 10,
   "metadata": {},
   "outputs": [
    {
     "data": {
      "text/plain": [
       "14"
      ]
     },
     "execution_count": 10,
     "metadata": {},
     "output_type": "execute_result"
    }
   ],
   "source": [
    "from nltk.tokenize import sent_tokenize\n",
    "sent_tokenize_list = sent_tokenize(texto, language='spanish')\n",
    "len(sent_tokenize_list)"
   ]
  },
  {
   "cell_type": "code",
   "execution_count": 11,
   "metadata": {},
   "outputs": [],
   "source": [
    "from sklearn.decomposition import NMF, LatentDirichletAllocation, TruncatedSVD\n",
    "from sklearn.feature_extraction.text import CountVectorizer"
   ]
  },
  {
   "cell_type": "code",
   "execution_count": 12,
   "metadata": {},
   "outputs": [],
   "source": [
    "#nltk.download('stopwords')"
   ]
  },
  {
   "cell_type": "code",
   "execution_count": 13,
   "metadata": {},
   "outputs": [],
   "source": [
    "from nltk.corpus import stopwords"
   ]
  },
  {
   "cell_type": "code",
   "execution_count": 54,
   "metadata": {},
   "outputs": [],
   "source": [
    "vectorizer = CountVectorizer(min_df=2, max_df=0.9, \n",
    "                             stop_words=stopwords.words('spanish'), lowercase=True, \n",
    "                             )\n",
    "data_vectorized = vectorizer.fit_transform(sent_tokenize_list)"
   ]
  },
  {
   "cell_type": "code",
   "execution_count": 55,
   "metadata": {},
   "outputs": [
    {
     "data": {
      "text/plain": [
       "{'disparate': 13,\n",
       " 'secretario': 43,\n",
       " 'general': 19,\n",
       " 'sindicato': 45,\n",
       " 'camioneros': 5,\n",
       " 'hugo': 23,\n",
       " 'moyano': 38,\n",
       " 'hoy': 22,\n",
       " 'pedido': 40,\n",
       " 'detención': 9,\n",
       " 'pablo': 39,\n",
       " 'integrar': 29,\n",
       " 'asociación': 2,\n",
       " 'ilícita': 25,\n",
       " 'junto': 31,\n",
       " 'barrabravas': 4,\n",
       " 'dirigentes': 11,\n",
       " 'club': 6,\n",
       " 'independiente': 27,\n",
       " 'gobierno': 21,\n",
       " 'distraer': 14,\n",
       " 'atención': 3,\n",
       " 'gente': 20,\n",
       " 'contestó': 7,\n",
       " 'ministro': 36,\n",
       " 'interior': 30,\n",
       " 'rogelio': 42,\n",
       " 'frigerio': 18,\n",
       " 'dijo': 10,\n",
       " 'todavía': 48,\n",
       " 'entienden': 16,\n",
       " 'ahora': 1,\n",
       " 'iguales': 24,\n",
       " 'ley': 33,\n",
       " 'diálogo': 15,\n",
       " 'radio': 41,\n",
       " 'mitre': 37,\n",
       " 'imputado': 26,\n",
       " 'lomas': 35,\n",
       " 'zamora': 49,\n",
       " 'tan': 46,\n",
       " 'disparatado': 12,\n",
       " 'todas': 47,\n",
       " 'cosas': 8,\n",
       " 'lleva': 34,\n",
       " 'adelante': 0,\n",
       " 'insistió': 28,\n",
       " 'si': 44,\n",
       " 'fiscal': 17,\n",
       " 'justicia': 32}"
      ]
     },
     "execution_count": 55,
     "metadata": {},
     "output_type": "execute_result"
    }
   ],
   "source": [
    "vectorizer.vocabulary_"
   ]
  },
  {
   "cell_type": "code",
   "execution_count": 56,
   "metadata": {},
   "outputs": [],
   "source": [
    "lda_model = LatentDirichletAllocation(n_components=3, max_iter=10, learning_method='online')\n",
    "lda_Z = lda_model.fit_transform(data_vectorized)"
   ]
  },
  {
   "cell_type": "code",
   "execution_count": 57,
   "metadata": {},
   "outputs": [
    {
     "name": "stderr",
     "output_type": "stream",
     "text": [
      "/home/pablo/anaconda3/lib/python3.6/site-packages/pyLDAvis/_prepare.py:257: FutureWarning: Sorting because non-concatenation axis is not aligned. A future version\n",
      "of pandas will change to not sort by default.\n",
      "\n",
      "To accept the future behavior, pass 'sort=True'.\n",
      "\n",
      "To retain the current behavior and silence the warning, pass sort=False\n",
      "\n",
      "  return pd.concat([default_term_info] + list(topic_dfs))\n"
     ]
    },
    {
     "data": {
      "text/html": [
       "\n",
       "<link rel=\"stylesheet\" type=\"text/css\" href=\"https://cdn.rawgit.com/bmabey/pyLDAvis/files/ldavis.v1.0.0.css\">\n",
       "\n",
       "\n",
       "<div id=\"ldavis_el107421400649558212965927529027\"></div>\n",
       "<script type=\"text/javascript\">\n",
       "\n",
       "var ldavis_el107421400649558212965927529027_data = {\"mdsDat\": {\"x\": [-372.1424560546875, -437.7695617675781, -620.1272583007812], \"y\": [-195.24327087402344, -443.70355224609375, -262.63836669921875], \"topics\": [1, 2, 3], \"cluster\": [1, 1, 1], \"Freq\": [52.11934485183933, 32.80105081462861, 15.079604333532073]}, \"tinfo\": {\"Category\": [\"Default\", \"Default\", \"Default\", \"Default\", \"Default\", \"Default\", \"Default\", \"Default\", \"Default\", \"Default\", \"Default\", \"Default\", \"Default\", \"Default\", \"Default\", \"Default\", \"Default\", \"Default\", \"Default\", \"Default\", \"Default\", \"Default\", \"Default\", \"Default\", \"Default\", \"Default\", \"Default\", \"Default\", \"Default\", \"Default\", \"Topic1\", \"Topic1\", \"Topic1\", \"Topic1\", \"Topic1\", \"Topic1\", \"Topic1\", \"Topic1\", \"Topic1\", \"Topic1\", \"Topic1\", \"Topic1\", \"Topic1\", \"Topic1\", \"Topic1\", \"Topic1\", \"Topic1\", \"Topic1\", \"Topic1\", \"Topic1\", \"Topic1\", \"Topic1\", \"Topic1\", \"Topic1\", \"Topic1\", \"Topic1\", \"Topic1\", \"Topic1\", \"Topic1\", \"Topic1\", \"Topic2\", \"Topic2\", \"Topic2\", \"Topic2\", \"Topic2\", \"Topic2\", \"Topic2\", \"Topic2\", \"Topic2\", \"Topic2\", \"Topic2\", \"Topic2\", \"Topic2\", \"Topic2\", \"Topic2\", \"Topic2\", \"Topic2\", \"Topic2\", \"Topic2\", \"Topic2\", \"Topic2\", \"Topic2\", \"Topic2\", \"Topic2\", \"Topic2\", \"Topic2\", \"Topic2\", \"Topic2\", \"Topic2\", \"Topic2\", \"Topic2\", \"Topic2\", \"Topic2\", \"Topic2\", \"Topic2\", \"Topic2\", \"Topic3\", \"Topic3\", \"Topic3\", \"Topic3\", \"Topic3\", \"Topic3\", \"Topic3\", \"Topic3\", \"Topic3\", \"Topic3\", \"Topic3\", \"Topic3\", \"Topic3\", \"Topic3\", \"Topic3\", \"Topic3\", \"Topic3\", \"Topic3\", \"Topic3\", \"Topic3\", \"Topic3\", \"Topic3\", \"Topic3\", \"Topic3\", \"Topic3\", \"Topic3\", \"Topic3\", \"Topic3\", \"Topic3\", \"Topic3\", \"Topic3\", \"Topic3\", \"Topic3\", \"Topic3\", \"Topic3\", \"Topic3\", \"Topic3\", \"Topic3\", \"Topic3\"], \"Freq\": [3.0, 1.0, 1.0, 1.0, 1.0, 1.0, 1.0, 1.0, 4.0, 2.0, 2.0, 2.0, 2.0, 2.0, 2.0, 2.0, 2.0, 2.0, 2.0, 4.0, 3.0, 3.0, 3.0, 3.0, 3.0, 2.0, 2.0, 2.0, 2.0, 2.0, 2.4766201160582075, 2.427141792880804, 2.405758131981942, 2.3902768566821644, 1.7823711986485793, 1.8000047485990907, 1.8133554436971826, 1.8075840593299888, 1.7535205805729615, 1.8234046721764017, 1.7823553145601811, 1.777036688120971, 2.2743695484894255, 1.77802060907266, 1.7801369070699278, 1.790810477478849, 1.7963938813106584, 1.722620402781361, 3.120532191525941, 4.5712967296416975, 2.470571681329206, 1.7976003251807158, 1.7781203473791383, 1.7983324794763778, 1.7710163173676623, 1.7850711548950837, 1.1185998425408614, 1.1286219043736234, 1.087621914301096, 1.1048564731941342, 3.1980727311891872, 2.1384522244866715, 2.127680952262252, 1.5527434331552894, 1.5372571082926956, 1.5191599851023496, 1.5296407671917478, 1.5293072146574642, 1.5227804916897003, 1.5020140724528688, 1.539502715262066, 1.5435531939760916, 0.9403023989949238, 0.9335125306512707, 0.9584575161852272, 0.9391740226838412, 0.9140260817670373, 0.9084106738776552, 0.9351023222399466, 0.9278914425859611, 0.9367692688993419, 0.9092462111475816, 2.1065437572566803, 0.9209442318194273, 0.3624949669833135, 0.35465647069123757, 0.33920342100071377, 0.34239118276787034, 0.34037409499440663, 0.34012424309384914, 0.5064633946364904, 0.37173608682014314, 0.4040522220829159, 0.39281986091982496, 0.39864840826624837, 0.372191950829801, 1.080441550908509, 1.0948689578432036, 1.0709722354510658, 1.0885704099500695, 1.0758509808348953, 1.0677578415401578, 1.08013660163979, 1.068581395899559, 0.6509018323768793, 0.2592167992080471, 0.24752107028520945, 0.2704358476129836, 0.23981195100795216, 0.23915194613489638, 0.2495951674217993, 0.23675826104726014, 0.2668083242572921, 0.2479353904820287, 0.2540924572983043, 0.23706833190880688, 0.23851538655999968, 0.2414577329684237, 0.2580948169648688, 0.2529496706955641, 0.24024615057868798, 0.24992064108604892, 0.25507667303240933, 0.23699432528884934, 0.24329059960987584, 0.24445575385279006, 0.6470893944545554, 0.266967400812176, 0.2580193173885679, 0.2646203720087373, 0.25943238580353056, 0.253848225274395, 0.24315223612974385, 0.2468613865992547, 0.24563680941531565], \"Term\": [\"justicia\", \"disparatado\", \"adelante\", \"cosas\", \"lleva\", \"insisti\\u00f3\", \"todas\", \"tan\", \"gobierno\", \"iguales\", \"ley\", \"frigerio\", \"ahora\", \"ministro\", \"entienden\", \"rogelio\", \"interior\", \"todav\\u00eda\", \"dijo\", \"hugo\", \"pedido\", \"gente\", \"distraer\", \"camioneros\", \"pablo\", \"sindicato\", \"barrabravas\", \"junto\", \"secretario\", \"contest\\u00f3\", \"pedido\", \"gente\", \"distraer\", \"camioneros\", \"dirigentes\", \"club\", \"imputado\", \"junto\", \"barrabravas\", \"integrar\", \"detenci\\u00f3n\", \"zamora\", \"disparate\", \"lomas\", \"general\", \"sindicato\", \"secretario\", \"atenci\\u00f3n\", \"gobierno\", \"moyano\", \"hugo\", \"il\\u00edcita\", \"independiente\", \"si\", \"asociaci\\u00f3n\", \"pablo\", \"fiscal\", \"hoy\", \"radio\", \"di\\u00e1logo\", \"justicia\", \"iguales\", \"ley\", \"ahora\", \"frigerio\", \"ministro\", \"todav\\u00eda\", \"entienden\", \"rogelio\", \"dijo\", \"interior\", \"pablo\", \"contest\\u00f3\", \"mitre\", \"hoy\", \"di\\u00e1logo\", \"radio\", \"fiscal\", \"asociaci\\u00f3n\", \"independiente\", \"il\\u00edcita\", \"si\", \"moyano\", \"hugo\", \"disparatado\", \"lleva\", \"todas\", \"insisti\\u00f3\", \"tan\", \"cosas\", \"disparate\", \"atenci\\u00f3n\", \"camioneros\", \"distraer\", \"gobierno\", \"gente\", \"cosas\", \"disparatado\", \"todas\", \"adelante\", \"insisti\\u00f3\", \"tan\", \"lleva\", \"gobierno\", \"hugo\", \"frigerio\", \"ministro\", \"sindicato\", \"rogelio\", \"entienden\", \"mitre\", \"dijo\", \"secretario\", \"contest\\u00f3\", \"barrabravas\", \"ahora\", \"interior\", \"radio\", \"junto\", \"general\", \"di\\u00e1logo\", \"lomas\", \"integrar\", \"fiscal\", \"atenci\\u00f3n\", \"detenci\\u00f3n\", \"moyano\", \"si\", \"iguales\", \"disparate\", \"camioneros\", \"distraer\", \"imputado\", \"ley\", \"gente\"], \"Total\": [3.0, 1.0, 1.0, 1.0, 1.0, 1.0, 1.0, 1.0, 4.0, 2.0, 2.0, 2.0, 2.0, 2.0, 2.0, 2.0, 2.0, 2.0, 2.0, 4.0, 3.0, 3.0, 3.0, 3.0, 3.0, 2.0, 2.0, 2.0, 2.0, 2.0, 3.040615170970879, 3.044970553125921, 3.052426218176162, 3.053761464568611, 2.355897519586529, 2.382620733832388, 2.411108995264596, 2.406791878383527, 2.336298384916569, 2.4323923195671258, 2.3778150535927587, 2.3726000609728484, 3.0454533151346532, 2.3830930889518673, 2.3879842662359296, 2.4156369385935554, 2.4254004356282444, 2.33764708921138, 4.587761995691748, 7.324929881352933, 4.042417745525513, 2.968243468415417, 2.9381836717736487, 2.9745460914361357, 2.9455248393380167, 3.5707366925341093, 2.264004841707366, 2.323044311990756, 2.243105729036557, 2.2842766464566635, 3.9985703391154126, 2.802477290770753, 2.8026846336953555, 2.1882646745427, 2.174259997348812, 2.148849469997902, 2.166091559337918, 2.1668595484318725, 2.171212269436353, 2.1471534742373555, 2.2024137416450422, 3.5707366925341093, 2.2543428694809, 2.261527434699928, 2.323044311990756, 2.2842766464566635, 2.243105729036557, 2.264004841707366, 2.9455248393380167, 2.9381836717736487, 2.968243468415417, 2.9745460914361357, 7.324929881352933, 4.042417745525513, 1.8429581662719774, 1.8421709157164265, 1.80517133216585, 1.8245298289649452, 1.814940526935855, 1.8146802792855892, 3.0454533151346532, 2.33764708921138, 3.053761464568611, 3.052426218176162, 4.587761995691748, 3.044970553125921, 1.8146802792855892, 1.8429581662719774, 1.80517133216585, 1.841552245946658, 1.8245298289649452, 1.814940526935855, 1.8421709157164265, 4.587761995691748, 4.042417745525513, 2.174259997348812, 2.148849469997902, 2.4156369385935554, 2.171212269436353, 2.1668595484318725, 2.261527434699928, 2.1471534742373555, 2.4254004356282444, 2.2543428694809, 2.336298384916569, 2.1882646745427, 2.2024137416450422, 2.243105729036557, 2.406791878383527, 2.3879842662359296, 2.2842766464566635, 2.3830930889518673, 2.4323923195671258, 2.264004841707366, 2.33764708921138, 2.3778150535927587, 7.324929881352933, 2.9745460914361357, 2.802477290770753, 3.0454533151346532, 3.053761464568611, 3.052426218176162, 2.411108995264596, 2.8026846336953555, 3.044970553125921], \"loglift\": [30.0, 29.0, 28.0, 27.0, 26.0, 25.0, 24.0, 23.0, 22.0, 21.0, 20.0, 19.0, 18.0, 17.0, 16.0, 15.0, 14.0, 13.0, 12.0, 11.0, 10.0, 9.0, 8.0, 7.0, 6.0, 5.0, 4.0, 3.0, 2.0, 1.0, 0.4465, 0.4249, 0.4136, 0.4067, 0.3727, 0.3712, 0.3667, 0.3653, 0.3647, 0.3635, 0.3634, 0.3626, 0.3597, 0.3587, 0.3579, 0.3523, 0.3514, 0.3463, 0.2662, 0.1801, 0.1592, 0.1501, 0.1494, 0.1484, 0.1429, -0.0417, -0.0534, -0.0702, -0.0722, -0.0747, 0.8913, 0.8443, 0.8392, 0.7716, 0.768, 0.7679, 0.7668, 0.7662, 0.76, 0.7574, 0.7566, 0.276, 0.2403, 0.2299, 0.2294, 0.2259, 0.217, 0.2015, -0.0327, -0.0379, -0.0386, -0.0705, -0.1315, -0.3645, -0.5114, -0.5328, -0.5571, -0.5584, -0.5591, -0.5596, -0.6792, -0.724, -0.9079, -0.9356, -1.3284, -0.9871, 1.3733, 1.3711, 1.3697, 1.3661, 1.3636, 1.3613, 1.358, 0.4348, 0.0656, -0.235, -0.2694, -0.2979, -0.3114, -0.3121, -0.3121, -0.313, -0.3154, -0.3156, -0.3268, -0.3307, -0.331, -0.3371, -0.3409, -0.3532, -0.3603, -0.3632, -0.3632, -0.365, -0.3708, -0.3831, -0.5347, -0.5189, -0.4934, -0.5513, -0.5738, -0.5951, -0.4023, -0.5377, -0.6256], \"logprob\": [30.0, 29.0, 28.0, 27.0, 26.0, 25.0, 24.0, 23.0, 22.0, 21.0, 20.0, 19.0, 18.0, 17.0, 16.0, 15.0, 14.0, 13.0, 12.0, 11.0, 10.0, 9.0, 8.0, 7.0, 6.0, 5.0, 4.0, 3.0, 2.0, 1.0, -3.3167, -3.3368, -3.3457, -3.3522, -3.6456, -3.6358, -3.6284, -3.6316, -3.6619, -3.6229, -3.6456, -3.6486, -3.4019, -3.6481, -3.6469, -3.6409, -3.6378, -3.6797, -3.0856, -2.7038, -3.3191, -3.6371, -3.648, -3.6367, -3.652, -3.6441, -4.1115, -4.1026, -4.1396, -4.1238, -2.5979, -3.0004, -3.0055, -3.3205, -3.3305, -3.3423, -3.3355, -3.3357, -3.3399, -3.3537, -3.329, -3.3264, -3.822, -3.8293, -3.8029, -3.8232, -3.8504, -3.8565, -3.8276, -3.8353, -3.8258, -3.8556, -3.0154, -3.8428, -4.7752, -4.7971, -4.8416, -4.8323, -4.8382, -4.8389, -4.4408, -4.7501, -4.6667, -4.6949, -4.6802, -4.7488, -2.906, -2.8927, -2.9148, -2.8985, -2.9103, -2.9178, -2.9063, -2.917, -3.4128, -4.3335, -4.3796, -4.2911, -4.4113, -4.414, -4.3713, -4.4241, -4.3046, -4.378, -4.3534, -4.4228, -4.4167, -4.4044, -4.3378, -4.3579, -4.4095, -4.37, -4.3496, -4.4231, -4.3969, -4.3921, -3.4186, -4.304, -4.3381, -4.3128, -4.3326, -4.3544, -4.3974, -4.3823, -4.3873]}, \"token.table\": {\"Topic\": [3, 2, 1, 2, 1, 1, 1, 1, 1, 2, 3, 1, 2, 1, 3, 1, 2, 1, 1, 2, 2, 1, 2, 2, 1, 1, 1, 3, 1, 2, 1, 2, 3, 2, 1, 2, 1, 1, 2, 3, 1, 2, 1, 1, 2, 2, 3, 1, 2, 1, 2, 1, 2, 3, 1, 2, 1, 1, 2, 2, 1, 1, 2, 1, 3, 3, 2, 1], \"Freq\": [0.5430201625835197, 0.9139662232211269, 0.6789961412953096, 0.3394980706476548, 0.8555611363367567, 0.8560550368532749, 0.6549300013131607, 0.8394118172484163, 0.4435882462858308, 0.4435882462858308, 0.5510612593385784, 0.8411083094869388, 0.9314657866785128, 0.8489333612232035, 0.5426059138514506, 0.6567166832145549, 0.32835834160727745, 0.6552164924055097, 0.43777534632295323, 0.43777534632295323, 0.9229947559117865, 0.4416951684811172, 0.4416951684811172, 0.9198531925522723, 0.83752645621594, 0.656820801746943, 0.6539136081638988, 0.21797120272129958, 0.4304696190418512, 0.4304696190418512, 0.49475341884538476, 0.24737670942269238, 0.24737670942269238, 0.7136543109863877, 0.6737991749267424, 0.3368995874633712, 0.8294938154716308, 0.6806926398827512, 0.3403463199413756, 0.548086407865033, 0.8222357815847423, 0.9080945883066213, 0.8309816972389236, 0.25008938575311546, 0.7502681572593463, 0.7136015147601493, 0.5428377961396142, 0.8392454366437027, 0.9307306202336977, 0.44217902673052717, 0.44217902673052717, 0.6826003908554121, 0.2730401563421649, 0.13652007817108244, 0.5601085076314108, 0.5601085076314108, 0.6577616329400189, 0.44581046138628205, 0.44581046138628205, 0.9211443893135333, 0.8246061024071457, 0.6723714941779179, 0.33618574708895893, 0.8279389870418401, 0.550982241654105, 0.553964037751584, 0.9233220042699003, 0.8429570718210007], \"Term\": [\"adelante\", \"ahora\", \"asociaci\\u00f3n\", \"asociaci\\u00f3n\", \"atenci\\u00f3n\", \"barrabravas\", \"camioneros\", \"club\", \"contest\\u00f3\", \"contest\\u00f3\", \"cosas\", \"detenci\\u00f3n\", \"dijo\", \"dirigentes\", \"disparatado\", \"disparate\", \"disparate\", \"distraer\", \"di\\u00e1logo\", \"di\\u00e1logo\", \"entienden\", \"fiscal\", \"fiscal\", \"frigerio\", \"general\", \"gente\", \"gobierno\", \"gobierno\", \"hoy\", \"hoy\", \"hugo\", \"hugo\", \"hugo\", \"iguales\", \"il\\u00edcita\", \"il\\u00edcita\", \"imputado\", \"independiente\", \"independiente\", \"insisti\\u00f3\", \"integrar\", \"interior\", \"junto\", \"justicia\", \"justicia\", \"ley\", \"lleva\", \"lomas\", \"ministro\", \"mitre\", \"mitre\", \"moyano\", \"moyano\", \"moyano\", \"pablo\", \"pablo\", \"pedido\", \"radio\", \"radio\", \"rogelio\", \"secretario\", \"si\", \"si\", \"sindicato\", \"tan\", \"todas\", \"todav\\u00eda\", \"zamora\"]}, \"R\": 30, \"lambda.step\": 0.01, \"plot.opts\": {\"xlab\": \"PC1\", \"ylab\": \"PC2\"}, \"topic.order\": [1, 3, 2]};\n",
       "\n",
       "function LDAvis_load_lib(url, callback){\n",
       "  var s = document.createElement('script');\n",
       "  s.src = url;\n",
       "  s.async = true;\n",
       "  s.onreadystatechange = s.onload = callback;\n",
       "  s.onerror = function(){console.warn(\"failed to load library \" + url);};\n",
       "  document.getElementsByTagName(\"head\")[0].appendChild(s);\n",
       "}\n",
       "\n",
       "if(typeof(LDAvis) !== \"undefined\"){\n",
       "   // already loaded: just create the visualization\n",
       "   !function(LDAvis){\n",
       "       new LDAvis(\"#\" + \"ldavis_el107421400649558212965927529027\", ldavis_el107421400649558212965927529027_data);\n",
       "   }(LDAvis);\n",
       "}else if(typeof define === \"function\" && define.amd){\n",
       "   // require.js is available: use it to load d3/LDAvis\n",
       "   require.config({paths: {d3: \"https://cdnjs.cloudflare.com/ajax/libs/d3/3.5.5/d3.min\"}});\n",
       "   require([\"d3\"], function(d3){\n",
       "      window.d3 = d3;\n",
       "      LDAvis_load_lib(\"https://cdn.rawgit.com/bmabey/pyLDAvis/files/ldavis.v1.0.0.js\", function(){\n",
       "        new LDAvis(\"#\" + \"ldavis_el107421400649558212965927529027\", ldavis_el107421400649558212965927529027_data);\n",
       "      });\n",
       "    });\n",
       "}else{\n",
       "    // require.js not available: dynamically load d3 & LDAvis\n",
       "    LDAvis_load_lib(\"https://cdnjs.cloudflare.com/ajax/libs/d3/3.5.5/d3.min.js\", function(){\n",
       "         LDAvis_load_lib(\"https://cdn.rawgit.com/bmabey/pyLDAvis/files/ldavis.v1.0.0.js\", function(){\n",
       "                 new LDAvis(\"#\" + \"ldavis_el107421400649558212965927529027\", ldavis_el107421400649558212965927529027_data);\n",
       "            })\n",
       "         });\n",
       "}\n",
       "</script>"
      ],
      "text/plain": [
       "PreparedData(topic_coordinates=                x           y  topics  cluster       Freq\n",
       "topic                                                    \n",
       "0     -372.142456 -195.243271       1        1  52.119345\n",
       "2     -437.769562 -443.703552       2        1  32.801051\n",
       "1     -620.127258 -262.638367       3        1  15.079604, topic_info=     Category      Freq         Term     Total  loglift  logprob\n",
       "term                                                            \n",
       "32    Default  3.000000     justicia  3.000000  30.0000  30.0000\n",
       "12    Default  1.000000  disparatado  1.000000  29.0000  29.0000\n",
       "0     Default  1.000000     adelante  1.000000  28.0000  28.0000\n",
       "8     Default  1.000000        cosas  1.000000  27.0000  27.0000\n",
       "34    Default  1.000000        lleva  1.000000  26.0000  26.0000\n",
       "28    Default  1.000000     insistió  1.000000  25.0000  25.0000\n",
       "47    Default  1.000000        todas  1.000000  24.0000  24.0000\n",
       "46    Default  1.000000          tan  1.000000  23.0000  23.0000\n",
       "21    Default  4.000000     gobierno  4.000000  22.0000  22.0000\n",
       "24    Default  2.000000      iguales  2.000000  21.0000  21.0000\n",
       "33    Default  2.000000          ley  2.000000  20.0000  20.0000\n",
       "18    Default  2.000000     frigerio  2.000000  19.0000  19.0000\n",
       "1     Default  2.000000        ahora  2.000000  18.0000  18.0000\n",
       "36    Default  2.000000     ministro  2.000000  17.0000  17.0000\n",
       "16    Default  2.000000    entienden  2.000000  16.0000  16.0000\n",
       "42    Default  2.000000      rogelio  2.000000  15.0000  15.0000\n",
       "30    Default  2.000000     interior  2.000000  14.0000  14.0000\n",
       "48    Default  2.000000      todavía  2.000000  13.0000  13.0000\n",
       "10    Default  2.000000         dijo  2.000000  12.0000  12.0000\n",
       "23    Default  4.000000         hugo  4.000000  11.0000  11.0000\n",
       "40    Default  3.000000       pedido  3.000000  10.0000  10.0000\n",
       "20    Default  3.000000        gente  3.000000   9.0000   9.0000\n",
       "14    Default  3.000000     distraer  3.000000   8.0000   8.0000\n",
       "5     Default  3.000000   camioneros  3.000000   7.0000   7.0000\n",
       "39    Default  3.000000        pablo  3.000000   6.0000   6.0000\n",
       "45    Default  2.000000    sindicato  2.000000   5.0000   5.0000\n",
       "4     Default  2.000000  barrabravas  2.000000   4.0000   4.0000\n",
       "31    Default  2.000000        junto  2.000000   3.0000   3.0000\n",
       "43    Default  2.000000   secretario  2.000000   2.0000   2.0000\n",
       "7     Default  2.000000     contestó  2.000000   1.0000   1.0000\n",
       "...       ...       ...          ...       ...      ...      ...\n",
       "18     Topic3  0.259217     frigerio  2.174260  -0.2350  -4.3335\n",
       "36     Topic3  0.247521     ministro  2.148849  -0.2694  -4.3796\n",
       "45     Topic3  0.270436    sindicato  2.415637  -0.2979  -4.2911\n",
       "42     Topic3  0.239812      rogelio  2.171212  -0.3114  -4.4113\n",
       "16     Topic3  0.239152    entienden  2.166860  -0.3121  -4.4140\n",
       "37     Topic3  0.249595        mitre  2.261527  -0.3121  -4.3713\n",
       "10     Topic3  0.236758         dijo  2.147153  -0.3130  -4.4241\n",
       "43     Topic3  0.266808   secretario  2.425400  -0.3154  -4.3046\n",
       "7      Topic3  0.247935     contestó  2.254343  -0.3156  -4.3780\n",
       "4      Topic3  0.254092  barrabravas  2.336298  -0.3268  -4.3534\n",
       "1      Topic3  0.237068        ahora  2.188265  -0.3307  -4.4228\n",
       "30     Topic3  0.238515     interior  2.202414  -0.3310  -4.4167\n",
       "41     Topic3  0.241458        radio  2.243106  -0.3371  -4.4044\n",
       "31     Topic3  0.258095        junto  2.406792  -0.3409  -4.3378\n",
       "19     Topic3  0.252950      general  2.387984  -0.3532  -4.3579\n",
       "15     Topic3  0.240246      diálogo  2.284277  -0.3603  -4.4095\n",
       "35     Topic3  0.249921        lomas  2.383093  -0.3632  -4.3700\n",
       "29     Topic3  0.255077     integrar  2.432392  -0.3632  -4.3496\n",
       "17     Topic3  0.236994       fiscal  2.264005  -0.3650  -4.4231\n",
       "3      Topic3  0.243291     atención  2.337647  -0.3708  -4.3969\n",
       "9      Topic3  0.244456    detención  2.377815  -0.3831  -4.3921\n",
       "38     Topic3  0.647089       moyano  7.324930  -0.5347  -3.4186\n",
       "44     Topic3  0.266967           si  2.974546  -0.5189  -4.3040\n",
       "24     Topic3  0.258019      iguales  2.802477  -0.4934  -4.3381\n",
       "13     Topic3  0.264620    disparate  3.045453  -0.5513  -4.3128\n",
       "5      Topic3  0.259432   camioneros  3.053761  -0.5738  -4.3326\n",
       "14     Topic3  0.253848     distraer  3.052426  -0.5951  -4.3544\n",
       "26     Topic3  0.243152     imputado  2.411109  -0.4023  -4.3974\n",
       "33     Topic3  0.246861          ley  2.802685  -0.5377  -4.3823\n",
       "20     Topic3  0.245637        gente  3.044971  -0.6256  -4.3873\n",
       "\n",
       "[135 rows x 6 columns], token_table=      Topic      Freq           Term\n",
       "term                                \n",
       "0         3  0.543020       adelante\n",
       "1         2  0.913966          ahora\n",
       "2         1  0.678996     asociación\n",
       "2         2  0.339498     asociación\n",
       "3         1  0.855561       atención\n",
       "4         1  0.856055    barrabravas\n",
       "5         1  0.654930     camioneros\n",
       "6         1  0.839412           club\n",
       "7         1  0.443588       contestó\n",
       "7         2  0.443588       contestó\n",
       "8         3  0.551061          cosas\n",
       "9         1  0.841108      detención\n",
       "10        2  0.931466           dijo\n",
       "11        1  0.848933     dirigentes\n",
       "12        3  0.542606    disparatado\n",
       "13        1  0.656717      disparate\n",
       "13        2  0.328358      disparate\n",
       "14        1  0.655216       distraer\n",
       "15        1  0.437775        diálogo\n",
       "15        2  0.437775        diálogo\n",
       "16        2  0.922995      entienden\n",
       "17        1  0.441695         fiscal\n",
       "17        2  0.441695         fiscal\n",
       "18        2  0.919853       frigerio\n",
       "19        1  0.837526        general\n",
       "20        1  0.656821          gente\n",
       "21        1  0.653914       gobierno\n",
       "21        3  0.217971       gobierno\n",
       "22        1  0.430470            hoy\n",
       "22        2  0.430470            hoy\n",
       "...     ...       ...            ...\n",
       "27        2  0.340346  independiente\n",
       "28        3  0.548086       insistió\n",
       "29        1  0.822236       integrar\n",
       "30        2  0.908095       interior\n",
       "31        1  0.830982          junto\n",
       "32        1  0.250089       justicia\n",
       "32        2  0.750268       justicia\n",
       "33        2  0.713602            ley\n",
       "34        3  0.542838          lleva\n",
       "35        1  0.839245          lomas\n",
       "36        2  0.930731       ministro\n",
       "37        1  0.442179          mitre\n",
       "37        2  0.442179          mitre\n",
       "38        1  0.682600         moyano\n",
       "38        2  0.273040         moyano\n",
       "38        3  0.136520         moyano\n",
       "39        1  0.560109          pablo\n",
       "39        2  0.560109          pablo\n",
       "40        1  0.657762         pedido\n",
       "41        1  0.445810          radio\n",
       "41        2  0.445810          radio\n",
       "42        2  0.921144        rogelio\n",
       "43        1  0.824606     secretario\n",
       "44        1  0.672371             si\n",
       "44        2  0.336186             si\n",
       "45        1  0.827939      sindicato\n",
       "46        3  0.550982            tan\n",
       "47        3  0.553964          todas\n",
       "48        2  0.923322        todavía\n",
       "49        1  0.842957         zamora\n",
       "\n",
       "[68 rows x 3 columns], R=30, lambda_step=0.01, plot_opts={'xlab': 'PC1', 'ylab': 'PC2'}, topic_order=[1, 3, 2])"
      ]
     },
     "execution_count": 57,
     "metadata": {},
     "output_type": "execute_result"
    }
   ],
   "source": [
    "import pyLDAvis.sklearn\n",
    " \n",
    "pyLDAvis.enable_notebook()\n",
    "panel = pyLDAvis.sklearn.prepare(lda_model, data_vectorized, vectorizer, mds='tsne')\n",
    "panel"
   ]
  },
  {
   "cell_type": "code",
   "execution_count": 33,
   "metadata": {},
   "outputs": [],
   "source": [
    "import pandas as pd\n",
    "df = pd.read_csv('./data/hugo-moyano-pedido-detencion-hijo.csv', index_col= 0).dropna()"
   ]
  },
  {
   "cell_type": "code",
   "execution_count": 67,
   "metadata": {},
   "outputs": [
    {
     "name": "stdout",
     "output_type": "stream",
     "text": [
      "Alguien en su sano juicio duda de la acusación del Fiscal.....? \n",
      "[0.20505667 0.17293364 0.62200968] 0.9999999999999999\n"
     ]
    }
   ],
   "source": [
    "text = df.iloc[19].comments\n",
    "print(text)\n",
    "x = lda_model.transform(vectorizer.transform([text]))[0]\n",
    "print(x, x.sum())\n",
    "#distribución uniforme no comparte ninguna palabra, habría que ver si hay un topic minoritario también"
   ]
  },
  {
   "cell_type": "code",
   "execution_count": null,
   "metadata": {},
   "outputs": [],
   "source": []
  }
 ],
 "metadata": {
  "kernelspec": {
   "display_name": "Python 3",
   "language": "python",
   "name": "python3"
  },
  "language_info": {
   "codemirror_mode": {
    "name": "ipython",
    "version": 3
   },
   "file_extension": ".py",
   "mimetype": "text/x-python",
   "name": "python",
   "nbconvert_exporter": "python",
   "pygments_lexer": "ipython3",
   "version": "3.6.5"
  }
 },
 "nbformat": 4,
 "nbformat_minor": 2
}
