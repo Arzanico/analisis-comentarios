{
 "cells": [
  {
   "cell_type": "code",
   "execution_count": 1,
   "metadata": {},
   "outputs": [],
   "source": [
    "#bajar un noticia y sus comentarios para hacer pruebas"
   ]
  },
  {
   "cell_type": "code",
   "execution_count": null,
   "metadata": {},
   "outputs": [],
   "source": [
    "#noticia"
   ]
  },
  {
   "cell_type": "code",
   "execution_count": 2,
   "metadata": {},
   "outputs": [],
   "source": [
    "import requests\n",
    "import json\n",
    "from bs4 import BeautifulSoup"
   ]
  },
  {
   "cell_type": "code",
   "execution_count": 3,
   "metadata": {},
   "outputs": [],
   "source": [
    "url = 'https://www.lanacion.com.ar/2181393-la-relacion-entre-macri-y-vidal-un-vinculo-desgastado-por-la-crisis'"
   ]
  },
  {
   "cell_type": "code",
   "execution_count": 4,
   "metadata": {},
   "outputs": [],
   "source": [
    "response =  requests.get(url)"
   ]
  },
  {
   "cell_type": "code",
   "execution_count": 5,
   "metadata": {},
   "outputs": [],
   "source": [
    "html_soup = BeautifulSoup(response.text, 'html.parser')\n"
   ]
  },
  {
   "cell_type": "code",
   "execution_count": 6,
   "metadata": {},
   "outputs": [],
   "source": [
    "titulo = html_soup.find_all('h1')[0].text"
   ]
  },
  {
   "cell_type": "code",
   "execution_count": 7,
   "metadata": {},
   "outputs": [],
   "source": [
    "texto = \"\"\n",
    "for parrafo in html_soup.find_all(\"article\", {\"id\": \"nota\"})[0].find_all('p'):\n",
    "    texto +=  parrafo.text.replace('\\r\\n', '').strip().replace('\\n', '')"
   ]
  },
  {
   "cell_type": "code",
   "execution_count": 45,
   "metadata": {},
   "outputs": [
    {
     "name": "stdout",
     "output_type": "stream",
     "text": [
      "[nltk_data] Downloading package punkt to /home/pablo/nltk_data...\n",
      "[nltk_data]   Unzipping tokenizers/punkt.zip.\n"
     ]
    },
    {
     "data": {
      "text/plain": [
       "True"
      ]
     },
     "execution_count": 45,
     "metadata": {},
     "output_type": "execute_result"
    }
   ],
   "source": [
    "#import nltk\n",
    "#nltk.download('punkt')"
   ]
  },
  {
   "cell_type": "code",
   "execution_count": 9,
   "metadata": {},
   "outputs": [
    {
     "data": {
      "text/plain": [
       "27"
      ]
     },
     "execution_count": 9,
     "metadata": {},
     "output_type": "execute_result"
    }
   ],
   "source": [
    "from nltk.tokenize import sent_tokenize\n",
    "sent_tokenize_list = sent_tokenize(texto, language='spanish')\n",
    "len(sent_tokenize_list)"
   ]
  },
  {
   "cell_type": "code",
   "execution_count": 10,
   "metadata": {},
   "outputs": [],
   "source": [
    "from sklearn.decomposition import NMF, LatentDirichletAllocation, TruncatedSVD\n",
    "from sklearn.feature_extraction.text import CountVectorizer"
   ]
  },
  {
   "cell_type": "code",
   "execution_count": 11,
   "metadata": {},
   "outputs": [],
   "source": [
    "#nltk.download('stopwords')"
   ]
  },
  {
   "cell_type": "code",
   "execution_count": 12,
   "metadata": {},
   "outputs": [],
   "source": [
    "from nltk.corpus import stopwords"
   ]
  },
  {
   "cell_type": "code",
   "execution_count": 13,
   "metadata": {},
   "outputs": [],
   "source": [
    "vectorizer = CountVectorizer(min_df=2, max_df=0.9, \n",
    "                             stop_words=stopwords.words('spanish'), lowercase=True, \n",
    "                             )\n",
    "data_vectorized = vectorizer.fit_transform(sent_tokenize_list)"
   ]
  },
  {
   "cell_type": "code",
   "execution_count": 14,
   "metadata": {},
   "outputs": [
    {
     "data": {
      "text/plain": [
       "{'macri': 21,\n",
       " 'vidal': 43,\n",
       " 'gobernadora': 15,\n",
       " 'decisiones': 7,\n",
       " 'si': 40,\n",
       " 'diferencias': 8,\n",
       " 'abrieron': 1,\n",
       " 'tomar': 42,\n",
       " 'distancia': 9,\n",
       " 'relación': 38,\n",
       " 'crisis': 6,\n",
       " 'gobierno': 17,\n",
       " 'nacional': 29,\n",
       " 'pidió': 32,\n",
       " 'política': 34,\n",
       " 'mesa': 25,\n",
       " 'políticas': 35,\n",
       " 'menos': 23,\n",
       " 'foto': 13,\n",
       " 'gobernadores': 16,\n",
       " 'morales': 27,\n",
       " 'pasado': 31,\n",
       " 'aumento': 2,\n",
       " 'casa': 5,\n",
       " 'rosada': 39,\n",
       " 'incluso': 18,\n",
       " 'intendente': 19,\n",
       " 'kirchnerista': 20,\n",
       " 'festa': 11,\n",
       " 'moreno': 28,\n",
       " 'medio': 22,\n",
       " 'mes': 24,\n",
       " 'ayuda': 3,\n",
       " 'bonaerense': 4,\n",
       " 'pierde': 33,\n",
       " 'sistema': 41,\n",
       " 'gobernación': 14,\n",
       " 'provincia': 37,\n",
       " 'encargó': 10,\n",
       " 'nación': 30,\n",
       " 'presupuesto': 36,\n",
       " '000': 0,\n",
       " 'millones': 26,\n",
       " 'fondo': 12}"
      ]
     },
     "execution_count": 14,
     "metadata": {},
     "output_type": "execute_result"
    }
   ],
   "source": [
    "vectorizer.vocabulary_"
   ]
  },
  {
   "cell_type": "code",
   "execution_count": 15,
   "metadata": {},
   "outputs": [
    {
     "name": "stdout",
     "output_type": "stream",
     "text": [
      "[0.33333333 0.33333333 0.33333333] 1.0\n"
     ]
    }
   ],
   "source": [
    "lda_model = LatentDirichletAllocation(n_components=3, max_iter=10, learning_method='online')\n",
    "lda_Z = lda_model.fit_transform(data_vectorized)\n"
   ]
  },
  {
   "cell_type": "code",
   "execution_count": 16,
   "metadata": {},
   "outputs": [
    {
     "name": "stderr",
     "output_type": "stream",
     "text": [
      "/home/pablo/anaconda3/lib/python3.6/site-packages/pyLDAvis/_prepare.py:257: FutureWarning: Sorting because non-concatenation axis is not aligned. A future version\n",
      "of pandas will change to not sort by default.\n",
      "\n",
      "To accept the future behavior, pass 'sort=True'.\n",
      "\n",
      "To retain the current behavior and silence the warning, pass sort=False\n",
      "\n",
      "  return pd.concat([default_term_info] + list(topic_dfs))\n"
     ]
    },
    {
     "data": {
      "text/html": [
       "\n",
       "<link rel=\"stylesheet\" type=\"text/css\" href=\"https://cdn.rawgit.com/bmabey/pyLDAvis/files/ldavis.v1.0.0.css\">\n",
       "\n",
       "\n",
       "<div id=\"ldavis_el82991405282554057768077400206\"></div>\n",
       "<script type=\"text/javascript\">\n",
       "\n",
       "var ldavis_el82991405282554057768077400206_data = {\"mdsDat\": {\"x\": [-372.1424560546875, -437.7695617675781, -620.1272583007812], \"y\": [-195.24327087402344, -443.70355224609375, -262.63836669921875], \"topics\": [1, 2, 3], \"cluster\": [1, 1, 1], \"Freq\": [47.64194535457594, 36.634164485102595, 15.723890160321465]}, \"tinfo\": {\"Category\": [\"Default\", \"Default\", \"Default\", \"Default\", \"Default\", \"Default\", \"Default\", \"Default\", \"Default\", \"Default\", \"Default\", \"Default\", \"Default\", \"Default\", \"Default\", \"Default\", \"Default\", \"Default\", \"Default\", \"Default\", \"Default\", \"Default\", \"Default\", \"Default\", \"Default\", \"Default\", \"Default\", \"Default\", \"Default\", \"Default\", \"Topic1\", \"Topic1\", \"Topic1\", \"Topic1\", \"Topic1\", \"Topic1\", \"Topic1\", \"Topic1\", \"Topic1\", \"Topic1\", \"Topic1\", \"Topic1\", \"Topic1\", \"Topic1\", \"Topic1\", \"Topic1\", \"Topic1\", \"Topic1\", \"Topic1\", \"Topic1\", \"Topic1\", \"Topic1\", \"Topic1\", \"Topic1\", \"Topic1\", \"Topic1\", \"Topic1\", \"Topic1\", \"Topic1\", \"Topic1\", \"Topic1\", \"Topic1\", \"Topic2\", \"Topic2\", \"Topic2\", \"Topic2\", \"Topic2\", \"Topic2\", \"Topic2\", \"Topic2\", \"Topic2\", \"Topic2\", \"Topic2\", \"Topic2\", \"Topic2\", \"Topic2\", \"Topic2\", \"Topic2\", \"Topic2\", \"Topic2\", \"Topic2\", \"Topic2\", \"Topic2\", \"Topic2\", \"Topic2\", \"Topic2\", \"Topic2\", \"Topic2\", \"Topic2\", \"Topic2\", \"Topic2\", \"Topic2\", \"Topic2\", \"Topic2\", \"Topic2\", \"Topic3\", \"Topic3\", \"Topic3\", \"Topic3\", \"Topic3\", \"Topic3\", \"Topic3\", \"Topic3\", \"Topic3\", \"Topic3\", \"Topic3\", \"Topic3\", \"Topic3\", \"Topic3\", \"Topic3\", \"Topic3\", \"Topic3\", \"Topic3\", \"Topic3\", \"Topic3\", \"Topic3\", \"Topic3\", \"Topic3\", \"Topic3\", \"Topic3\", \"Topic3\", \"Topic3\", \"Topic3\", \"Topic3\", \"Topic3\", \"Topic3\", \"Topic3\", \"Topic3\", \"Topic3\", \"Topic3\", \"Topic3\"], \"Freq\": [3.0, 3.0, 2.0, 2.0, 2.0, 2.0, 2.0, 2.0, 2.0, 2.0, 2.0, 2.0, 2.0, 2.0, 2.0, 2.0, 3.0, 2.0, 2.0, 3.0, 8.0, 3.0, 2.0, 5.0, 2.0, 2.0, 2.0, 2.0, 2.0, 2.0, 3.0312478789680974, 2.377694032120134, 2.31080758358806, 1.7045496027970528, 1.6951357778617693, 1.7061158876391147, 1.7141732884438161, 1.702374476380274, 1.6903574109539312, 1.6392458599242674, 1.7077407910255822, 1.7069649769361437, 1.7077718575143592, 1.7697750415661102, 1.0665077834694083, 1.0549749367349317, 1.0468626110205212, 1.009124119835247, 1.0232876761376921, 1.0606950970174809, 1.0340922436811966, 3.6913677225270383, 1.0725631922965428, 1.0489321090517398, 1.043905185448978, 1.0281726559656807, 0.9862627911390008, 1.6937472056323546, 1.0079151468878271, 2.3762366697201065, 1.0961001935790768, 1.0579130753850963, 2.9300790425619803, 1.604538773905691, 1.6115869354304302, 1.616054411176993, 2.3198835522661314, 1.6253860518607863, 1.6283381448242298, 2.8727081573713726, 4.162273735893007, 1.1069113731480322, 0.9996340519870162, 0.9846678566039341, 1.0031872637634944, 1.0051179394614083, 1.0657841308760634, 1.0088529112392408, 1.0419093414479341, 1.0281497888642759, 1.0137763722041102, 0.9860005346912926, 0.9978629926750284, 1.0116715516680543, 0.9830442700246347, 0.9592175144660263, 0.9963244122244536, 0.3863964282662945, 0.37876996697489207, 0.4004715834931696, 0.3757470836624129, 0.3641710765967587, 0.3844124057667391, 0.40866332707412917, 0.3808261685243631, 0.791555151058184, 0.7271659322085745, 0.73905936242909, 0.7258056738496762, 0.7348622831808092, 0.7127858053656347, 0.738386615454989, 0.7393566847118181, 0.7221134776454822, 0.6936269498441081, 1.203428855251713, 0.7309099458511406, 0.7201462449781848, 0.7156294783589832, 0.2812973660281369, 0.28268617610831787, 0.28375549347280704, 0.2719625288661958, 0.26746064630252003, 0.26865325455455513, 0.27300176649111496, 0.27843905848609063, 0.2719811258349253, 0.2730823564471429, 0.2669157459035069, 0.2604428283216272, 0.26371685974388615, 0.26640517244931977, 0.2628607671302438, 0.2546743153720854, 0.25916069148486404, 0.29007180179989533, 0.27553408641563437, 0.27037367165625703, 0.2753689964803921, 0.2667225410164465], \"Term\": [\"pol\\u00edtica\", \"bonaerense\", \"festa\", \"kirchnerista\", \"intendente\", \"moreno\", \"abrieron\", \"presupuesto\", \"foto\", \"medio\", \"incluso\", \"mesa\", \"rosada\", \"casa\", \"encarg\\u00f3\", \"si\", \"gobierno\", \"sistema\", \"diferencias\", \"gobernadora\", \"vidal\", \"nacional\", \"provincia\", \"macri\", \"naci\\u00f3n\", \"menos\", \"gobernadores\", \"decisiones\", \"distancia\", \"crisis\", \"gobierno\", \"nacional\", \"provincia\", \"menos\", \"morales\", \"naci\\u00f3n\", \"pol\\u00edticas\", \"crisis\", \"gobernadores\", \"gobernaci\\u00f3n\", \"casa\", \"rosada\", \"mesa\", \"aumento\", \"encarg\\u00f3\", \"presupuesto\", \"foto\", \"medio\", \"incluso\", \"millones\", \"pasado\", \"vidal\", \"pierde\", \"000\", \"tomar\", \"pidi\\u00f3\", \"relaci\\u00f3n\", \"pol\\u00edtica\", \"fondo\", \"macri\", \"distancia\", \"decisiones\", \"bonaerense\", \"si\", \"sistema\", \"diferencias\", \"gobernadora\", \"decisiones\", \"distancia\", \"macri\", \"vidal\", \"ayuda\", \"moreno\", \"abrieron\", \"intendente\", \"kirchnerista\", \"mes\", \"relaci\\u00f3n\", \"pidi\\u00f3\", \"fondo\", \"000\", \"pasado\", \"tomar\", \"pierde\", \"millones\", \"aumento\", \"pol\\u00edtica\", \"festa\", \"incluso\", \"gobernaci\\u00f3n\", \"foto\", \"presupuesto\", \"gobernadores\", \"provincia\", \"pol\\u00edticas\", \"festa\", \"medio\", \"kirchnerista\", \"moreno\", \"intendente\", \"abrieron\", \"presupuesto\", \"foto\", \"incluso\", \"encarg\\u00f3\", \"pol\\u00edtica\", \"mesa\", \"rosada\", \"casa\", \"ayuda\", \"fondo\", \"gobernadores\", \"mes\", \"si\", \"sistema\", \"tomar\", \"pierde\", \"millones\", \"naci\\u00f3n\", \"diferencias\", \"relaci\\u00f3n\", \"gobernaci\\u00f3n\", \"crisis\", \"pidi\\u00f3\", \"menos\", \"pol\\u00edticas\", \"aumento\", \"distancia\", \"nacional\", \"gobernadora\", \"bonaerense\"], \"Total\": [3.0, 3.0, 2.0, 2.0, 2.0, 2.0, 2.0, 2.0, 2.0, 2.0, 2.0, 2.0, 2.0, 2.0, 2.0, 2.0, 3.0, 2.0, 2.0, 3.0, 8.0, 3.0, 2.0, 5.0, 2.0, 2.0, 2.0, 2.0, 2.0, 2.0, 3.633365008392947, 3.0109188460069323, 2.981982206302476, 2.30027890778582, 2.3114993383897704, 2.340257073484757, 2.3541601484530434, 2.3397655268760125, 2.3585253101934773, 2.303434303161323, 2.789014550757706, 2.797279965638899, 2.8158464193272033, 3.0190643578320318, 2.1114989649479874, 2.1575326287866794, 2.161966379394752, 2.0874209963732255, 2.1241711207580662, 2.3157204928770407, 2.269287150845216, 8.117460399678173, 2.3626738024506877, 2.313691386280586, 2.3147699446151213, 2.3329427645438585, 2.2555585306998687, 3.8935004731085208, 2.3187511118604207, 5.512688289759984, 2.9999724248189406, 2.9274099704191285, 3.577920378167005, 2.251266339149231, 2.2774107230011316, 2.3048973635074423, 3.594112944067959, 2.9274099704191285, 2.9999724248189406, 5.512688289759984, 8.117460399678173, 2.3016531287076143, 2.1016032547407315, 2.073535901053535, 2.1300054708872955, 2.1342242037552643, 2.27611811259513, 2.2555585306998687, 2.3329427645438585, 2.3187511118604207, 2.313691386280586, 2.269287150845216, 2.3147699446151213, 2.3626738024506877, 2.3157204928770407, 3.0190643578320318, 3.8935004731085208, 2.0448433855470163, 2.1241711207580662, 2.303434303161323, 2.161966379394752, 2.1575326287866794, 2.3585253101934773, 2.981982206302476, 2.3541601484530434, 2.0448433855470163, 2.0874209963732255, 2.1342242037552643, 2.1016032547407315, 2.1300054708872955, 2.073535901053535, 2.1575326287866794, 2.161966379394752, 2.1241711207580662, 2.1114989649479874, 3.8935004731085208, 2.8158464193272033, 2.797279965638899, 2.789014550757706, 2.3016531287076143, 2.3187511118604207, 2.3585253101934773, 2.27611811259513, 2.251266339149231, 2.2774107230011316, 2.3147699446151213, 2.3626738024506877, 2.3157204928770407, 2.340257073484757, 2.3048973635074423, 2.2555585306998687, 2.303434303161323, 2.3397655268760125, 2.3329427645438585, 2.30027890778582, 2.3541601484530434, 3.0190643578320318, 2.9999724248189406, 3.0109188460069323, 3.594112944067959, 3.577920378167005], \"loglift\": [30.0, 29.0, 28.0, 27.0, 26.0, 25.0, 24.0, 23.0, 22.0, 21.0, 20.0, 19.0, 18.0, 17.0, 16.0, 15.0, 14.0, 13.0, 12.0, 11.0, 10.0, 9.0, 8.0, 7.0, 6.0, 5.0, 4.0, 3.0, 2.0, 1.0, 0.5603, 0.5053, 0.4865, 0.4417, 0.4313, 0.4254, 0.4242, 0.4234, 0.4084, 0.4013, 0.2509, 0.2475, 0.2414, 0.2074, 0.0584, 0.026, 0.0162, 0.0146, 0.0111, -0.0393, -0.0445, -0.0466, -0.0483, -0.0496, -0.0549, -0.0779, -0.0858, -0.0909, -0.0917, -0.1001, -0.2654, -0.2764, 0.8044, 0.6655, 0.6584, 0.6491, 0.5664, 0.4158, 0.3931, 0.3524, 0.3362, 0.2721, 0.2611, 0.2595, 0.2512, 0.2512, 0.2454, 0.1996, 0.1981, 0.1909, 0.179, 0.1706, 0.1627, 0.156, 0.1474, -0.1424, -0.3588, -0.662, -0.72, -0.7453, -0.7457, -0.7749, -0.8099, -0.9833, -0.8174, 0.9009, 0.7955, 0.7895, 0.7868, 0.7858, 0.7822, 0.7777, 0.777, 0.771, 0.7368, 0.6759, 0.5013, 0.493, 0.4897, -0.252, -0.2545, -0.2677, -0.2746, -0.2803, -0.2874, -0.2876, -0.2884, -0.2918, -0.2983, -0.3059, -0.3088, -0.3173, -0.3228, -0.3333, -0.3508, -0.3565, -0.4926, -0.5377, -0.5602, -0.719, -0.7463], \"logprob\": [30.0, 29.0, 28.0, 27.0, 26.0, 25.0, 24.0, 23.0, 22.0, 21.0, 20.0, 19.0, 18.0, 17.0, 16.0, 15.0, 14.0, 13.0, 12.0, 11.0, 10.0, 9.0, 8.0, 7.0, 6.0, 5.0, 4.0, 3.0, 2.0, 1.0, -2.9287, -3.1715, -3.2001, -3.5044, -3.5099, -3.5034, -3.4987, -3.5056, -3.5127, -3.5434, -3.5025, -3.5029, -3.5025, -3.4668, -3.9733, -3.9841, -3.9919, -4.0286, -4.0146, -3.9787, -4.0041, -2.7317, -3.9676, -3.9899, -3.9947, -4.0099, -4.0515, -3.5107, -4.0298, -3.1721, -3.9459, -3.9814, -2.6999, -3.3021, -3.2977, -3.2949, -2.9334, -3.2892, -3.2874, -2.7197, -2.3489, -3.6734, -3.7753, -3.7904, -3.7718, -3.7698, -3.7112, -3.7661, -3.7339, -3.7472, -3.7613, -3.789, -3.7771, -3.7633, -3.792, -3.8166, -3.7786, -4.7258, -4.7458, -4.69, -4.7538, -4.7851, -4.731, -4.6698, -4.7403, -3.1629, -3.2477, -3.2315, -3.2496, -3.2372, -3.2677, -3.2324, -3.2311, -3.2547, -3.295, -2.744, -3.2426, -3.2574, -3.2637, -4.1975, -4.1926, -4.1888, -4.2312, -4.2479, -4.2435, -4.2274, -4.2077, -4.2312, -4.2271, -4.25, -4.2745, -4.262, -4.2519, -4.2653, -4.2969, -4.2794, -4.1668, -4.2182, -4.2371, -4.2188, -4.2507]}, \"token.table\": {\"Topic\": [1, 2, 2, 3, 1, 2, 1, 2, 2, 1, 3, 1, 1, 2, 2, 1, 2, 1, 3, 1, 3, 1, 2, 1, 3, 1, 1, 2, 1, 1, 1, 3, 2, 3, 2, 3, 1, 2, 1, 3, 1, 1, 2, 1, 3, 1, 2, 1, 2, 3, 1, 1, 1, 2, 1, 2, 1, 2, 1, 2, 3, 1, 1, 3, 1, 1, 2, 1, 3, 2, 2, 1, 2, 1, 2], \"Freq\": [0.4322097605279877, 0.4322097605279877, 0.48226799424688704, 0.48226799424688704, 0.6624568949024279, 0.33122844745121394, 0.4344703324438393, 0.4344703324438393, 0.8384758974253425, 0.7170991630203757, 0.35854958151018784, 0.8547865061805328, 0.3415988912058075, 0.683197782411615, 0.8677175963082931, 0.3333363972705028, 0.6666727945410056, 0.4735972011355606, 0.4735972011355606, 0.48903500731059163, 0.48903500731059163, 0.4312666395651505, 0.4312666395651505, 0.46254188295007276, 0.46254188295007276, 0.8682687399658511, 0.2782327699663663, 0.5564655399327326, 0.8479875078533432, 0.8256808751859789, 0.47077186495366896, 0.47077186495366896, 0.46948236221357237, 0.46948236221357237, 0.468554333813877, 0.468554333813877, 0.36279939929037375, 0.5441990989355606, 0.4790600466975482, 0.4790600466975482, 0.8694597829987236, 0.43934451137065283, 0.43934451137065283, 0.7102660096348098, 0.3551330048174049, 0.43183104484151474, 0.43183104484151474, 0.8652392699334424, 0.4758272037047102, 0.4758272037047102, 0.6642490556171554, 0.8546069671832686, 0.4406670172294155, 0.4406670172294155, 0.4286431777058714, 0.4286431777058714, 0.42324928602617434, 0.42324928602617434, 0.5136765781366981, 0.25683828906834905, 0.25683828906834905, 0.8495598743841757, 0.4634924110336004, 0.4634924110336004, 0.6706948135951187, 0.4433491689039494, 0.4433491689039494, 0.7149802753272856, 0.3574901376636428, 0.8883888881649665, 0.8781902973410239, 0.432008374018469, 0.432008374018469, 0.492764953945274, 0.492764953945274], \"Term\": [\"000\", \"000\", \"abrieron\", \"abrieron\", \"aumento\", \"aumento\", \"ayuda\", \"ayuda\", \"bonaerense\", \"casa\", \"casa\", \"crisis\", \"decisiones\", \"decisiones\", \"diferencias\", \"distancia\", \"distancia\", \"encarg\\u00f3\", \"encarg\\u00f3\", \"festa\", \"festa\", \"fondo\", \"fondo\", \"foto\", \"foto\", \"gobernaci\\u00f3n\", \"gobernadora\", \"gobernadora\", \"gobernadores\", \"gobierno\", \"incluso\", \"incluso\", \"intendente\", \"intendente\", \"kirchnerista\", \"kirchnerista\", \"macri\", \"macri\", \"medio\", \"medio\", \"menos\", \"mes\", \"mes\", \"mesa\", \"mesa\", \"millones\", \"millones\", \"morales\", \"moreno\", \"moreno\", \"nacional\", \"naci\\u00f3n\", \"pasado\", \"pasado\", \"pidi\\u00f3\", \"pidi\\u00f3\", \"pierde\", \"pierde\", \"pol\\u00edtica\", \"pol\\u00edtica\", \"pol\\u00edtica\", \"pol\\u00edticas\", \"presupuesto\", \"presupuesto\", \"provincia\", \"relaci\\u00f3n\", \"relaci\\u00f3n\", \"rosada\", \"rosada\", \"si\", \"sistema\", \"tomar\", \"tomar\", \"vidal\", \"vidal\"]}, \"R\": 30, \"lambda.step\": 0.01, \"plot.opts\": {\"xlab\": \"PC1\", \"ylab\": \"PC2\"}, \"topic.order\": [3, 1, 2]};\n",
       "\n",
       "function LDAvis_load_lib(url, callback){\n",
       "  var s = document.createElement('script');\n",
       "  s.src = url;\n",
       "  s.async = true;\n",
       "  s.onreadystatechange = s.onload = callback;\n",
       "  s.onerror = function(){console.warn(\"failed to load library \" + url);};\n",
       "  document.getElementsByTagName(\"head\")[0].appendChild(s);\n",
       "}\n",
       "\n",
       "if(typeof(LDAvis) !== \"undefined\"){\n",
       "   // already loaded: just create the visualization\n",
       "   !function(LDAvis){\n",
       "       new LDAvis(\"#\" + \"ldavis_el82991405282554057768077400206\", ldavis_el82991405282554057768077400206_data);\n",
       "   }(LDAvis);\n",
       "}else if(typeof define === \"function\" && define.amd){\n",
       "   // require.js is available: use it to load d3/LDAvis\n",
       "   require.config({paths: {d3: \"https://cdnjs.cloudflare.com/ajax/libs/d3/3.5.5/d3.min\"}});\n",
       "   require([\"d3\"], function(d3){\n",
       "      window.d3 = d3;\n",
       "      LDAvis_load_lib(\"https://cdn.rawgit.com/bmabey/pyLDAvis/files/ldavis.v1.0.0.js\", function(){\n",
       "        new LDAvis(\"#\" + \"ldavis_el82991405282554057768077400206\", ldavis_el82991405282554057768077400206_data);\n",
       "      });\n",
       "    });\n",
       "}else{\n",
       "    // require.js not available: dynamically load d3 & LDAvis\n",
       "    LDAvis_load_lib(\"https://cdnjs.cloudflare.com/ajax/libs/d3/3.5.5/d3.min.js\", function(){\n",
       "         LDAvis_load_lib(\"https://cdn.rawgit.com/bmabey/pyLDAvis/files/ldavis.v1.0.0.js\", function(){\n",
       "                 new LDAvis(\"#\" + \"ldavis_el82991405282554057768077400206\", ldavis_el82991405282554057768077400206_data);\n",
       "            })\n",
       "         });\n",
       "}\n",
       "</script>"
      ],
      "text/plain": [
       "PreparedData(topic_coordinates=                x           y  topics  cluster       Freq\n",
       "topic                                                    \n",
       "2     -372.142456 -195.243271       1        1  47.641945\n",
       "0     -437.769562 -443.703552       2        1  36.634164\n",
       "1     -620.127258 -262.638367       3        1  15.723890, topic_info=     Category      Freq          Term     Total  loglift  logprob\n",
       "term                                                             \n",
       "34    Default  3.000000      política  3.000000  30.0000  30.0000\n",
       "4     Default  3.000000    bonaerense  3.000000  29.0000  29.0000\n",
       "11    Default  2.000000         festa  2.000000  28.0000  28.0000\n",
       "20    Default  2.000000  kirchnerista  2.000000  27.0000  27.0000\n",
       "19    Default  2.000000    intendente  2.000000  26.0000  26.0000\n",
       "28    Default  2.000000        moreno  2.000000  25.0000  25.0000\n",
       "1     Default  2.000000      abrieron  2.000000  24.0000  24.0000\n",
       "36    Default  2.000000   presupuesto  2.000000  23.0000  23.0000\n",
       "13    Default  2.000000          foto  2.000000  22.0000  22.0000\n",
       "22    Default  2.000000         medio  2.000000  21.0000  21.0000\n",
       "18    Default  2.000000       incluso  2.000000  20.0000  20.0000\n",
       "25    Default  2.000000          mesa  2.000000  19.0000  19.0000\n",
       "39    Default  2.000000        rosada  2.000000  18.0000  18.0000\n",
       "5     Default  2.000000          casa  2.000000  17.0000  17.0000\n",
       "10    Default  2.000000       encargó  2.000000  16.0000  16.0000\n",
       "40    Default  2.000000            si  2.000000  15.0000  15.0000\n",
       "17    Default  3.000000      gobierno  3.000000  14.0000  14.0000\n",
       "41    Default  2.000000       sistema  2.000000  13.0000  13.0000\n",
       "8     Default  2.000000   diferencias  2.000000  12.0000  12.0000\n",
       "15    Default  3.000000   gobernadora  3.000000  11.0000  11.0000\n",
       "43    Default  8.000000         vidal  8.000000  10.0000  10.0000\n",
       "29    Default  3.000000      nacional  3.000000   9.0000   9.0000\n",
       "37    Default  2.000000     provincia  2.000000   8.0000   8.0000\n",
       "21    Default  5.000000         macri  5.000000   7.0000   7.0000\n",
       "30    Default  2.000000        nación  2.000000   6.0000   6.0000\n",
       "23    Default  2.000000         menos  2.000000   5.0000   5.0000\n",
       "16    Default  2.000000  gobernadores  2.000000   4.0000   4.0000\n",
       "7     Default  2.000000    decisiones  2.000000   3.0000   3.0000\n",
       "9     Default  2.000000     distancia  2.000000   2.0000   2.0000\n",
       "6     Default  2.000000        crisis  2.000000   1.0000   1.0000\n",
       "...       ...       ...           ...       ...      ...      ...\n",
       "36     Topic3  0.738387   presupuesto  2.157533   0.7777  -3.2324\n",
       "13     Topic3  0.739357          foto  2.161966   0.7770  -3.2311\n",
       "18     Topic3  0.722113       incluso  2.124171   0.7710  -3.2547\n",
       "10     Topic3  0.693627       encargó  2.111499   0.7368  -3.2950\n",
       "34     Topic3  1.203429      política  3.893500   0.6759  -2.7440\n",
       "25     Topic3  0.730910          mesa  2.815846   0.5013  -3.2426\n",
       "39     Topic3  0.720146        rosada  2.797280   0.4930  -3.2574\n",
       "5      Topic3  0.715629          casa  2.789015   0.4897  -3.2637\n",
       "3      Topic3  0.281297         ayuda  2.301653  -0.2520  -4.1975\n",
       "12     Topic3  0.282686         fondo  2.318751  -0.2545  -4.1926\n",
       "16     Topic3  0.283755  gobernadores  2.358525  -0.2677  -4.1888\n",
       "24     Topic3  0.271963           mes  2.276118  -0.2746  -4.2312\n",
       "40     Topic3  0.267461            si  2.251266  -0.2803  -4.2479\n",
       "41     Topic3  0.268653       sistema  2.277411  -0.2874  -4.2435\n",
       "42     Topic3  0.273002         tomar  2.314770  -0.2876  -4.2274\n",
       "33     Topic3  0.278439        pierde  2.362674  -0.2884  -4.2077\n",
       "26     Topic3  0.271981      millones  2.315720  -0.2918  -4.2312\n",
       "30     Topic3  0.273082        nación  2.340257  -0.2983  -4.2271\n",
       "8      Topic3  0.266916   diferencias  2.304897  -0.3059  -4.2500\n",
       "38     Topic3  0.260443      relación  2.255559  -0.3088  -4.2745\n",
       "14     Topic3  0.263717   gobernación  2.303434  -0.3173  -4.2620\n",
       "6      Topic3  0.266405        crisis  2.339766  -0.3228  -4.2519\n",
       "32     Topic3  0.262861         pidió  2.332943  -0.3333  -4.2653\n",
       "23     Topic3  0.254674         menos  2.300279  -0.3508  -4.2969\n",
       "35     Topic3  0.259161     políticas  2.354160  -0.3565  -4.2794\n",
       "2      Topic3  0.290072       aumento  3.019064  -0.4926  -4.1668\n",
       "9      Topic3  0.275534     distancia  2.999972  -0.5377  -4.2182\n",
       "29     Topic3  0.270374      nacional  3.010919  -0.5602  -4.2371\n",
       "15     Topic3  0.275369   gobernadora  3.594113  -0.7190  -4.2188\n",
       "4      Topic3  0.266723    bonaerense  3.577920  -0.7463  -4.2507\n",
       "\n",
       "[131 rows x 6 columns], token_table=      Topic      Freq          Term\n",
       "term                               \n",
       "0         1  0.432210           000\n",
       "0         2  0.432210           000\n",
       "1         2  0.482268      abrieron\n",
       "1         3  0.482268      abrieron\n",
       "2         1  0.662457       aumento\n",
       "2         2  0.331228       aumento\n",
       "3         1  0.434470         ayuda\n",
       "3         2  0.434470         ayuda\n",
       "4         2  0.838476    bonaerense\n",
       "5         1  0.717099          casa\n",
       "5         3  0.358550          casa\n",
       "6         1  0.854787        crisis\n",
       "7         1  0.341599    decisiones\n",
       "7         2  0.683198    decisiones\n",
       "8         2  0.867718   diferencias\n",
       "9         1  0.333336     distancia\n",
       "9         2  0.666673     distancia\n",
       "10        1  0.473597       encargó\n",
       "10        3  0.473597       encargó\n",
       "11        1  0.489035         festa\n",
       "11        3  0.489035         festa\n",
       "12        1  0.431267         fondo\n",
       "12        2  0.431267         fondo\n",
       "13        1  0.462542          foto\n",
       "13        3  0.462542          foto\n",
       "14        1  0.868269   gobernación\n",
       "15        1  0.278233   gobernadora\n",
       "15        2  0.556466   gobernadora\n",
       "16        1  0.847988  gobernadores\n",
       "17        1  0.825681      gobierno\n",
       "...     ...       ...           ...\n",
       "26        1  0.431831      millones\n",
       "26        2  0.431831      millones\n",
       "27        1  0.865239       morales\n",
       "28        2  0.475827        moreno\n",
       "28        3  0.475827        moreno\n",
       "29        1  0.664249      nacional\n",
       "30        1  0.854607        nación\n",
       "31        1  0.440667        pasado\n",
       "31        2  0.440667        pasado\n",
       "32        1  0.428643         pidió\n",
       "32        2  0.428643         pidió\n",
       "33        1  0.423249        pierde\n",
       "33        2  0.423249        pierde\n",
       "34        1  0.513677      política\n",
       "34        2  0.256838      política\n",
       "34        3  0.256838      política\n",
       "35        1  0.849560     políticas\n",
       "36        1  0.463492   presupuesto\n",
       "36        3  0.463492   presupuesto\n",
       "37        1  0.670695     provincia\n",
       "38        1  0.443349      relación\n",
       "38        2  0.443349      relación\n",
       "39        1  0.714980        rosada\n",
       "39        3  0.357490        rosada\n",
       "40        2  0.888389            si\n",
       "41        2  0.878190       sistema\n",
       "42        1  0.432008         tomar\n",
       "42        2  0.432008         tomar\n",
       "43        1  0.492765         vidal\n",
       "43        2  0.492765         vidal\n",
       "\n",
       "[75 rows x 3 columns], R=30, lambda_step=0.01, plot_opts={'xlab': 'PC1', 'ylab': 'PC2'}, topic_order=[3, 1, 2])"
      ]
     },
     "execution_count": 16,
     "metadata": {},
     "output_type": "execute_result"
    }
   ],
   "source": [
    "import pyLDAvis.sklearn\n",
    " \n",
    "pyLDAvis.enable_notebook()\n",
    "panel = pyLDAvis.sklearn.prepare(lda_model, data_vectorized, vectorizer, mds='tsne')\n",
    "panel"
   ]
  },
  {
   "cell_type": "code",
   "execution_count": 17,
   "metadata": {},
   "outputs": [
    {
     "name": "stdout",
     "output_type": "stream",
     "text": [
      "[0.33333333 0.33333333 0.33333333] 1.0\n"
     ]
    }
   ],
   "source": [
    "text = \"RAJA GATO Y LLEVATE A LA CHIRUSA LAVADORA\"\n",
    "x = lda_model.transform(vectorizer.transform([text]))[0]\n",
    "print(x, x.sum())\n",
    "#si la distrubición es uniforme no tiene relación con los topicos"
   ]
  },
  {
   "cell_type": "code",
   "execution_count": 18,
   "metadata": {},
   "outputs": [
    {
     "name": "stdout",
     "output_type": "stream",
     "text": [
      "[0.63813013 0.16770464 0.19416523] 1.0\n"
     ]
    }
   ],
   "source": [
    "text = 'Están lanzando la candidatura de Vidal. Macro ya esta quemado'\n",
    "x = lda_model.transform(vectorizer.transform([text]))[0]\n",
    "print(x, x.sum())"
   ]
  },
  {
   "cell_type": "code",
   "execution_count": null,
   "metadata": {},
   "outputs": [],
   "source": [
    "PRONTO SE LIBERA BRASIL DE POPULISMO, SANTA CRUZ TAMBIÉN SERÁ DE LA PATRIA"
   ]
  },
  {
   "cell_type": "code",
   "execution_count": null,
   "metadata": {},
   "outputs": [],
   "source": [
    "Solo quienes no vivieron los 90s podian creer que esto tuviera un final distinto. Todavia falta lo peor. A esta altura un gobierno solo defendido por fanaticos"
   ]
  }
 ],
 "metadata": {
  "kernelspec": {
   "display_name": "Python 3",
   "language": "python",
   "name": "python3"
  },
  "language_info": {
   "codemirror_mode": {
    "name": "ipython",
    "version": 3
   },
   "file_extension": ".py",
   "mimetype": "text/x-python",
   "name": "python",
   "nbconvert_exporter": "python",
   "pygments_lexer": "ipython3",
   "version": "3.6.5"
  }
 },
 "nbformat": 4,
 "nbformat_minor": 2
}
