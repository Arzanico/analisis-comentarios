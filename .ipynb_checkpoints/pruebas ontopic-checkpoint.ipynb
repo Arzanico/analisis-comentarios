{
 "cells": [
  {
   "cell_type": "code",
   "execution_count": 1,
   "metadata": {
    "collapsed": true
   },
   "outputs": [],
   "source": [
    "#bajar un noticia y sus comentarios para hacer pruebas"
   ]
  },
  {
   "cell_type": "code",
   "execution_count": 1,
   "metadata": {
    "collapsed": true
   },
   "outputs": [],
   "source": [
    "#noticia"
   ]
  },
  {
   "cell_type": "code",
   "execution_count": 2,
   "metadata": {
    "collapsed": true
   },
   "outputs": [],
   "source": [
    "import requests\n",
    "import json\n",
    "from bs4 import BeautifulSoup"
   ]
  },
  {
   "cell_type": "code",
   "execution_count": 3,
   "metadata": {
    "collapsed": true
   },
   "outputs": [],
   "source": [
    "#url = 'https://www.lanacion.com.ar/2181393-la-relacion-entre-macri-y-vidal-un-vinculo-desgastado-por-la-crisis'\n",
    "url = 'https://www.lanacion.com.ar/2181492-hugo-moyano-pedido-detencion-hijo'"
   ]
  },
  {
   "cell_type": "code",
   "execution_count": 4,
   "metadata": {
    "collapsed": true
   },
   "outputs": [],
   "source": [
    "response =  requests.get(url)"
   ]
  },
  {
   "cell_type": "code",
   "execution_count": 5,
   "metadata": {
    "collapsed": true
   },
   "outputs": [],
   "source": [
    "html_soup = BeautifulSoup(response.text, 'html.parser')\n"
   ]
  },
  {
   "cell_type": "code",
   "execution_count": 6,
   "metadata": {
    "collapsed": true
   },
   "outputs": [],
   "source": [
    "titulo = html_soup.find_all('h1')[0].text"
   ]
  },
  {
   "cell_type": "code",
   "execution_count": 7,
   "metadata": {
    "collapsed": true
   },
   "outputs": [],
   "source": [
    "texto = \"\"\n",
    "for parrafo in html_soup.find_all(\"article\", {\"id\": \"nota\"})[0].find_all('p'):\n",
    "    texto +=  parrafo.text.replace('\\r\\n', '').strip().replace('\\n', '')"
   ]
  },
  {
   "cell_type": "code",
   "execution_count": 8,
   "metadata": {
    "collapsed": true
   },
   "outputs": [],
   "source": [
    "#import nltk\n",
    "#nltk.download('punkt')"
   ]
  },
  {
   "cell_type": "code",
   "execution_count": 9,
   "metadata": {},
   "outputs": [
    {
     "data": {
      "text/plain": [
       "14"
      ]
     },
     "execution_count": 9,
     "metadata": {},
     "output_type": "execute_result"
    }
   ],
   "source": [
    "from nltk.tokenize import sent_tokenize\n",
    "sent_tokenize_list = sent_tokenize(texto, language='spanish')\n",
    "len(sent_tokenize_list)"
   ]
  },
  {
   "cell_type": "code",
   "execution_count": 10,
   "metadata": {
    "collapsed": true
   },
   "outputs": [],
   "source": [
    "from sklearn.decomposition import NMF, LatentDirichletAllocation, TruncatedSVD\n",
    "from sklearn.feature_extraction.text import CountVectorizer"
   ]
  },
  {
   "cell_type": "code",
   "execution_count": 11,
   "metadata": {
    "collapsed": true
   },
   "outputs": [],
   "source": [
    "#nltk.download('stopwords')"
   ]
  },
  {
   "cell_type": "code",
   "execution_count": 12,
   "metadata": {
    "collapsed": true
   },
   "outputs": [],
   "source": [
    "from nltk.corpus import stopwords"
   ]
  },
  {
   "cell_type": "code",
   "execution_count": 28,
   "metadata": {
    "collapsed": true
   },
   "outputs": [],
   "source": [
    "from nltk.stem.snowball import SnowballStemmer\n",
    "stemmer = SnowballStemmer(language = 'spanish')"
   ]
  },
  {
   "cell_type": "code",
   "execution_count": 68,
   "metadata": {},
   "outputs": [],
   "source": [
    "vectorizer = CountVectorizer(min_df=2, max_df=0.9, \n",
    "                             stop_words=stopwords.words('spanish'), lowercase=True, strip_accents='unicode', \n",
    "                             preprocessor= stemmer.stem)\n",
    "data_vectorized = vectorizer.fit_transform(sent_tokenize_list)"
   ]
  },
  {
   "cell_type": "code",
   "execution_count": 69,
   "metadata": {},
   "outputs": [
    {
     "data": {
      "text/plain": [
       "{'adelante': 0,\n",
       " 'ahora': 1,\n",
       " 'asociacion': 2,\n",
       " 'atencion': 3,\n",
       " 'barrabravas': 4,\n",
       " 'camioneros': 5,\n",
       " 'club': 6,\n",
       " 'contesto': 7,\n",
       " 'cosas': 8,\n",
       " 'detencion': 9,\n",
       " 'dialogo': 10,\n",
       " 'dijo': 11,\n",
       " 'dirigentes': 12,\n",
       " 'disparatado': 13,\n",
       " 'disparate': 14,\n",
       " 'distraer': 15,\n",
       " 'entienden': 16,\n",
       " 'fiscal': 17,\n",
       " 'frigerio': 18,\n",
       " 'general': 19,\n",
       " 'gente': 20,\n",
       " 'gobierno': 21,\n",
       " 'hoy': 22,\n",
       " 'hugo': 23,\n",
       " 'iguales': 24,\n",
       " 'ilicita': 25,\n",
       " 'imputado': 26,\n",
       " 'independiente': 27,\n",
       " 'insistio': 28,\n",
       " 'integrar': 29,\n",
       " 'interior': 30,\n",
       " 'junto': 31,\n",
       " 'justicia': 32,\n",
       " 'ley': 33,\n",
       " 'lleva': 34,\n",
       " 'lomas': 35,\n",
       " 'ministro': 36,\n",
       " 'mitre': 37,\n",
       " 'moyano': 38,\n",
       " 'pablo': 39,\n",
       " 'pedido': 40,\n",
       " 'radio': 41,\n",
       " 'rogelio': 42,\n",
       " 'secretario': 43,\n",
       " 'si': 44,\n",
       " 'sindicato': 45,\n",
       " 'tambien': 46,\n",
       " 'tan': 47,\n",
       " 'todas': 48,\n",
       " 'todavia': 49,\n",
       " 'zamora': 50}"
      ]
     },
     "execution_count": 69,
     "metadata": {},
     "output_type": "execute_result"
    }
   ],
   "source": [
    "vectorizer.vocabulary_"
   ]
  },
  {
   "cell_type": "code",
   "execution_count": 70,
   "metadata": {
    "collapsed": true
   },
   "outputs": [],
   "source": [
    "lda_model = LatentDirichletAllocation(n_components=3, max_iter=10, learning_method='online')\n",
    "lda_Z = lda_model.fit_transform(data_vectorized)"
   ]
  },
  {
   "cell_type": "code",
   "execution_count": 71,
   "metadata": {},
   "outputs": [
    {
     "name": "stderr",
     "output_type": "stream",
     "text": [
      "C:\\Users\\p_bag\\Anaconda3\\lib\\site-packages\\pyLDAvis\\_prepare.py:257: FutureWarning: Sorting because non-concatenation axis is not aligned. A future version\n",
      "of pandas will change to not sort by default.\n",
      "\n",
      "To accept the future behavior, pass 'sort=False'.\n",
      "\n",
      "To retain the current behavior and silence the warning, pass 'sort=True'.\n",
      "\n",
      "  return pd.concat([default_term_info] + list(topic_dfs))\n"
     ]
    },
    {
     "data": {
      "text/html": [
       "\n",
       "<link rel=\"stylesheet\" type=\"text/css\" href=\"https://cdn.rawgit.com/bmabey/pyLDAvis/files/ldavis.v1.0.0.css\">\n",
       "\n",
       "\n",
       "<div id=\"ldavis_el1099618310007188169899879099\"></div>\n",
       "<script type=\"text/javascript\">\n",
       "\n",
       "var ldavis_el1099618310007188169899879099_data = {\"mdsDat\": {\"x\": [-372.1424560546875, -437.7695617675781, -620.1272583007812], \"y\": [-195.24327087402344, -443.70355224609375, -262.63836669921875], \"topics\": [1, 2, 3], \"cluster\": [1, 1, 1], \"Freq\": [52.22076746897895, 24.598060565727124, 23.181171965293938]}, \"tinfo\": {\"Category\": [\"Default\", \"Default\", \"Default\", \"Default\", \"Default\", \"Default\", \"Default\", \"Default\", \"Default\", \"Default\", \"Default\", \"Default\", \"Default\", \"Default\", \"Default\", \"Default\", \"Default\", \"Default\", \"Default\", \"Default\", \"Default\", \"Default\", \"Default\", \"Default\", \"Default\", \"Default\", \"Default\", \"Default\", \"Default\", \"Default\", \"Topic1\", \"Topic1\", \"Topic1\", \"Topic1\", \"Topic1\", \"Topic1\", \"Topic1\", \"Topic1\", \"Topic1\", \"Topic1\", \"Topic1\", \"Topic1\", \"Topic1\", \"Topic1\", \"Topic1\", \"Topic1\", \"Topic1\", \"Topic1\", \"Topic1\", \"Topic1\", \"Topic1\", \"Topic1\", \"Topic1\", \"Topic1\", \"Topic1\", \"Topic1\", \"Topic1\", \"Topic1\", \"Topic1\", \"Topic1\", \"Topic1\", \"Topic1\", \"Topic1\", \"Topic1\", \"Topic1\", \"Topic1\", \"Topic2\", \"Topic2\", \"Topic2\", \"Topic2\", \"Topic2\", \"Topic2\", \"Topic2\", \"Topic2\", \"Topic2\", \"Topic2\", \"Topic2\", \"Topic2\", \"Topic2\", \"Topic2\", \"Topic2\", \"Topic2\", \"Topic2\", \"Topic2\", \"Topic2\", \"Topic2\", \"Topic2\", \"Topic2\", \"Topic2\", \"Topic2\", \"Topic2\", \"Topic2\", \"Topic2\", \"Topic2\", \"Topic2\", \"Topic2\", \"Topic2\", \"Topic2\", \"Topic2\", \"Topic2\", \"Topic2\", \"Topic2\", \"Topic2\", \"Topic3\", \"Topic3\", \"Topic3\", \"Topic3\", \"Topic3\", \"Topic3\", \"Topic3\", \"Topic3\", \"Topic3\", \"Topic3\", \"Topic3\", \"Topic3\", \"Topic3\", \"Topic3\", \"Topic3\", \"Topic3\", \"Topic3\", \"Topic3\", \"Topic3\", \"Topic3\", \"Topic3\", \"Topic3\", \"Topic3\", \"Topic3\", \"Topic3\", \"Topic3\", \"Topic3\", \"Topic3\", \"Topic3\", \"Topic3\", \"Topic3\", \"Topic3\", \"Topic3\", \"Topic3\", \"Topic3\", \"Topic3\"], \"Freq\": [2.0, 2.0, 2.0, 4.0, 2.0, 2.0, 2.0, 1.0, 2.0, 2.0, 2.0, 2.0, 2.0, 2.0, 3.0, 2.0, 2.0, 2.0, 2.0, 2.0, 2.0, 2.0, 2.0, 2.0, 2.0, 2.0, 2.0, 2.0, 2.0, 2.0, 2.51589002495626, 3.6066891600599393, 2.5023351535727065, 2.5206165732896397, 1.8146391446019676, 1.8487500695046388, 1.8068972223921165, 1.795509488810871, 1.811056585532194, 1.788902136334191, 1.8140233898182048, 1.802355722916761, 1.7659138848838143, 1.7801001537063315, 2.480853383346607, 4.62205456679065, 1.809791646289234, 1.8081267182290894, 1.8016701374971367, 1.1444423922500415, 1.108749004771779, 1.1237251684269205, 1.1248214829379874, 1.102336178080171, 1.1058405116690335, 1.1041623940722876, 1.0853542215349665, 1.1052751425508645, 1.0936015709299396, 1.06773984612304, 1.0789975693589866, 1.8396456019513505, 1.3056404123087588, 1.1011165160701901, 1.1180665811566464, 1.103178694270175, 1.818597436809214, 1.8419906416370992, 1.8427651169473922, 1.302242528799924, 1.187815054639271, 0.815720348500728, 0.8397753720743276, 0.8386533066110292, 0.8408313689783833, 0.8460668214793359, 0.8324960630196137, 0.8230991094735184, 0.835505703772435, 0.8270737751635651, 0.8339319180576411, 0.8493843626086346, 1.3152111960869917, 0.84572618729838, 0.831559619253276, 0.8246376870889204, 0.8237003216329607, 0.8293845373138874, 1.334532449327563, 0.34176485855925387, 0.3176607209765844, 0.31225945174972214, 0.30889281921204437, 0.29614897573947124, 0.298334617263768, 0.30229089601494596, 0.5562635518501247, 0.3120624997044655, 0.3098346093916357, 0.31492574989400457, 0.32863761092259525, 0.31402809256081754, 0.3138248099198692, 1.3287203429406784, 1.312977832036356, 1.3414354532249952, 1.3413688874073293, 1.322145005090673, 1.3173538005770373, 1.3125564141814263, 1.8911362677382837, 0.7962869250676209, 0.8191117787610138, 0.823423819363231, 0.8088685163373864, 0.8140011736743666, 0.8130939901796639, 0.8100279899654439, 0.797600116372192, 1.3290911325067667, 0.8106253675863444, 1.3007608092261933, 0.3262792825105875, 0.31048853192291137, 0.3054198137747181, 0.3092199249528544, 0.30183916686288487, 0.3242011181728034, 0.3241328131572436, 0.3017050255440954, 0.2910013605196361, 0.33767635114988787, 0.33672226163301877, 0.3094494021123358, 0.31394442758121205, 0.30727850089715575, 0.3202194906851496, 0.30960128234254986, 0.3132367274116772], \"Term\": [\"distraer\", \"gente\", \"disparate\", \"gobierno\", \"todas\", \"adelante\", \"lleva\", \"cosas\", \"tan\", \"insistio\", \"disparatado\", \"atencion\", \"detencion\", \"camioneros\", \"hugo\", \"pedido\", \"radio\", \"zamora\", \"imputado\", \"mitre\", \"lomas\", \"dialogo\", \"tambien\", \"dirigentes\", \"general\", \"hoy\", \"integrar\", \"sindicato\", \"junto\", \"secretario\", \"si\", \"justicia\", \"iguales\", \"ley\", \"fiscal\", \"dijo\", \"ministro\", \"ahora\", \"contesto\", \"interior\", \"frigerio\", \"todavia\", \"rogelio\", \"entienden\", \"pablo\", \"moyano\", \"asociacion\", \"ilicita\", \"independiente\", \"club\", \"lomas\", \"barrabravas\", \"junto\", \"radio\", \"mitre\", \"tambien\", \"imputado\", \"hoy\", \"dialogo\", \"zamora\", \"secretario\", \"hugo\", \"camioneros\", \"integrar\", \"pedido\", \"gobierno\", \"disparate\", \"distraer\", \"gente\", \"atencion\", \"camioneros\", \"detencion\", \"dirigentes\", \"general\", \"hoy\", \"integrar\", \"sindicato\", \"secretario\", \"junto\", \"barrabravas\", \"club\", \"pedido\", \"gobierno\", \"independiente\", \"ilicita\", \"asociacion\", \"pablo\", \"hugo\", \"moyano\", \"tan\", \"disparatado\", \"insistio\", \"lleva\", \"cosas\", \"adelante\", \"todas\", \"justicia\", \"tambien\", \"dialogo\", \"entienden\", \"ley\", \"contesto\", \"todavia\", \"adelante\", \"cosas\", \"todas\", \"lleva\", \"tan\", \"insistio\", \"disparatado\", \"gobierno\", \"detencion\", \"zamora\", \"radio\", \"imputado\", \"mitre\", \"dialogo\", \"lomas\", \"tambien\", \"hugo\", \"pedido\", \"moyano\", \"atencion\", \"sindicato\", \"general\", \"integrar\", \"secretario\", \"rogelio\", \"entienden\", \"club\", \"dirigentes\", \"distraer\", \"gente\", \"interior\", \"disparate\", \"todavia\", \"iguales\", \"independiente\", \"justicia\"], \"Total\": [2.0, 2.0, 2.0, 4.0, 2.0, 2.0, 2.0, 1.0, 2.0, 2.0, 2.0, 2.0, 2.0, 2.0, 3.0, 2.0, 2.0, 2.0, 2.0, 2.0, 2.0, 2.0, 2.0, 2.0, 2.0, 2.0, 2.0, 2.0, 2.0, 2.0, 3.1113521974254152, 4.476189439321741, 3.1197361299804234, 3.1528225145185678, 2.3779690786147527, 2.434318847017322, 2.3939177123616204, 2.3788626529132655, 2.4134043240568053, 2.3870373016187063, 2.428221199182343, 2.4234590337337862, 2.3830356936120296, 2.41915871675758, 3.6049858750325923, 7.257347825344406, 2.932926916373909, 2.941077556076349, 2.956997607138067, 2.280079335851778, 2.21167944051094, 2.2422063718687535, 2.247264170146509, 2.2056108107449583, 2.214257972926946, 2.2138250101489447, 2.183926111117602, 2.2313611019638597, 2.2165301705012395, 2.180551288120601, 2.20393584569539, 3.9981212717720043, 2.785102619321626, 2.2564032625023804, 2.7780763113516254, 4.3095261580954505, 2.5320212637322705, 2.5702847243076015, 2.5880318485549694, 2.0455660773286937, 2.785102619321626, 2.0098946948299194, 2.2093528510839966, 2.2135867053964784, 2.2313611019638597, 2.2564032625023804, 2.223352077626691, 2.20393584569539, 2.247264170146509, 2.2422063718687535, 2.280079335851778, 2.7780763113516254, 4.3095261580954505, 2.956997607138067, 2.941077556076349, 2.932926916373909, 3.6049858750325923, 3.9981212717720043, 7.257347825344406, 2.046996768233398, 2.046337749915151, 2.0510186435708677, 2.0553427111793967, 1.9949044935107916, 2.011339690268159, 2.0506918267413266, 4.476189439321741, 2.2138250101489447, 2.2165301705012395, 2.41915871675758, 3.1528225145185678, 2.4134043240568053, 2.4234590337337862, 2.011339690268159, 1.9949044935107916, 2.0506918267413266, 2.0553427111793967, 2.046996768233398, 2.0510186435708677, 2.046337749915151, 4.3095261580954505, 2.0098946948299194, 2.180551288120601, 2.2056108107449583, 2.183926111117602, 2.214257972926946, 2.2165301705012395, 2.21167944051094, 2.2138250101489447, 3.9981212717720043, 2.7780763113516254, 7.257347825344406, 2.0455660773286937, 2.223352077626691, 2.2135867053964784, 2.2564032625023804, 2.20393584569539, 2.3830356936120296, 2.41915871675758, 2.280079335851778, 2.2093528510839966, 2.5702847243076015, 2.5880318485549694, 2.3870373016187063, 2.5320212637322705, 2.4234590337337862, 3.1197361299804234, 2.956997607138067, 4.476189439321741], \"loglift\": [30.0, 29.0, 28.0, 27.0, 26.0, 25.0, 24.0, 23.0, 22.0, 21.0, 20.0, 19.0, 18.0, 17.0, 16.0, 15.0, 14.0, 13.0, 12.0, 11.0, 10.0, 9.0, 8.0, 7.0, 6.0, 5.0, 4.0, 3.0, 2.0, 1.0, 0.4373, 0.4337, 0.4292, 0.4259, 0.3793, 0.3745, 0.3684, 0.3684, 0.3626, 0.3612, 0.3581, 0.3536, 0.35, 0.3429, 0.276, 0.1985, 0.1669, 0.1632, 0.1542, -0.0396, -0.0408, -0.0411, -0.0424, -0.0439, -0.0446, -0.0459, -0.0495, -0.0528, -0.0568, -0.0643, -0.0645, -0.1266, -0.1079, -0.0678, -0.2605, -0.7129, 1.0716, 1.0693, 1.0629, 0.9509, 0.5503, 0.5007, 0.4352, 0.4319, 0.4265, 0.4216, 0.4202, 0.4176, 0.4131, 0.4052, 0.3967, 0.2175, 0.2157, 0.1508, 0.1393, 0.1337, -0.0738, -0.1704, -0.2909, -0.3875, -0.4603, -0.4798, -0.4927, -0.505, -0.5058, -0.512, -0.6828, -0.5568, -0.5652, -0.6363, -0.8586, -0.6368, -0.6416, 1.0472, 1.0435, 1.0374, 1.0351, 1.0247, 1.0191, 1.0178, 0.6382, 0.536, 0.4827, 0.4765, 0.4686, 0.4611, 0.459, 0.4574, 0.441, 0.3605, 0.2301, -0.2572, -0.3738, -0.5068, -0.5189, -0.5256, -0.5263, -0.5329, -0.5482, -0.5607, -0.5653, -0.5679, -0.5776, -0.5812, -0.6257, -0.6034, -0.8147, -0.7948, -1.1977], \"logprob\": [30.0, 29.0, 28.0, 27.0, 26.0, 25.0, 24.0, 23.0, 22.0, 21.0, 20.0, 19.0, 18.0, 17.0, 16.0, 15.0, 14.0, 13.0, 12.0, 11.0, 10.0, 9.0, 8.0, 7.0, 6.0, 5.0, 4.0, 3.0, 2.0, 1.0, -3.318, -2.9579, -3.3234, -3.3162, -3.6448, -3.6261, -3.649, -3.6554, -3.6467, -3.6591, -3.6451, -3.6516, -3.672, -3.664, -3.3321, -2.7098, -3.6474, -3.6484, -3.6519, -4.1057, -4.1374, -4.124, -4.123, -4.1432, -4.1401, -4.1416, -4.1588, -4.1406, -4.1512, -4.1751, -4.1646, -3.6311, -3.974, -4.1443, -4.1291, -4.1425, -2.8898, -2.877, -2.8766, -3.2238, -3.3157, -3.6915, -3.6625, -3.6638, -3.6612, -3.655, -3.6712, -3.6825, -3.6676, -3.6777, -3.6695, -3.6511, -3.2138, -3.6554, -3.6723, -3.6807, -3.6818, -3.6749, -3.1993, -4.5615, -4.6346, -4.6518, -4.6626, -4.7047, -4.6974, -4.6842, -4.0744, -4.6524, -4.6596, -4.6433, -4.6006, -4.6461, -4.6468, -3.1443, -3.1562, -3.1348, -3.1348, -3.1493, -3.1529, -3.1565, -2.7913, -3.6563, -3.6281, -3.6228, -3.6406, -3.6343, -3.6354, -3.6392, -3.6547, -3.144, -3.6385, -3.1656, -4.5485, -4.5981, -4.6146, -4.6022, -4.6264, -4.5549, -4.5551, -4.6268, -4.6629, -4.5142, -4.517, -4.6015, -4.5871, -4.6085, -4.5673, -4.601, -4.5893]}, \"token.table\": {\"Topic\": [3, 1, 1, 2, 2, 1, 2, 1, 2, 1, 2, 1, 3, 2, 3, 1, 3, 1, 1, 2, 3, 2, 2, 1, 1, 1, 1, 2, 2, 1, 2, 3, 1, 2, 1, 2, 3, 1, 1, 2, 1, 3, 1, 2, 3, 1, 2, 1, 1, 2, 1, 2, 1, 3, 1, 3, 1, 1, 3, 1, 2, 3, 1, 2, 1, 2, 3, 1, 3, 1, 1, 2, 1, 1, 2, 1, 3, 3, 3, 1, 1, 3], \"Freq\": [0.49718106038402515, 0.8407379036997816, 0.6819126616604131, 0.34095633083020654, 0.4888622328474966, 0.4459892775911416, 0.4459892775911416, 0.3590531972008889, 0.3590531972008889, 0.4385812301686538, 0.4385812301686538, 0.8287049045466636, 0.5012771304355129, 0.4975385041675637, 0.4975385041675637, 0.45115560045540143, 0.45115560045540143, 0.8215850616489799, 0.452621227754254, 0.452621227754254, 0.48867788322893607, 0.7898827820473924, 0.7781239101978369, 0.8267336847913055, 0.841053829499359, 0.8236481918012502, 0.45175551405423203, 0.45175551405423203, 0.7727880169313613, 0.23204407243740677, 0.23204407243740677, 0.46408814487481354, 0.4481569563616945, 0.4481569563616945, 0.5002349513809473, 0.25011747569047366, 0.25011747569047366, 0.9616197893053299, 0.6800228698042811, 0.34001143490214053, 0.4578909491989453, 0.4578909491989453, 0.6763617241935147, 0.33818086209675735, 0.487562608528501, 0.44318319186038896, 0.44318319186038896, 0.8378587124062757, 0.44498551317836643, 0.44498551317836643, 0.8936172282748837, 0.22340430706872091, 0.9515283483878877, 0.4865368653902881, 0.4521450901442485, 0.4521450901442485, 0.8354506045351838, 0.45161856126372524, 0.45161856126372524, 0.6889569192947864, 0.13779138385895728, 0.13779138385895728, 0.554787194549526, 0.277393597274763, 0.3599613142064723, 0.3599613142064723, 0.3599613142064723, 0.4533891451421767, 0.4533891451421767, 0.8392656498436865, 0.45373371550408176, 0.45373371550408176, 0.9642109956187033, 0.4497713205492161, 0.4497713205492161, 0.451706885329984, 0.451706885329984, 0.48852055631871927, 0.48764031092329485, 0.8252666837609508, 0.45859962361256434, 0.45859962361256434], \"Term\": [\"adelante\", \"ahora\", \"asociacion\", \"asociacion\", \"atencion\", \"barrabravas\", \"barrabravas\", \"camioneros\", \"camioneros\", \"club\", \"club\", \"contesto\", \"cosas\", \"detencion\", \"detencion\", \"dialogo\", \"dialogo\", \"dijo\", \"dirigentes\", \"dirigentes\", \"disparatado\", \"disparate\", \"distraer\", \"entienden\", \"fiscal\", \"frigerio\", \"general\", \"general\", \"gente\", \"gobierno\", \"gobierno\", \"gobierno\", \"hoy\", \"hoy\", \"hugo\", \"hugo\", \"hugo\", \"iguales\", \"ilicita\", \"ilicita\", \"imputado\", \"imputado\", \"independiente\", \"independiente\", \"insistio\", \"integrar\", \"integrar\", \"interior\", \"junto\", \"junto\", \"justicia\", \"justicia\", \"ley\", \"lleva\", \"lomas\", \"lomas\", \"ministro\", \"mitre\", \"mitre\", \"moyano\", \"moyano\", \"moyano\", \"pablo\", \"pablo\", \"pedido\", \"pedido\", \"pedido\", \"radio\", \"radio\", \"rogelio\", \"secretario\", \"secretario\", \"si\", \"sindicato\", \"sindicato\", \"tambien\", \"tambien\", \"tan\", \"todas\", \"todavia\", \"zamora\", \"zamora\"]}, \"R\": 30, \"lambda.step\": 0.01, \"plot.opts\": {\"xlab\": \"PC1\", \"ylab\": \"PC2\"}, \"topic.order\": [3, 1, 2]};\n",
       "\n",
       "function LDAvis_load_lib(url, callback){\n",
       "  var s = document.createElement('script');\n",
       "  s.src = url;\n",
       "  s.async = true;\n",
       "  s.onreadystatechange = s.onload = callback;\n",
       "  s.onerror = function(){console.warn(\"failed to load library \" + url);};\n",
       "  document.getElementsByTagName(\"head\")[0].appendChild(s);\n",
       "}\n",
       "\n",
       "if(typeof(LDAvis) !== \"undefined\"){\n",
       "   // already loaded: just create the visualization\n",
       "   !function(LDAvis){\n",
       "       new LDAvis(\"#\" + \"ldavis_el1099618310007188169899879099\", ldavis_el1099618310007188169899879099_data);\n",
       "   }(LDAvis);\n",
       "}else if(typeof define === \"function\" && define.amd){\n",
       "   // require.js is available: use it to load d3/LDAvis\n",
       "   require.config({paths: {d3: \"https://cdnjs.cloudflare.com/ajax/libs/d3/3.5.5/d3.min\"}});\n",
       "   require([\"d3\"], function(d3){\n",
       "      window.d3 = d3;\n",
       "      LDAvis_load_lib(\"https://cdn.rawgit.com/bmabey/pyLDAvis/files/ldavis.v1.0.0.js\", function(){\n",
       "        new LDAvis(\"#\" + \"ldavis_el1099618310007188169899879099\", ldavis_el1099618310007188169899879099_data);\n",
       "      });\n",
       "    });\n",
       "}else{\n",
       "    // require.js not available: dynamically load d3 & LDAvis\n",
       "    LDAvis_load_lib(\"https://cdnjs.cloudflare.com/ajax/libs/d3/3.5.5/d3.min.js\", function(){\n",
       "         LDAvis_load_lib(\"https://cdn.rawgit.com/bmabey/pyLDAvis/files/ldavis.v1.0.0.js\", function(){\n",
       "                 new LDAvis(\"#\" + \"ldavis_el1099618310007188169899879099\", ldavis_el1099618310007188169899879099_data);\n",
       "            })\n",
       "         });\n",
       "}\n",
       "</script>"
      ],
      "text/plain": [
       "PreparedData(topic_coordinates=                x           y  topics  cluster       Freq\n",
       "topic                                                    \n",
       "2     -372.142456 -195.243271       1        1  52.220767\n",
       "0     -437.769562 -443.703552       2        1  24.598061\n",
       "1     -620.127258 -262.638367       3        1  23.181172, topic_info=     Category      Freq           Term     Total  loglift  logprob\n",
       "term                                                              \n",
       "15    Default  2.000000       distraer  2.000000  30.0000  30.0000\n",
       "20    Default  2.000000          gente  2.000000  29.0000  29.0000\n",
       "14    Default  2.000000      disparate  2.000000  28.0000  28.0000\n",
       "21    Default  4.000000       gobierno  4.000000  27.0000  27.0000\n",
       "48    Default  2.000000          todas  2.000000  26.0000  26.0000\n",
       "0     Default  2.000000       adelante  2.000000  25.0000  25.0000\n",
       "34    Default  2.000000          lleva  2.000000  24.0000  24.0000\n",
       "8     Default  1.000000          cosas  1.000000  23.0000  23.0000\n",
       "47    Default  2.000000            tan  2.000000  22.0000  22.0000\n",
       "28    Default  2.000000       insistio  2.000000  21.0000  21.0000\n",
       "13    Default  2.000000    disparatado  2.000000  20.0000  20.0000\n",
       "3     Default  2.000000       atencion  2.000000  19.0000  19.0000\n",
       "9     Default  2.000000      detencion  2.000000  18.0000  18.0000\n",
       "5     Default  2.000000     camioneros  2.000000  17.0000  17.0000\n",
       "23    Default  3.000000           hugo  3.000000  16.0000  16.0000\n",
       "40    Default  2.000000         pedido  2.000000  15.0000  15.0000\n",
       "41    Default  2.000000          radio  2.000000  14.0000  14.0000\n",
       "50    Default  2.000000         zamora  2.000000  13.0000  13.0000\n",
       "26    Default  2.000000       imputado  2.000000  12.0000  12.0000\n",
       "37    Default  2.000000          mitre  2.000000  11.0000  11.0000\n",
       "35    Default  2.000000          lomas  2.000000  10.0000  10.0000\n",
       "10    Default  2.000000        dialogo  2.000000   9.0000   9.0000\n",
       "46    Default  2.000000        tambien  2.000000   8.0000   8.0000\n",
       "12    Default  2.000000     dirigentes  2.000000   7.0000   7.0000\n",
       "19    Default  2.000000        general  2.000000   6.0000   6.0000\n",
       "22    Default  2.000000            hoy  2.000000   5.0000   5.0000\n",
       "29    Default  2.000000       integrar  2.000000   4.0000   4.0000\n",
       "45    Default  2.000000      sindicato  2.000000   3.0000   3.0000\n",
       "31    Default  2.000000          junto  2.000000   2.0000   2.0000\n",
       "43    Default  2.000000     secretario  2.000000   1.0000   1.0000\n",
       "...       ...       ...            ...       ...      ...      ...\n",
       "13     Topic3  1.312556    disparatado  2.046338   1.0178  -3.1565\n",
       "21     Topic3  1.891136       gobierno  4.309526   0.6382  -2.7913\n",
       "9      Topic3  0.796287      detencion  2.009895   0.5360  -3.6563\n",
       "50     Topic3  0.819112         zamora  2.180551   0.4827  -3.6281\n",
       "41     Topic3  0.823424          radio  2.205611   0.4765  -3.6228\n",
       "26     Topic3  0.808869       imputado  2.183926   0.4686  -3.6406\n",
       "37     Topic3  0.814001          mitre  2.214258   0.4611  -3.6343\n",
       "10     Topic3  0.813094        dialogo  2.216530   0.4590  -3.6354\n",
       "35     Topic3  0.810028          lomas  2.211679   0.4574  -3.6392\n",
       "46     Topic3  0.797600        tambien  2.213825   0.4410  -3.6547\n",
       "23     Topic3  1.329091           hugo  3.998121   0.3605  -3.1440\n",
       "40     Topic3  0.810625         pedido  2.778076   0.2301  -3.6385\n",
       "38     Topic3  1.300761         moyano  7.257348  -0.2572  -3.1656\n",
       "3      Topic3  0.326279       atencion  2.045566  -0.3738  -4.5485\n",
       "45     Topic3  0.310489      sindicato  2.223352  -0.5068  -4.5981\n",
       "19     Topic3  0.305420        general  2.213587  -0.5189  -4.6146\n",
       "29     Topic3  0.309220       integrar  2.256403  -0.5256  -4.6022\n",
       "43     Topic3  0.301839     secretario  2.203936  -0.5263  -4.6264\n",
       "42     Topic3  0.324201        rogelio  2.383036  -0.5329  -4.5549\n",
       "16     Topic3  0.324133      entienden  2.419159  -0.5482  -4.5551\n",
       "6      Topic3  0.301705           club  2.280079  -0.5607  -4.6268\n",
       "12     Topic3  0.291001     dirigentes  2.209353  -0.5653  -4.6629\n",
       "15     Topic3  0.337676       distraer  2.570285  -0.5679  -4.5142\n",
       "20     Topic3  0.336722          gente  2.588032  -0.5776  -4.5170\n",
       "30     Topic3  0.309449       interior  2.387037  -0.5812  -4.6015\n",
       "14     Topic3  0.313944      disparate  2.532021  -0.6257  -4.5871\n",
       "49     Topic3  0.307279        todavia  2.423459  -0.6034  -4.6085\n",
       "24     Topic3  0.320219        iguales  3.119736  -0.8147  -4.5673\n",
       "27     Topic3  0.309601  independiente  2.956998  -0.7948  -4.6010\n",
       "32     Topic3  0.313237       justicia  4.476189  -1.1977  -4.5893\n",
       "\n",
       "[139 rows x 6 columns], token_table=      Topic      Freq         Term\n",
       "term                              \n",
       "0         3  0.497181     adelante\n",
       "1         1  0.840738        ahora\n",
       "2         1  0.681913   asociacion\n",
       "2         2  0.340956   asociacion\n",
       "3         2  0.488862     atencion\n",
       "4         1  0.445989  barrabravas\n",
       "4         2  0.445989  barrabravas\n",
       "5         1  0.359053   camioneros\n",
       "5         2  0.359053   camioneros\n",
       "6         1  0.438581         club\n",
       "6         2  0.438581         club\n",
       "7         1  0.828705     contesto\n",
       "8         3  0.501277        cosas\n",
       "9         2  0.497539    detencion\n",
       "9         3  0.497539    detencion\n",
       "10        1  0.451156      dialogo\n",
       "10        3  0.451156      dialogo\n",
       "11        1  0.821585         dijo\n",
       "12        1  0.452621   dirigentes\n",
       "12        2  0.452621   dirigentes\n",
       "13        3  0.488678  disparatado\n",
       "14        2  0.789883    disparate\n",
       "15        2  0.778124     distraer\n",
       "16        1  0.826734    entienden\n",
       "17        1  0.841054       fiscal\n",
       "18        1  0.823648     frigerio\n",
       "19        1  0.451756      general\n",
       "19        2  0.451756      general\n",
       "20        2  0.772788        gente\n",
       "21        1  0.232044     gobierno\n",
       "...     ...       ...          ...\n",
       "33        1  0.951528          ley\n",
       "34        3  0.486537        lleva\n",
       "35        1  0.452145        lomas\n",
       "35        3  0.452145        lomas\n",
       "36        1  0.835451     ministro\n",
       "37        1  0.451619        mitre\n",
       "37        3  0.451619        mitre\n",
       "38        1  0.688957       moyano\n",
       "38        2  0.137791       moyano\n",
       "38        3  0.137791       moyano\n",
       "39        1  0.554787        pablo\n",
       "39        2  0.277394        pablo\n",
       "40        1  0.359961       pedido\n",
       "40        2  0.359961       pedido\n",
       "40        3  0.359961       pedido\n",
       "41        1  0.453389        radio\n",
       "41        3  0.453389        radio\n",
       "42        1  0.839266      rogelio\n",
       "43        1  0.453734   secretario\n",
       "43        2  0.453734   secretario\n",
       "44        1  0.964211           si\n",
       "45        1  0.449771    sindicato\n",
       "45        2  0.449771    sindicato\n",
       "46        1  0.451707      tambien\n",
       "46        3  0.451707      tambien\n",
       "47        3  0.488521          tan\n",
       "48        3  0.487640        todas\n",
       "49        1  0.825267      todavia\n",
       "50        1  0.458600       zamora\n",
       "50        3  0.458600       zamora\n",
       "\n",
       "[82 rows x 3 columns], R=30, lambda_step=0.01, plot_opts={'xlab': 'PC1', 'ylab': 'PC2'}, topic_order=[3, 1, 2])"
      ]
     },
     "execution_count": 71,
     "metadata": {},
     "output_type": "execute_result"
    }
   ],
   "source": [
    "import pyLDAvis.sklearn\n",
    " \n",
    "pyLDAvis.enable_notebook()\n",
    "panel = pyLDAvis.sklearn.prepare(lda_model, data_vectorized, vectorizer, mds='tsne')\n",
    "panel"
   ]
  },
  {
   "cell_type": "code",
   "execution_count": 72,
   "metadata": {
    "collapsed": true
   },
   "outputs": [],
   "source": [
    "import pandas as pd\n",
    "df = pd.read_csv('./data/hugo-moyano-pedido-detencion-hijo.csv', index_col= 0).dropna()"
   ]
  },
  {
   "cell_type": "code",
   "execution_count": 73,
   "metadata": {},
   "outputs": [
    {
     "name": "stdout",
     "output_type": "stream",
     "text": [
      "Si este pais no saca a los gremios sea el que este como presidente jamas saldra Adelante no puede ser que en las ultimas 7 decadas existe el poder presidencial y el sindicalista y para peor la CGT esto solo ocurre en este pais y no en uno normal.\n",
      "[0.11362197 0.45750947 0.42886856] 1.0\n"
     ]
    }
   ],
   "source": [
    "text = df.iloc[25].comments\n",
    "print(text)\n",
    "x = lda_model.transform(vectorizer.transform([text]))[0]\n",
    "print(x, x.sum())\n",
    "#distribución uniforme no comparte ninguna palabra, habría que ver si hay un topic minoritario también"
   ]
  },
  {
   "cell_type": "code",
   "execution_count": 74,
   "metadata": {
    "collapsed": true
   },
   "outputs": [],
   "source": [
    "#pruebas sobre comentarios"
   ]
  },
  {
   "cell_type": "code",
   "execution_count": 146,
   "metadata": {
    "collapsed": true
   },
   "outputs": [],
   "source": [
    "vectorizer = CountVectorizer(min_df=0.03, max_df=0.9, \n",
    "                             stop_words=stopwords.words('spanish'), lowercase=True, strip_accents='unicode', \n",
    "                             preprocessor= stemmer.stem)\n",
    "data_vectorized = vectorizer.fit_transform(df.comments)"
   ]
  },
  {
   "cell_type": "code",
   "execution_count": 125,
   "metadata": {},
   "outputs": [],
   "source": [
    "# from sklearn.feature_extraction.text import TfidfVectorizer\n",
    "# vectorizer = TfidfVectorizer(min_df= 7,stop_words=stopwords.words('spanish'), lowercase=True, strip_accents='unicode')\n",
    "# data_vectorized = vectorizer.fit_transform(df.comments)"
   ]
  },
  {
   "cell_type": "code",
   "execution_count": 147,
   "metadata": {},
   "outputs": [
    {
     "data": {
      "text/plain": [
       "vos             25\n",
       "van             24\n",
       "susana87        23\n",
       "solo            22\n",
       "si              21\n",
       "ser             20\n",
       "poder           19\n",
       "moyano          18\n",
       "mismo           17\n",
       "merc1708        16\n",
       "mejor           15\n",
       "mas             14\n",
       "mafiosos        13\n",
       "macri           12\n",
       "ley             11\n",
       "justicia        10\n",
       "just4justice     9\n",
       "hace             8\n",
       "guli1911         7\n",
       "gracias          6\n",
       "gobierno         5\n",
       "fper7709         4\n",
       "estan            3\n",
       "disparate        2\n",
       "años             1\n",
       "ahora            0\n",
       "dtype: int64"
      ]
     },
     "execution_count": 147,
     "metadata": {},
     "output_type": "execute_result"
    }
   ],
   "source": [
    "pd.Series(vectorizer.vocabulary_).sort_values(ascending = False)"
   ]
  },
  {
   "cell_type": "code",
   "execution_count": 207,
   "metadata": {
    "collapsed": true
   },
   "outputs": [],
   "source": [
    "lda_model = LatentDirichletAllocation(n_components=5, max_iter=10, learning_method='online')\n",
    "lda_Z = lda_model.fit_transform(data_vectorized)"
   ]
  },
  {
   "cell_type": "code",
   "execution_count": 208,
   "metadata": {},
   "outputs": [
    {
     "name": "stderr",
     "output_type": "stream",
     "text": [
      "C:\\Users\\p_bag\\Anaconda3\\lib\\site-packages\\pyLDAvis\\_prepare.py:257: FutureWarning: Sorting because non-concatenation axis is not aligned. A future version\n",
      "of pandas will change to not sort by default.\n",
      "\n",
      "To accept the future behavior, pass 'sort=False'.\n",
      "\n",
      "To retain the current behavior and silence the warning, pass 'sort=True'.\n",
      "\n",
      "  return pd.concat([default_term_info] + list(topic_dfs))\n"
     ]
    },
    {
     "data": {
      "text/html": [
       "\n",
       "<link rel=\"stylesheet\" type=\"text/css\" href=\"https://cdn.rawgit.com/bmabey/pyLDAvis/files/ldavis.v1.0.0.css\">\n",
       "\n",
       "\n",
       "<div id=\"ldavis_el1099618309976462164325807621\"></div>\n",
       "<script type=\"text/javascript\">\n",
       "\n",
       "var ldavis_el1099618309976462164325807621_data = {\"mdsDat\": {\"x\": [121.61566162109375, 96.79888916015625, 143.81588745117188, 32.28834533691406, 62.025390625], \"y\": [-61.9946174621582, -173.19349670410156, -126.81739044189453, -150.09510803222656, -90.908203125], \"topics\": [1, 2, 3, 4, 5], \"cluster\": [1, 1, 1, 1, 1], \"Freq\": [31.722453630405166, 20.232664768324213, 18.90943366885948, 17.34356945876669, 11.791878473644433]}, \"tinfo\": {\"Category\": [\"Default\", \"Default\", \"Default\", \"Default\", \"Default\", \"Default\", \"Default\", \"Default\", \"Default\", \"Default\", \"Default\", \"Default\", \"Default\", \"Default\", \"Default\", \"Default\", \"Default\", \"Default\", \"Default\", \"Default\", \"Default\", \"Default\", \"Default\", \"Default\", \"Default\", \"Default\", \"Topic1\", \"Topic1\", \"Topic1\", \"Topic1\", \"Topic1\", \"Topic1\", \"Topic1\", \"Topic1\", \"Topic1\", \"Topic1\", \"Topic1\", \"Topic1\", \"Topic1\", \"Topic1\", \"Topic1\", \"Topic1\", \"Topic1\", \"Topic1\", \"Topic1\", \"Topic1\", \"Topic1\", \"Topic1\", \"Topic1\", \"Topic1\", \"Topic1\", \"Topic1\", \"Topic2\", \"Topic2\", \"Topic2\", \"Topic2\", \"Topic2\", \"Topic2\", \"Topic2\", \"Topic2\", \"Topic2\", \"Topic2\", \"Topic2\", \"Topic2\", \"Topic2\", \"Topic2\", \"Topic2\", \"Topic2\", \"Topic2\", \"Topic2\", \"Topic2\", \"Topic2\", \"Topic2\", \"Topic2\", \"Topic2\", \"Topic2\", \"Topic2\", \"Topic2\", \"Topic3\", \"Topic3\", \"Topic3\", \"Topic3\", \"Topic3\", \"Topic3\", \"Topic3\", \"Topic3\", \"Topic3\", \"Topic3\", \"Topic3\", \"Topic3\", \"Topic3\", \"Topic3\", \"Topic3\", \"Topic3\", \"Topic3\", \"Topic3\", \"Topic3\", \"Topic3\", \"Topic3\", \"Topic3\", \"Topic3\", \"Topic3\", \"Topic3\", \"Topic3\", \"Topic4\", \"Topic4\", \"Topic4\", \"Topic4\", \"Topic4\", \"Topic4\", \"Topic4\", \"Topic4\", \"Topic4\", \"Topic4\", \"Topic4\", \"Topic4\", \"Topic4\", \"Topic4\", \"Topic4\", \"Topic4\", \"Topic4\", \"Topic4\", \"Topic4\", \"Topic4\", \"Topic4\", \"Topic4\", \"Topic4\", \"Topic4\", \"Topic4\", \"Topic4\", \"Topic5\", \"Topic5\", \"Topic5\", \"Topic5\", \"Topic5\", \"Topic5\", \"Topic5\", \"Topic5\", \"Topic5\", \"Topic5\", \"Topic5\", \"Topic5\", \"Topic5\", \"Topic5\", \"Topic5\", \"Topic5\", \"Topic5\", \"Topic5\", \"Topic5\", \"Topic5\", \"Topic5\", \"Topic5\", \"Topic5\", \"Topic5\", \"Topic5\", \"Topic5\"], \"Freq\": [14.0, 13.0, 38.0, 12.0, 27.0, 12.0, 12.0, 14.0, 9.0, 8.0, 7.0, 10.0, 7.0, 8.0, 6.0, 8.0, 12.0, 7.0, 7.0, 10.0, 7.0, 7.0, 29.0, 10.0, 10.0, 8.0, 11.187935099842788, 32.70969843364263, 8.378452961015743, 4.802070278827038, 16.690197081538365, 5.608580753474561, 4.272967337568139, 12.731037165091331, 1.7054512128973918, 0.6989512308716417, 0.675567135959913, 0.38755197456483276, 0.30422392056588354, 0.5023161956056306, 0.34471639108087726, 0.2285156891676397, 0.20708378733633215, 0.21187738038080411, 0.21661021265508196, 0.3207548227471502, 0.23751670352388926, 0.24375827085039292, 0.33196575716579113, 0.2616464877814168, 0.22502950219928927, 0.2479475850703482, 11.41825906008644, 5.972157583953811, 6.786566430135224, 7.1491366576134086, 7.659092338940426, 5.037377218061964, 4.732380799155534, 2.759317092056886, 7.0453808132425815, 2.5164714058088284, 0.9853302499907423, 0.26728086902660225, 0.368524849098266, 0.2646595557886447, 0.3209020391486938, 0.2935572834687296, 0.24376985930250383, 0.24770765229494954, 0.28823200523654124, 0.23323505302542208, 0.2652614727778377, 0.23499154794148283, 0.23977547852593908, 0.23399960779325854, 0.28544597729562177, 0.31200089264982833, 11.861100049535528, 6.612874075457194, 10.972054549101435, 13.761919097536113, 3.5103344313157057, 2.513197134153925, 1.2837019181828397, 4.396145955457053, 1.2396057767030095, 0.6995861138729845, 0.2908533783500641, 0.3404702949914163, 0.4889403783645975, 0.2685571083400323, 0.2577133100125231, 0.2586487327639489, 0.29970866302291077, 0.2653476572939018, 0.3232876660444903, 0.25927827958272404, 0.2672545278618897, 0.4335509180080426, 0.26453087268259595, 0.29693536048331814, 0.25952557158938283, 0.4087262764628875, 11.482187719579501, 8.424850557440726, 6.424738566467218, 5.59729759028495, 7.216937460495726, 5.011570421380808, 5.084013228596703, 0.8764190809259396, 0.33907022103884793, 1.4064655625114975, 0.6673518743109224, 0.3574585237088186, 0.28166897467106417, 0.28269695160645053, 0.26701226252669263, 0.2452650330745119, 0.25004101048391075, 0.2448387351889239, 0.28366241754020616, 0.3439264283300588, 0.3176475822276104, 0.25215191770533457, 0.2435032511774172, 0.2415490296676534, 0.24884532343602087, 0.32230240578957636, 13.686225506212793, 11.366025629369839, 2.905488275182946, 2.1818897309648366, 1.5464841676355714, 0.30791266981560345, 0.3185151456952881, 0.3258729757437421, 0.3232263707863075, 0.33170778332952355, 0.30290224167637947, 0.3192961606355596, 0.3144544585459661, 0.30398766993765064, 0.3021387140835747, 0.31251556208110226, 0.31082436813801717, 0.30930495880581416, 0.3197857438471417, 0.31087997531623474, 0.30654150198072566, 0.3040040930483309, 0.30671649069872514, 0.5584745286054532, 0.34856312957482416, 0.33570475710534914], \"Term\": [\"estan\", \"merc1708\", \"moyano\", \"macri\", \"mas\", \"poder\", \"justicia\", \"gobierno\", \"fper7709\", \"ahora\", \"susana87\", \"ser\", \"gracias\", \"guli1911\", \"just4justice\", \"van\", \"disparate\", \"a\\u00f1os\", \"hace\", \"mafiosos\", \"mismo\", \"ley\", \"si\", \"vos\", \"solo\", \"mejor\", \"disparate\", \"moyano\", \"vos\", \"mejor\", \"si\", \"solo\", \"hace\", \"mas\", \"ley\", \"guli1911\", \"ahora\", \"van\", \"gracias\", \"merc1708\", \"ser\", \"a\\u00f1os\", \"just4justice\", \"mismo\", \"susana87\", \"macri\", \"fper7709\", \"mafiosos\", \"estan\", \"poder\", \"justicia\", \"gobierno\", \"justicia\", \"a\\u00f1os\", \"van\", \"guli1911\", \"ser\", \"mismo\", \"ley\", \"mejor\", \"si\", \"gobierno\", \"mafiosos\", \"just4justice\", \"solo\", \"gracias\", \"fper7709\", \"ahora\", \"susana87\", \"hace\", \"disparate\", \"vos\", \"macri\", \"poder\", \"merc1708\", \"estan\", \"mas\", \"moyano\", \"poder\", \"gracias\", \"gobierno\", \"mas\", \"solo\", \"mafiosos\", \"mismo\", \"si\", \"merc1708\", \"vos\", \"just4justice\", \"van\", \"justicia\", \"ley\", \"a\\u00f1os\", \"susana87\", \"ahora\", \"hace\", \"ser\", \"mejor\", \"guli1911\", \"estan\", \"fper7709\", \"disparate\", \"macri\", \"moyano\", \"macri\", \"fper7709\", \"susana87\", \"just4justice\", \"ahora\", \"mafiosos\", \"moyano\", \"vos\", \"mismo\", \"si\", \"gobierno\", \"van\", \"a\\u00f1os\", \"ley\", \"gracias\", \"hace\", \"mejor\", \"guli1911\", \"ser\", \"justicia\", \"disparate\", \"solo\", \"poder\", \"merc1708\", \"estan\", \"mas\", \"estan\", \"merc1708\", \"hace\", \"mafiosos\", \"ser\", \"just4justice\", \"a\\u00f1os\", \"ley\", \"susana87\", \"gracias\", \"mismo\", \"van\", \"mejor\", \"guli1911\", \"ahora\", \"fper7709\", \"solo\", \"vos\", \"disparate\", \"macri\", \"justicia\", \"poder\", \"gobierno\", \"mas\", \"si\", \"moyano\"], \"Total\": [14.0, 13.0, 38.0, 12.0, 27.0, 12.0, 12.0, 14.0, 9.0, 8.0, 7.0, 10.0, 7.0, 8.0, 6.0, 8.0, 12.0, 7.0, 7.0, 10.0, 7.0, 7.0, 29.0, 10.0, 10.0, 8.0, 12.410535791637399, 38.85014358845739, 10.496998167645904, 8.385161119496527, 29.886752542324317, 10.050416319731884, 7.936775955414449, 27.659179174318098, 7.314959047743151, 8.664168821473517, 8.787909257030853, 8.191343384035852, 7.7804775976679394, 13.58927210987207, 10.15724298124157, 7.058570703500327, 6.6704282948135525, 7.174928979340836, 7.46699374197506, 12.638609562010107, 9.560315734877008, 10.935745807340705, 14.934587112615906, 12.905245429484175, 12.782696870961113, 14.71054190499026, 12.782696870961113, 7.058570703500327, 8.191343384035852, 8.664168821473517, 10.15724298124157, 7.174928979340836, 7.314959047743151, 8.385161119496527, 29.886752542324317, 14.71054190499026, 10.935745807340705, 6.6704282948135525, 10.050416319731884, 7.7804775976679394, 9.560315734877008, 8.787909257030853, 7.46699374197506, 7.936775955414449, 12.410535791637399, 10.496998167645904, 12.638609562010107, 12.905245429484175, 13.58927210987207, 14.934587112615906, 27.659179174318098, 38.85014358845739, 12.905245429484175, 7.7804775976679394, 14.71054190499026, 27.659179174318098, 10.050416319731884, 10.935745807340705, 7.174928979340836, 29.886752542324317, 13.58927210987207, 10.496998167645904, 6.6704282948135525, 8.191343384035852, 12.782696870961113, 7.314959047743151, 7.058570703500327, 7.46699374197506, 8.787909257030853, 7.936775955414449, 10.15724298124157, 8.385161119496527, 8.664168821473517, 14.934587112615906, 9.560315734877008, 12.410535791637399, 12.638609562010107, 38.85014358845739, 12.638609562010107, 9.560315734877008, 7.46699374197506, 6.6704282948135525, 8.787909257030853, 10.935745807340705, 38.85014358845739, 10.496998167645904, 7.174928979340836, 29.886752542324317, 14.71054190499026, 8.191343384035852, 7.058570703500327, 7.314959047743151, 7.7804775976679394, 7.936775955414449, 8.385161119496527, 8.664168821473517, 10.15724298124157, 12.782696870961113, 12.410535791637399, 10.050416319731884, 12.905245429484175, 13.58927210987207, 14.934587112615906, 27.659179174318098, 14.934587112615906, 13.58927210987207, 7.936775955414449, 10.935745807340705, 10.15724298124157, 6.6704282948135525, 7.058570703500327, 7.314959047743151, 7.46699374197506, 7.7804775976679394, 7.174928979340836, 8.191343384035852, 8.385161119496527, 8.664168821473517, 8.787909257030853, 9.560315734877008, 10.050416319731884, 10.496998167645904, 12.410535791637399, 12.638609562010107, 12.782696870961113, 12.905245429484175, 14.71054190499026, 27.659179174318098, 29.886752542324317, 38.85014358845739], \"loglift\": [26.0, 25.0, 24.0, 23.0, 22.0, 21.0, 20.0, 19.0, 18.0, 17.0, 16.0, 15.0, 14.0, 13.0, 12.0, 11.0, 10.0, 9.0, 8.0, 7.0, 6.0, 5.0, 4.0, 3.0, 2.0, 1.0, 1.0444, 0.9761, 0.9227, 0.5907, 0.5656, 0.5648, 0.5289, 0.3722, -0.3079, -1.3692, -1.4174, -1.9028, -2.0935, -2.1497, -2.2351, -2.2822, -2.3242, -2.3742, -2.392, -2.5257, -2.547, -2.6555, -2.6583, -2.7502, -2.8915, -2.935, 1.485, 1.4307, 1.4097, 1.4057, 1.3156, 1.2442, 1.1624, 0.4864, 0.1528, -0.1678, -0.8089, -1.6193, -1.708, -1.7831, -1.7964, -1.8012, -1.8242, -1.8691, -2.1647, -2.2089, -2.2659, -2.408, -2.4395, -2.5582, -2.9758, -3.2266, 1.5811, 1.5029, 1.3723, 0.9675, 0.6136, 0.195, -0.0553, -0.2512, -0.729, -1.0428, -1.4671, -1.515, -1.5981, -1.6391, -1.6446, -1.6973, -1.7128, -1.7327, -1.7819, -1.8108, -1.8132, -1.8739, -1.9219, -2.0673, -2.2201, -2.8889, 1.656, 1.6255, 1.6016, 1.5765, 1.555, 0.9717, -0.2817, -0.7311, -1.3002, -1.3044, -1.3411, -1.3799, -1.4693, -1.5014, -1.6201, -1.725, -1.7606, -1.8144, -1.8262, -1.8635, -1.9134, -1.9334, -2.2183, -2.278, -2.3427, -2.7003, 2.0505, 1.9591, 1.1329, 0.5259, 0.2556, -0.9379, -0.9606, -0.9734, -1.0021, -1.0174, -1.0272, -1.107, -1.1456, -1.2122, -1.2325, -1.283, -1.3384, -1.3868, -1.5209, -1.5673, -1.5927, -1.6106, -1.7326, -1.7647, -2.3136, -2.6135], \"logprob\": [26.0, 25.0, 24.0, 23.0, 22.0, 21.0, 20.0, 19.0, 18.0, 17.0, 16.0, 15.0, 14.0, 13.0, 12.0, 11.0, 10.0, 9.0, 8.0, 7.0, 6.0, 5.0, 4.0, 3.0, 2.0, 1.0, -2.227, -1.1541, -2.5162, -3.0728, -1.827, -2.9175, -3.1895, -2.0978, -4.108, -5.0, -5.034, -5.5897, -5.8318, -5.3303, -5.7068, -6.118, -6.2164, -6.1936, -6.1715, -5.7789, -6.0793, -6.0534, -5.7445, -5.9826, -6.1333, -6.0364, -1.7569, -2.405, -2.2771, -2.2251, -2.1562, -2.5752, -2.6377, -3.1771, -2.2397, -3.2692, -4.2069, -5.5115, -5.1903, -5.5214, -5.3287, -5.4178, -5.6036, -5.5876, -5.4361, -5.6478, -5.5191, -5.6403, -5.6201, -5.6445, -5.4458, -5.3568, -1.6512, -2.2354, -1.7291, -1.5025, -2.8687, -3.2029, -3.8747, -2.6437, -3.9097, -4.4817, -5.3594, -5.2019, -4.84, -5.4391, -5.4804, -5.4767, -5.3294, -5.4512, -5.2537, -5.4743, -5.444, -4.9602, -5.4542, -5.3387, -5.4734, -5.0192, -1.5972, -1.9068, -2.1779, -2.3157, -2.0616, -2.4263, -2.4119, -4.1699, -5.1196, -3.6969, -4.4424, -5.0667, -5.305, -5.3014, -5.3585, -5.4434, -5.4241, -5.4452, -5.298, -5.1053, -5.1848, -5.4157, -5.4506, -5.4587, -5.4289, -5.1703, -1.0358, -1.2216, -2.5856, -2.872, -3.2162, -4.8301, -4.7963, -4.7734, -4.7816, -4.7557, -4.8465, -4.7938, -4.8091, -4.843, -4.8491, -4.8153, -4.8207, -4.8256, -4.7923, -4.8205, -4.8346, -4.8429, -4.834, -4.2347, -4.7061, -4.7437]}, \"token.table\": {\"Topic\": [1, 4, 2, 1, 5, 4, 2, 3, 4, 3, 1, 2, 1, 5, 4, 2, 1, 2, 4, 2, 3, 4, 5, 1, 3, 5, 1, 2, 1, 3, 5, 2, 3, 1, 4, 3, 2, 5, 1, 2, 3, 4, 1, 3, 4, 2, 1, 3, 4], \"Freq\": [0.11379270890854275, 0.7965489623597992, 0.8500304455439704, 0.8863436828740415, 0.9374212955759307, 0.836792447221715, 0.20393538316778864, 0.747763071615225, 0.06797846105592954, 0.8996877006751007, 0.11541788030740724, 0.8079251621518506, 0.5039829803021225, 0.3779872352265919, 0.8994924665729741, 0.860538281635159, 0.27341233039671636, 0.6835308259917909, 0.8703489055524322, 0.09144323739938634, 0.27432971219815905, 0.45721618699693173, 0.18288647479877268, 0.47000671704931385, 0.5061610798992611, 0.03615436284994722, 0.5962914640214113, 0.3577748784128468, 0.07358745868908897, 0.07358745868908897, 0.8094620455799788, 0.6968710093712108, 0.13937420187424215, 0.8494177099979753, 0.12869965302999625, 0.9298544584502056, 0.7876153021813525, 0.1969038255453381, 0.5688138909011724, 0.23421748448871804, 0.13383856256498172, 0.03345964064124543, 0.5969901951444796, 0.3979934634296531, 0.8035362298847953, 0.8545606833724408, 0.7621226442296417, 0.09526533052870521, 0.09526533052870521], \"Term\": [\"ahora\", \"ahora\", \"a\\u00f1os\", \"disparate\", \"estan\", \"fper7709\", \"gobierno\", \"gobierno\", \"gobierno\", \"gracias\", \"guli1911\", \"guli1911\", \"hace\", \"hace\", \"just4justice\", \"justicia\", \"ley\", \"ley\", \"macri\", \"mafiosos\", \"mafiosos\", \"mafiosos\", \"mafiosos\", \"mas\", \"mas\", \"mas\", \"mejor\", \"mejor\", \"merc1708\", \"merc1708\", \"merc1708\", \"mismo\", \"mismo\", \"moyano\", \"moyano\", \"poder\", \"ser\", \"ser\", \"si\", \"si\", \"si\", \"si\", \"solo\", \"solo\", \"susana87\", \"van\", \"vos\", \"vos\", \"vos\"]}, \"R\": 26, \"lambda.step\": 0.01, \"plot.opts\": {\"xlab\": \"PC1\", \"ylab\": \"PC2\"}, \"topic.order\": [2, 5, 3, 1, 4]};\n",
       "\n",
       "function LDAvis_load_lib(url, callback){\n",
       "  var s = document.createElement('script');\n",
       "  s.src = url;\n",
       "  s.async = true;\n",
       "  s.onreadystatechange = s.onload = callback;\n",
       "  s.onerror = function(){console.warn(\"failed to load library \" + url);};\n",
       "  document.getElementsByTagName(\"head\")[0].appendChild(s);\n",
       "}\n",
       "\n",
       "if(typeof(LDAvis) !== \"undefined\"){\n",
       "   // already loaded: just create the visualization\n",
       "   !function(LDAvis){\n",
       "       new LDAvis(\"#\" + \"ldavis_el1099618309976462164325807621\", ldavis_el1099618309976462164325807621_data);\n",
       "   }(LDAvis);\n",
       "}else if(typeof define === \"function\" && define.amd){\n",
       "   // require.js is available: use it to load d3/LDAvis\n",
       "   require.config({paths: {d3: \"https://cdnjs.cloudflare.com/ajax/libs/d3/3.5.5/d3.min\"}});\n",
       "   require([\"d3\"], function(d3){\n",
       "      window.d3 = d3;\n",
       "      LDAvis_load_lib(\"https://cdn.rawgit.com/bmabey/pyLDAvis/files/ldavis.v1.0.0.js\", function(){\n",
       "        new LDAvis(\"#\" + \"ldavis_el1099618309976462164325807621\", ldavis_el1099618309976462164325807621_data);\n",
       "      });\n",
       "    });\n",
       "}else{\n",
       "    // require.js not available: dynamically load d3 & LDAvis\n",
       "    LDAvis_load_lib(\"https://cdnjs.cloudflare.com/ajax/libs/d3/3.5.5/d3.min.js\", function(){\n",
       "         LDAvis_load_lib(\"https://cdn.rawgit.com/bmabey/pyLDAvis/files/ldavis.v1.0.0.js\", function(){\n",
       "                 new LDAvis(\"#\" + \"ldavis_el1099618309976462164325807621\", ldavis_el1099618309976462164325807621_data);\n",
       "            })\n",
       "         });\n",
       "}\n",
       "</script>"
      ],
      "text/plain": [
       "PreparedData(topic_coordinates=                x           y  topics  cluster       Freq\n",
       "topic                                                    \n",
       "1      121.615662  -61.994617       1        1  31.722454\n",
       "4       96.798889 -173.193497       2        1  20.232665\n",
       "2      143.815887 -126.817390       3        1  18.909434\n",
       "0       32.288345 -150.095108       4        1  17.343569\n",
       "3       62.025391  -90.908203       5        1  11.791878, topic_info=     Category       Freq          Term      Total  loglift  logprob\n",
       "term                                                               \n",
       "3     Default  14.000000         estan  14.000000  26.0000  26.0000\n",
       "16    Default  13.000000      merc1708  13.000000  25.0000  25.0000\n",
       "18    Default  38.000000        moyano  38.000000  24.0000  24.0000\n",
       "12    Default  12.000000         macri  12.000000  23.0000  23.0000\n",
       "14    Default  27.000000           mas  27.000000  22.0000  22.0000\n",
       "19    Default  12.000000         poder  12.000000  21.0000  21.0000\n",
       "10    Default  12.000000      justicia  12.000000  20.0000  20.0000\n",
       "5     Default  14.000000      gobierno  14.000000  19.0000  19.0000\n",
       "4     Default   9.000000      fper7709   9.000000  18.0000  18.0000\n",
       "0     Default   8.000000         ahora   8.000000  17.0000  17.0000\n",
       "23    Default   7.000000      susana87   7.000000  16.0000  16.0000\n",
       "20    Default  10.000000           ser  10.000000  15.0000  15.0000\n",
       "6     Default   7.000000       gracias   7.000000  14.0000  14.0000\n",
       "7     Default   8.000000      guli1911   8.000000  13.0000  13.0000\n",
       "9     Default   6.000000  just4justice   6.000000  12.0000  12.0000\n",
       "24    Default   8.000000           van   8.000000  11.0000  11.0000\n",
       "2     Default  12.000000     disparate  12.000000  10.0000  10.0000\n",
       "1     Default   7.000000          años   7.000000   9.0000   9.0000\n",
       "8     Default   7.000000          hace   7.000000   8.0000   8.0000\n",
       "13    Default  10.000000      mafiosos  10.000000   7.0000   7.0000\n",
       "17    Default   7.000000         mismo   7.000000   6.0000   6.0000\n",
       "11    Default   7.000000           ley   7.000000   5.0000   5.0000\n",
       "21    Default  29.000000            si  29.000000   4.0000   4.0000\n",
       "25    Default  10.000000           vos  10.000000   3.0000   3.0000\n",
       "22    Default  10.000000          solo  10.000000   2.0000   2.0000\n",
       "15    Default   8.000000         mejor   8.000000   1.0000   1.0000\n",
       "2      Topic1  11.187935     disparate  12.410536   1.0444  -2.2270\n",
       "18     Topic1  32.709698        moyano  38.850144   0.9761  -1.1541\n",
       "25     Topic1   8.378453           vos  10.496998   0.9227  -2.5162\n",
       "15     Topic1   4.802070         mejor   8.385161   0.5907  -3.0728\n",
       "...       ...        ...           ...        ...      ...      ...\n",
       "19     Topic4   0.243503         poder  12.905245  -2.2183  -5.4506\n",
       "16     Topic4   0.241549      merc1708  13.589272  -2.2780  -5.4587\n",
       "3      Topic4   0.248845         estan  14.934587  -2.3427  -5.4289\n",
       "14     Topic4   0.322302           mas  27.659179  -2.7003  -5.1703\n",
       "3      Topic5  13.686226         estan  14.934587   2.0505  -1.0358\n",
       "16     Topic5  11.366026      merc1708  13.589272   1.9591  -1.2216\n",
       "8      Topic5   2.905488          hace   7.936776   1.1329  -2.5856\n",
       "13     Topic5   2.181890      mafiosos  10.935746   0.5259  -2.8720\n",
       "20     Topic5   1.546484           ser  10.157243   0.2556  -3.2162\n",
       "9      Topic5   0.307913  just4justice   6.670428  -0.9379  -4.8301\n",
       "1      Topic5   0.318515          años   7.058571  -0.9606  -4.7963\n",
       "11     Topic5   0.325873           ley   7.314959  -0.9734  -4.7734\n",
       "23     Topic5   0.323226      susana87   7.466994  -1.0021  -4.7816\n",
       "6      Topic5   0.331708       gracias   7.780478  -1.0174  -4.7557\n",
       "17     Topic5   0.302902         mismo   7.174929  -1.0272  -4.8465\n",
       "24     Topic5   0.319296           van   8.191343  -1.1070  -4.7938\n",
       "15     Topic5   0.314454         mejor   8.385161  -1.1456  -4.8091\n",
       "7      Topic5   0.303988      guli1911   8.664169  -1.2122  -4.8430\n",
       "0      Topic5   0.302139         ahora   8.787909  -1.2325  -4.8491\n",
       "4      Topic5   0.312516      fper7709   9.560316  -1.2830  -4.8153\n",
       "22     Topic5   0.310824          solo  10.050416  -1.3384  -4.8207\n",
       "25     Topic5   0.309305           vos  10.496998  -1.3868  -4.8256\n",
       "2      Topic5   0.319786     disparate  12.410536  -1.5209  -4.7923\n",
       "12     Topic5   0.310880         macri  12.638610  -1.5673  -4.8205\n",
       "10     Topic5   0.306542      justicia  12.782697  -1.5927  -4.8346\n",
       "19     Topic5   0.304004         poder  12.905245  -1.6106  -4.8429\n",
       "5      Topic5   0.306716      gobierno  14.710542  -1.7326  -4.8340\n",
       "14     Topic5   0.558475           mas  27.659179  -1.7647  -4.2347\n",
       "21     Topic5   0.348563            si  29.886753  -2.3136  -4.7061\n",
       "18     Topic5   0.335705        moyano  38.850144  -2.6135  -4.7437\n",
       "\n",
       "[156 rows x 6 columns], token_table=      Topic      Freq          Term\n",
       "term                               \n",
       "0         1  0.113793         ahora\n",
       "0         4  0.796549         ahora\n",
       "1         2  0.850030          años\n",
       "2         1  0.886344     disparate\n",
       "3         5  0.937421         estan\n",
       "4         4  0.836792      fper7709\n",
       "5         2  0.203935      gobierno\n",
       "5         3  0.747763      gobierno\n",
       "5         4  0.067978      gobierno\n",
       "6         3  0.899688       gracias\n",
       "7         1  0.115418      guli1911\n",
       "7         2  0.807925      guli1911\n",
       "8         1  0.503983          hace\n",
       "8         5  0.377987          hace\n",
       "9         4  0.899492  just4justice\n",
       "10        2  0.860538      justicia\n",
       "11        1  0.273412           ley\n",
       "11        2  0.683531           ley\n",
       "12        4  0.870349         macri\n",
       "13        2  0.091443      mafiosos\n",
       "13        3  0.274330      mafiosos\n",
       "13        4  0.457216      mafiosos\n",
       "13        5  0.182886      mafiosos\n",
       "14        1  0.470007           mas\n",
       "14        3  0.506161           mas\n",
       "14        5  0.036154           mas\n",
       "15        1  0.596291         mejor\n",
       "15        2  0.357775         mejor\n",
       "16        1  0.073587      merc1708\n",
       "16        3  0.073587      merc1708\n",
       "16        5  0.809462      merc1708\n",
       "17        2  0.696871         mismo\n",
       "17        3  0.139374         mismo\n",
       "18        1  0.849418        moyano\n",
       "18        4  0.128700        moyano\n",
       "19        3  0.929854         poder\n",
       "20        2  0.787615           ser\n",
       "20        5  0.196904           ser\n",
       "21        1  0.568814            si\n",
       "21        2  0.234217            si\n",
       "21        3  0.133839            si\n",
       "21        4  0.033460            si\n",
       "22        1  0.596990          solo\n",
       "22        3  0.397993          solo\n",
       "23        4  0.803536      susana87\n",
       "24        2  0.854561           van\n",
       "25        1  0.762123           vos\n",
       "25        3  0.095265           vos\n",
       "25        4  0.095265           vos, R=26, lambda_step=0.01, plot_opts={'xlab': 'PC1', 'ylab': 'PC2'}, topic_order=[2, 5, 3, 1, 4])"
      ]
     },
     "execution_count": 208,
     "metadata": {},
     "output_type": "execute_result"
    }
   ],
   "source": [
    "pyLDAvis.enable_notebook()\n",
    "panel = pyLDAvis.sklearn.prepare(lda_model, data_vectorized, vectorizer, mds='tsne')\n",
    "panel"
   ]
  },
  {
   "cell_type": "code",
   "execution_count": 209,
   "metadata": {},
   "outputs": [
    {
     "data": {
      "text/plain": [
       "4    94\n",
       "1    62\n",
       "0    28\n",
       "2    25\n",
       "3    15\n",
       "Name: topicos, dtype: int64"
      ]
     },
     "execution_count": 209,
     "metadata": {},
     "output_type": "execute_result"
    }
   ],
   "source": [
    "topicos = lda_Z.argmax(axis = 1)\n",
    "topicos[pd.DataFrame(lda_Z).apply(np.unique, axis = 1).apply(len) == 1] = 4\n",
    "df['topicos'] = topicos\n",
    "df.topicos.value_counts()"
   ]
  },
  {
   "cell_type": "code",
   "execution_count": 214,
   "metadata": {},
   "outputs": [
    {
     "data": {
      "text/plain": [
       "['PERONISTA ES AQUEL QUE SE HACE LLAMAR DE ESA MANERA PARA SACAR VENTAJA\\r\\n\\r\\nJ. L. Borges',\n",
       " '@timsanders Están pensando en lanzarse en camiones hacia la casa rosada. Para estos mafiosos no hay límites. De terror!',\n",
       " '@merc1708 NO NECESARIAMENTE. LAS EVIDENCIAS ESTAN A LA VISTA. QUE TENGAN REPERCUSION POLITICA, ES OTRA COSA. ',\n",
       " 'No dije repercusión. Están manejados políticamente.',\n",
       " '@merc1708 PROBALO.',\n",
       " '@merc1708 perdón, y en que basa tan temeraria aseveración?',\n",
       " '@merc1708 Ya están hechas todas las denuncias. Preguntale a Florencia Arietto.',\n",
       " '@merc1708 Acaso no es verdad? ud tiene menos argumentos que el Pato Donald',\n",
       " '@merc1708 Que Perón era brillante decís ? Sin duda, por eso nunca les dio las obras sociales, regalo que le deben a la dictadura de Onganía.',\n",
       " '@merc1708 ¿ Se imagina cómo mafiosos multimillonarios, sueltos, sin escrúpulos, podrían apretar a muchos y silenciar a otros ?.',\n",
       " 'Pero están y apoyan cuando salen a cortar calles, a amenazar y a jorobarle la vida a quien trabaja honestamente. O no??',\n",
       " 'El moyanaje debe ser de Balcarce. Están más sucios que una papa.',\n",
       " 'Decir cualquier estupidez , no lo hace inocente a tu nene , tiene tu ADN ',\n",
       " 'Una de las diferencias entre la \\'Ndrangheta, la Cosa Nostra o la Camorra y el sindicalismo peronista: las primeras tienen un código de \"omertá\", de silencio. Las nuestras se creen tan impunes que están en los medios permanentemente.',\n",
       " 'Para distraer esta NEFLIXT,para delinquir estan los SINDICALISTAS. Por las dudas te paso significado de delenquir: Cometer un delito si continúa con esas compañías puede acabar delinquiendo ']"
      ]
     },
     "execution_count": 214,
     "metadata": {},
     "output_type": "execute_result"
    }
   ],
   "source": [
    "#topico minoritario\n",
    "[x for x in df.loc[df.topicos == 3].comments]"
   ]
  },
  {
   "cell_type": "code",
   "execution_count": 215,
   "metadata": {},
   "outputs": [
    {
     "data": {
      "text/plain": [
       "['Seria muy recomendable q no hagan escala en Brasil.por las dudas',\n",
       " '@susana87 Imaginate que tienen que hablar con delincuentes como  GAV0IS ........  HASTA TANTO LA JUSTICIA LOS EMBARGUE Y ENCANE... EL GOBIERNO HABLA ..... ',\n",
       " 'Me parece q los q se van a tener q ir rapido en helicoptero hacia Venezuela.(si no quieren terminar todos presos)van a ser otros.y no precisamente el gobierno de Cambiemos.',\n",
       " 'El POROTISMO esta ON FIRE: SE LES CAE OTRO ALIADO',\n",
       " 'Moyano vivimos en democracia deje que la justicia actue…...',\n",
       " 'Otro que se reune con el Pancho y recibe la \"bendicion\"',\n",
       " 'Alguien en su sano juicio duda de la acusación del Fiscal.....? ',\n",
       " 'ESTA VEZ EL HELICOPTERO ESTA LISTO PARA LA IZQUIERDA Y EL CANCER DEL SINDICALISMO !!!!!.....  CUANDO ARGENTINA TERMINE LA RADIOTERAPIA  SERA DE UNA VEZ REPUBLICA !!! ',\n",
       " 'Panchooooooooo, faltan rosarios! Hay una escasez enorme!',\n",
       " '@fumenoire  Es que los chinos no alcanzan a la demanda',\n",
       " 'Extraño la serie \"Los intocables\".',\n",
       " 'Demostralo en un tribunal Moyi.',\n",
       " 'Y falta, negri querido, tu dulce e inocente esposa!',\n",
       " 'Estos ya son \"los encausados\"',\n",
       " 'Dr en que estimado Rai',\n",
       " '@ghriva Doctorado en ASADO, VINO y APRIETES',\n",
       " 'Yo sabia que tenia un doctorado en lavador de tripas. Es el mismo?',\n",
       " 'Facil, que explique su patrimonio.',\n",
       " 'Prefiero a Al-Capone contra Eliot Ness.',\n",
       " '@fumenoire La cara y el fisique du rol, convengamos que son perfectos ad hoc....',\n",
       " 'tenés que ir preso mafia,',\n",
       " 'La carcel te va a bajar los humitos negro',\n",
       " 'Este no tiene fueros pero tiene \"fierros\"',\n",
       " 'PUEDE QUE ALGO CAMBIE EL DIA QUE SE SANCIONE UNA LEY QUE IMPIDA QUE CUALQUIER CARGO ELECTIVO -PUBLICO O PRIVADO- SUPERE EL TIEMPO MAXIMO QUE LA CONSTITUCION OTORGA AL PRESIDENTE DE LA NACION. DOS PERIODOS SEGUIDOS DE 4 AÑOS Y DESPUES AL LLANO. ',\n",
       " 'Los PERONISTAS lo van a impedir ... como impiden la sanción de la ley de extinción de dominio para recuperar bienes para el Estado de políticos corruptos',\n",
       " 'ME SACO EL SOMBRERO ANTE LOS DIRIGENTES SINDICALES Y SOCIALES QUE ABNEGAN POR EL BIEN DE SUS REPRESENTADOS SIN USUFRUCTUAR ECONOMICAMENTE DE ELLO. PERO TODOS SABEMOS SOBRADAMENTE QUE ESTE NO ES EL CASO... ',\n",
       " 'Los sindicalistas el que menos tiene son 30 años al frente de sus respectivo gremio, cero alternancia, la democracia a estos tipos les importa un bledo, carecen en todos los casos de formación cívica, se pasan la vida apretando, desestabilizando  y/o extorsionando a todos los gobiernos y esto se tiene que terminar de una buena vez.',\n",
       " '... en 1945 lanzaron 2 BOMBAS ATÓMICAS sobre JAPÓN .... en 1945 surgió el PERONISMO en ARGENTINA ..... 70 años despues, se comprueba CIENTÍFICAMENTE que el PERONISMO es peor que la BOMBA ATÓMICA ...',\n",
       " 'Hay q explicarle a este tipo que \"Ley pareja no es rigurosa\" y\" El q nada debe nada teme\", nuestra Constitución Nacional dice que somos todos iguales ante la Ley.',\n",
       " '@Mojigato Muy bueno !',\n",
       " '@lafraslafra y un clubcito de futbol de barrio para que jueguen los nenes. Nada importante.',\n",
       " 'Son temas penales manejados por intereses políticos.',\n",
       " 'La verdad no se de que trata esta causa, no la he seguido para nada ,para mi todas son causas menores con respecto a la figura de la Porota como Jefa de una Asociacion Ilicita, y puedo decir con certeza que dada la impunidad actual no todos serian iguales ante la ley como dice el Sr. Frigerio.',\n",
       " 'Ademas el mismisimo Presidente veria con beneplacito no penar a los empresarios que defraudaron al Estado con la obra publica y accionaron ilegalmente para no parar la misma.',\n",
       " '@Vipest barrabasada de comentario',\n",
       " '@Vipest La impunidad facturásela al Congreso, especialmente al bloque peronista que comanda Picchetto.',\n",
       " 'Suelo viajar dentro de la provincia de Buenos Aires....  los remiseros y taxistas... que escuchan y ven mas que la mayoria ...  siempre me dicen   \"...Esto es de los  M0yano......  o   esto es de Sholi ......  \".... Lo mismo en la zona de Carmelo Uruguay...... es increible LO QUE HAN SAKEADO .....   Como no van a estar dispuestos a TODO... ?.... ',\n",
       " 'Si lo dice un taxista debe necesariamente ser verdad.',\n",
       " 'Pagaria una gran cuota mensual por acceder a una camarita en la celda de estos asesinos ... viendo como se la dan 20 veces por día !!!!.......',\n",
       " '¡Aaahh! ¡nos sorprendió a todos porque esperabamos alguna respuesta clásica, de manual, pero contraatacó con un argumento novedoso!. No les van a ganar a imaginativos.',\n",
       " '@lafraslafra Desde que leen a Nietszche van mejorando el pensamiento.',\n",
       " 'Esto es lo mismo que los mafiosos de Chicago años 30 que manejaban sindicatos y vendían protección.',\n",
       " 'No, no de lo que usted asegura.',\n",
       " '@jlopez149 Por eso llevamos 70 años de atraso. El mismo Peron dijo que eran unos choros, pero se quedo corto',\n",
       " 'Respuesta de manual la de Huguito...',\n",
       " 'Todo en familia. Como los Corleone. O peor,  porque es con la complicidad del estado.',\n",
       " 'Pues yo me estoy \"distrayendo\" mucho.',\n",
       " 'A llorar a la cancha.',\n",
       " 'Muy democrático su comentario.',\n",
       " 'En la justicia no alcanza con imaginar, hay que probar.',\n",
       " 'Porque no elije otra excusa, esta es muy trillada.',\n",
       " 'Cuánta mafia Dios mio!!!  Como vamos a remontar con ese peso que nos enchufó la inacción o complicidad de la justicia.',\n",
       " 'DE MANUAL, LO DE MOY.ANO',\n",
       " '@jsalvetti2 \"político\" (con comillas)',\n",
       " '@richaires Y la Sra. su Contratista.',\n",
       " 'VOLVEMOS !!',\n",
       " 'Gato cuando te vayas te vas a tener que refugiar en Liberia, porque vas en cana de por vida',\n",
       " 'Ni lo sueñes!!! primero los anteriores',\n",
       " '@g_alde Son 4 los que votan. El resto ni los conoce. No representan a nadie, como el resto del sindicalismo',\n",
       " '@g_alde Los barra pagados. Es la pesada del sindicato.',\n",
       " 'Quiero ser sindicalista, pero si no llego a los 120 kg no me aceptan.',\n",
       " 'Tenes razón. La estamos pasando remal. Pero eso no tapa lo que son ustedes.',\n",
       " '@Mehid2016 Ni POR QUÉ la pasamos mal .------------',\n",
       " 'Espero que le saquen hasta el último centavo de plata malhabida a este clan mafioso.',\n",
       " '@gguasoncito1 Alguién puso la torta',\n",
       " 'La denuncia la hizo Bebote Álvarez por asociación ilícita.\\r\\nEs sabido que es ultra macrista.',\n",
       " 'Cero en sarcasmo.\\r\\nVuelva a Facebook y no moleste por acá.',\n",
       " 'El sarcasmo y la ironía no necesitan ser explicados ni aclarados\\r\\nSi no está a la altura no critique, corre el riesgo de quedar como está quedando en este instante.',\n",
       " 'Hoy es sabado. El lunes esta detenido',\n",
       " 'excelente tu comentario. pero dudo mucho q los moyanos puedan leer tantas letras!',\n",
       " '@gguasoncito1 🤣🤣🤣😂😂😂🤣🤣🤣',\n",
       " 'Papi cuidando nene!',\n",
       " 'Y bueno, yo no sé si tiene razón o no....habría que leer el expediente pero, en este contexto de crisis social, los camioneros van a parar totalmente el país.',\n",
       " 'Conducta mafiosa,quien sopló para que Pablito se fuera del país justo teniendo pedido de detención?',\n",
       " 'no sabes ni lo que es un trosko',\n",
       " 'leo cómo deberías hacer vos',\n",
       " 'El mismo discurso de todos los corruptos. Vaya a la justicia y pruebe su inocencia.',\n",
       " 'El régimen macrista quiere a todos los opositores presos.',\n",
       " '@pancho56 a todos los chorros presos, y andá a repasar la tabla del 3,porque tu idea de \"régimen\" es como decir que estos malandras son \"inocentes\".',\n",
       " 'SIIII y ya sabemos donde vives!! Jajajjaj KERNEROLO!!!',\n",
       " '@guli1911 Yo no  creo que  existan  tontos que  todavía crean que  cristina  es   inocente.- ',\n",
       " '@guli1911 Holaa, hola, holaaaaa, dalbon, hola, soy cristina peloduro ¡¡¡ no me ayudes másssss.¡¡¡¡',\n",
       " '@guli1911 Y, una de esas aprendieron de Neshtor y Critina. Pero son bebés de pecho al lado de esos dos.',\n",
       " '@flacas ¿Independencia, quién, Comodoro Pro? ',\n",
       " 'Y todavia no lo deruvieron? Y el padre no esta metido ? Que lentitud!!!! Como puede ser todo tan lento en la justicia? O sera q hay alguien llevando algun papel en mano a alguien para q le ponga un sello? La justicia sigue en la prehistoria!!!!',\n",
       " 'Yo distraigo\\r\\nTu distraes\\r\\nEl distrae\\r\\n....\\r\\n\\r\\nPero el que afanó, sabemos quien fue.',\n",
       " '@La_Robespierre La que afanó, te referís?.',\n",
       " '@juanberi Al gato se refiere, histórico manoteador del dinero del estado.',\n",
       " '@guli1911 El Pablito tiene méritos propios, no lo subestime. Ya es un estilo mafioso propio. Y una pregunta, porque te molesta tanto que vayan en cana estos malandras?. ',\n",
       " '@guli1911 Ya los comunistas  de la  unión soviética  despues de  75  años  de experiencia    concluyeron  que  la ineficacia  del  estado  supera  por cifras  infinitas   el pecado  de los ricos.  \\r\\nPorque  aparte de ser RICO   no hay  juicio  sobre  coimas recibidas  ni   plata robada   ni valijas  voladoras.ni cuadernos.  ni arrepentidos.-  ',\n",
       " 'Con esa declaración, TAN BERRETA, ya dejaste claro que tu hijo es culpable de lo que se lo acusa y ademas, un PATOTERO COBARDE',\n",
       " 'FUE DUHALDISTA, SCIOLISTA, MENEMISTA, KIRCHEIRSTA, DESPUES DESANDO Y AHORA VOLVIO AL KIRCHEIRSMO....\\r\\nMISMO DISCURSO ....TIPICO DELINCUENTE QUE SIEMPRE DICE QUE ES INOCENTE CUANDO HAY DOS JUZGADOS LLENOS DE PRUEBAS QUE LOS CONDENAN...Y ADEMAS EXTORSIONADOR...PROQUE CONVENCE A SUS ESBIRROS QUE LA CULPA ES DE MACRI QUE LOS PERSIGUE CUANDO EN REALIDAD ES LA JUSTICIA QUE POR PRIMERA VEZ TRABAJA INDEPENDIENTEMENTE DEL EJECUTIVO....Y SINO....PARO GENERAL..NO PUEDEN ESTAR LIBRES....PORQUE ESTANDO LIBRES DISFRUTANDO DE LA QUE ROBARON REBELA AL RESTO DE LOS CIUDADANOS DE BIEN....DAN GANAS DE EMPEZAR A NO RESPETAR NADA NI DE CUMPLIR NINGUNA LEY....',\n",
       " '@pnogueira3 Lo que realmente es .. una BASURA.-',\n",
       " 'Y si, que va a decir? \"Merezco ser investigado\"?  Acusar al gobierno de distracción o autodenominarse perseguido político, son las únicas respuestas que tienen. ']"
      ]
     },
     "execution_count": 215,
     "metadata": {},
     "output_type": "execute_result"
    }
   ],
   "source": [
    "#sin topico\n",
    "[x for x in df.loc[df.topicos == 4].comments]"
   ]
  },
  {
   "cell_type": "code",
   "execution_count": null,
   "metadata": {
    "collapsed": true
   },
   "outputs": [],
   "source": []
  }
 ],
 "metadata": {
  "kernelspec": {
   "display_name": "Python 3",
   "language": "python",
   "name": "python3"
  },
  "language_info": {
   "codemirror_mode": {
    "name": "ipython",
    "version": 3
   },
   "file_extension": ".py",
   "mimetype": "text/x-python",
   "name": "python",
   "nbconvert_exporter": "python",
   "pygments_lexer": "ipython3",
   "version": "3.6.3"
  }
 },
 "nbformat": 4,
 "nbformat_minor": 2
}
