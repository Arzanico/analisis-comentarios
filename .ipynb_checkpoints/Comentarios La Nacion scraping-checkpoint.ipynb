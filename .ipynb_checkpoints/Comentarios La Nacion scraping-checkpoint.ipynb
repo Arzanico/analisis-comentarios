{
 "cells": [
  {
   "cell_type": "code",
   "execution_count": null,
   "metadata": {
    "colab": {},
    "colab_type": "code",
    "collapsed": true,
    "id": "VYXJILLapNy9"
   },
   "outputs": [],
   "source": [
    "import requests\n",
    "import json\n",
    "from bs4 import BeautifulSoup"
   ]
  },
  {
   "cell_type": "markdown",
   "metadata": {},
   "source": [
    "# Urls con api news y categorías con Beautiful Soup\n",
    "El resultado es una lista \"seleccionadas\" con 5 notas por categoría\n",
    "Apinews, recupera noticias de un mes para atrás máximo."
   ]
  },
  {
   "cell_type": "code",
   "execution_count": null,
   "metadata": {
    "collapsed": true
   },
   "outputs": [],
   "source": [
    "#Contadores y variables\n",
    "newsapi_key = '1fb88bbf9e314e768557aef485db10cd'\n",
    "seleccionadas = []\n",
    "política, economía, elmundo, deportes, espectáculos, sociedad = 0,0,0,0,0,0\n",
    "desde= '2018-09-15'\n",
    "hasta= '2018-09-15'\n",
    "fuente= 'la-nacion'\n",
    "pagina = 1"
   ]
  },
  {
   "cell_type": "code",
   "execution_count": null,
   "metadata": {
    "colab": {},
    "colab_type": "code",
    "collapsed": true,
    "id": "NIKoBmcVXr_J"
   },
   "outputs": [],
   "source": [
    "#while hasta que se completen los contadores\n",
    "while (política < 5) | (economía < 5) | (elmundo < 5) | (deportes < 5) | (espectáculos < 5) | (sociedad < 5):\n",
    "    print('Contadores de categorías:', end = ' ' )\n",
    "    print(política, economía, elmundo, deportes, espectáculos, sociedad)\n",
    "    url = 'https://newsapi.org/v2/everything?sources=' + fuente + '&from=' + desde + '&to=' + hasta + '&page=' + str(pagina) +'&apiKey=' + newsapi_key\n",
    "    pagina +=1\n",
    "        \n",
    "    try: \n",
    "        response = requests.get(url)\n",
    "    except:\n",
    "        print('no anduvo la api')\n",
    "        break\n",
    "    data = json.loads(response.text)\n",
    "    #print(response)\n",
    "    if data['articles'] == []:\n",
    "        print('no hay mas')\n",
    "        break\n",
    "\n",
    "    #for todas la noticias de la pagina\n",
    "    for i, nota in enumerate(data['articles']):\n",
    "        response = requests.get(nota['url'])\n",
    "        html_soup = BeautifulSoup(response.text, 'html.parser')\n",
    "        for x in html_soup.find_all(\"strong\", {\"class\": \"categoria\"}):\n",
    "            categoria = x.find_all('a')[0].text.replace('\\r\\n', '').strip()\n",
    "\n",
    "        #print(categoria, end = ', ')\n",
    "\n",
    "        if (categoria == 'Política') & (política < 5):\n",
    "            política +=1\n",
    "            data['articles'][i]['categoria'] = categoria\n",
    "            seleccionadas.append(data['articles'][i])\n",
    "        elif (categoria == 'Economía') & (economía <5):\n",
    "            economía +=1\n",
    "            data['articles'][i]['categoria'] = categoria\n",
    "            seleccionadas.append(data['articles'][i])\n",
    "        elif (categoria == 'El Mundo') & (elmundo <5):\n",
    "            elmundo +=1\n",
    "            data['articles'][i]['categoria'] = categoria\n",
    "            seleccionadas.append(data['articles'][i])\n",
    "        elif (categoria == 'Deportes') & (deportes <5):\n",
    "            deportes +=1\n",
    "            data['articles'][i]['categoria'] = categoria\n",
    "            seleccionadas.append(data['articles'][i])\n",
    "        elif (categoria == 'Espectáculos') & (espectáculos <5):\n",
    "            espectáculos +=1\n",
    "            data['articles'][i]['categoria'] = categoria\n",
    "            seleccionadas.append(data['articles'][i])\n",
    "        elif (categoria == 'Sociedad') & (sociedad <5):\n",
    "            sociedad +=1\n",
    "            data['articles'][i]['categoria'] = categoria\n",
    "            seleccionadas.append(data['articles'][i])\n",
    "        \n",
    "print('Éxito')\n",
    "#que pasa si con todas las paginas que se recuperan de la api no se llega a llenar la cuota? puede pasar?\n"
   ]
  },
  {
   "cell_type": "code",
   "execution_count": null,
   "metadata": {
    "colab": {},
    "colab_type": "code",
    "collapsed": true,
    "id": "L_y_GRVeYNl8"
   },
   "outputs": [],
   "source": [
    "seleccionadas"
   ]
  },
  {
   "cell_type": "markdown",
   "metadata": {
    "colab_type": "text",
    "id": "aCftWwMlpNzQ"
   },
   "source": [
    "# Selenium para conseguir comments"
   ]
  },
  {
   "cell_type": "code",
   "execution_count": null,
   "metadata": {
    "colab": {},
    "colab_type": "code",
    "collapsed": true,
    "id": "NuX81XrypNzQ"
   },
   "outputs": [],
   "source": [
    "#Acá habría que hacerlo para toda la lista, pero pruebo sólo con la primera\n",
    "url = [seleccionadas[0]['url']\n",
    "#url ='https://www.lanacion.com.ar/2181213-cual-puede-ser-evolucion-cuotas-creditos-uva'\n"
   ]
  },
  {
   "cell_type": "code",
   "execution_count": 48,
   "metadata": {},
   "outputs": [
    {
     "name": "stdout",
     "output_type": "stream",
     "text": [
      "Hay boton\n"
     ]
    }
   ],
   "source": [
    "import time\n",
    "from selenium import webdriver\n",
    "from selenium.webdriver.support.ui import WebDriverWait\n",
    "from selenium.webdriver.support import expected_conditions as EC\n",
    "from selenium.webdriver.common.by import By\n",
    "from selenium.common.exceptions import TimeoutException\n",
    "\n",
    "\n",
    "driver = webdriver.Chrome('/Users/p_bag/Downloads/chromedriver_win32/chromedriver.exe')  # Optional argument, if not specified will search path.\n",
    "driver.get(url);\n",
    "\n",
    "driver.execute_script(\"window.scrollTo(0, document.body.scrollHeight);\")\n",
    "\n",
    "try:\n",
    "    myElem = WebDriverWait(driver, 10).until(EC.presence_of_element_located((By.CLASS_NAME, 'fyre-stream-more-container')))\n",
    "    print (\"Hay boton\")\n",
    "    button = True\n",
    "\n",
    "except TimeoutException:\n",
    "    print (\"No hay boton\")\n",
    "    button = False\n",
    "while button:\n",
    "    try:\n",
    "        driver.find_element_by_class_name('fyre-stream-more-container').click()\n",
    "    except: \n",
    "        button = False"
   ]
  },
  {
   "cell_type": "code",
   "execution_count": 49,
   "metadata": {
    "colab": {},
    "colab_type": "code",
    "collapsed": true,
    "id": "TnA1CvG9pNzZ"
   },
   "outputs": [],
   "source": [
    "#todos los comentarios con me gusta, horario y autores,etc\n",
    "todo = driver.find_element_by_class_name('fyre-stream-content')"
   ]
  },
  {
   "cell_type": "code",
   "execution_count": 50,
   "metadata": {
    "colab": {},
    "colab_type": "code",
    "collapsed": true,
    "id": "rEWvlGdXpNzd"
   },
   "outputs": [],
   "source": [
    "textos = todo.find_elements_by_class_name('fyre-comment')\n",
    "user = todo.find_elements_by_class_name(\"fyre-comment-username\")"
   ]
  },
  {
   "cell_type": "code",
   "execution_count": 51,
   "metadata": {
    "colab": {},
    "colab_type": "code",
    "collapsed": true,
    "id": "M-RPixlkpNzh"
   },
   "outputs": [],
   "source": [
    "usuarios =[x.text for x in user]\n",
    "texto = [x.text for x in textos]\n",
    "driver.Close()"
   ]
  },
  {
   "cell_type": "code",
   "execution_count": 52,
   "metadata": {
    "colab": {},
    "colab_type": "code",
    "collapsed": true,
    "id": "sSW9__yUpNzm"
   },
   "outputs": [],
   "source": [
    "import pandas  as pd\n",
    "df = pd.DataFrame({'usuarios': usuarios,\n",
    "             'comments': texto})"
   ]
  },
  {
   "cell_type": "code",
   "execution_count": 53,
   "metadata": {
    "colab": {},
    "colab_type": "code",
    "id": "7iwEItzXpNzp",
    "outputId": "d7821a2b-b940-4e22-9ea4-8ba3a013666a"
   },
   "outputs": [
    {
     "data": {
      "text/html": [
       "<div>\n",
       "<style>\n",
       "    .dataframe thead tr:only-child th {\n",
       "        text-align: right;\n",
       "    }\n",
       "\n",
       "    .dataframe thead th {\n",
       "        text-align: left;\n",
       "    }\n",
       "\n",
       "    .dataframe tbody tr th {\n",
       "        vertical-align: top;\n",
       "    }\n",
       "</style>\n",
       "<table border=\"1\" class=\"dataframe\">\n",
       "  <thead>\n",
       "    <tr style=\"text-align: right;\">\n",
       "      <th></th>\n",
       "      <th>comments</th>\n",
       "      <th>usuarios</th>\n",
       "    </tr>\n",
       "  </thead>\n",
       "  <tbody>\n",
       "    <tr>\n",
       "      <th>0</th>\n",
       "      <td>esto sería algo así como \"no vas a perder nada...</td>\n",
       "      <td>ICPA2016</td>\n",
       "    </tr>\n",
       "    <tr>\n",
       "      <th>1</th>\n",
       "      <td>pero para los bancos, se entiende no?</td>\n",
       "      <td>ICPA2016</td>\n",
       "    </tr>\n",
       "    <tr>\n",
       "      <th>2</th>\n",
       "      <td>Ah... Por fin una buena para la gente...! Ah.....</td>\n",
       "      <td>elinus2</td>\n",
       "    </tr>\n",
       "    <tr>\n",
       "      <th>3</th>\n",
       "      <td>que paparruchada</td>\n",
       "      <td>ICPA2016</td>\n",
       "    </tr>\n",
       "    <tr>\n",
       "      <th>4</th>\n",
       "      <td>Así que pensas aumentar la oferta de alquilere...</td>\n",
       "      <td>vecinopreocupado</td>\n",
       "    </tr>\n",
       "    <tr>\n",
       "      <th>5</th>\n",
       "      <td>Pobreza en 1983: 5%. Pobreza en 2018: 30%. \\nP...</td>\n",
       "      <td>LuigiPaul</td>\n",
       "    </tr>\n",
       "    <tr>\n",
       "      <th>6</th>\n",
       "      <td>Tal cual !! Yo sé que el culpable principal es...</td>\n",
       "      <td>vecinopreocupado</td>\n",
       "    </tr>\n",
       "    <tr>\n",
       "      <th>7</th>\n",
       "      <td>@vecinopreocupado ojo que desde el 83 para acá...</td>\n",
       "      <td>ICPA2016</td>\n",
       "    </tr>\n",
       "    <tr>\n",
       "      <th>8</th>\n",
       "      <td>Que te pasa Mauricio??? En que te has converti...</td>\n",
       "      <td>vecinopreocupado</td>\n",
       "    </tr>\n",
       "    <tr>\n",
       "      <th>9</th>\n",
       "      <td>te aumentaron la deuda el 100 pero te dan fasi...</td>\n",
       "      <td>nomengrapes70</td>\n",
       "    </tr>\n",
       "    <tr>\n",
       "      <th>10</th>\n",
       "      <td>Lamentable la situación económica que se vive....</td>\n",
       "      <td>jcarlos48</td>\n",
       "    </tr>\n",
       "    <tr>\n",
       "      <th>11</th>\n",
       "      <td>UVITA , UVITA TA TA TA TÁ (Opas 2019)</td>\n",
       "      <td>ytun</td>\n",
       "    </tr>\n",
       "    <tr>\n",
       "      <th>12</th>\n",
       "      <td>OTRAAAAAA  MENTIRAAAAA !!!\\nNOS TOMAN DE INGEN...</td>\n",
       "      <td>MariaInes1967</td>\n",
       "    </tr>\n",
       "    <tr>\n",
       "      <th>13</th>\n",
       "      <td>nunca, pero nunca van a hacer algo para benefi...</td>\n",
       "      <td>random7474</td>\n",
       "    </tr>\n",
       "    <tr>\n",
       "      <th>14</th>\n",
       "      <td>Da ternura la ingenuidad de estos anuncios de ...</td>\n",
       "      <td>pony0447</td>\n",
       "    </tr>\n",
       "    <tr>\n",
       "      <th>15</th>\n",
       "      <td>Tranquilos, Mauri lo prometió y el siempre cum...</td>\n",
       "      <td>danielgvera</td>\n",
       "    </tr>\n",
       "    <tr>\n",
       "      <th>16</th>\n",
       "      <td>Los prestamos UVA  sonpara economias ordenadas...</td>\n",
       "      <td>gcano</td>\n",
       "    </tr>\n",
       "    <tr>\n",
       "      <th>17</th>\n",
       "      <td>EL CRÉDITO A LOS JUBILADOS DEBE SER PARA EL SU...</td>\n",
       "      <td>hectorernesto</td>\n",
       "    </tr>\n",
       "    <tr>\n",
       "      <th>18</th>\n",
       "      <td>Lo que te dicen por la mañana, te lo borra con...</td>\n",
       "      <td>mbetuska</td>\n",
       "    </tr>\n",
       "    <tr>\n",
       "      <th>19</th>\n",
       "      <td>Ahora sí que estoy preocupado, este mismo tipo...</td>\n",
       "      <td>rafaelariel</td>\n",
       "    </tr>\n",
       "    <tr>\n",
       "      <th>20</th>\n",
       "      <td>En el tema alquileres quieren que ls comision ...</td>\n",
       "      <td>JMParadela</td>\n",
       "    </tr>\n",
       "    <tr>\n",
       "      <th>21</th>\n",
       "      <td>@JMParadela Olvidate de eso, locador e inmobil...</td>\n",
       "      <td>pony0447</td>\n",
       "    </tr>\n",
       "    <tr>\n",
       "      <th>22</th>\n",
       "      <td>Argentinos, en proceso que ya casi es hiperinf...</td>\n",
       "      <td>RRRIOS</td>\n",
       "    </tr>\n",
       "    <tr>\n",
       "      <th>23</th>\n",
       "      <td>O sea, según yo lo entiendo: Tengo un aumento ...</td>\n",
       "      <td>aperezfilgueira</td>\n",
       "    </tr>\n",
       "    <tr>\n",
       "      <th>24</th>\n",
       "      <td>@aperezfilgueira  Si la inflación es mayor al ...</td>\n",
       "      <td>opinadorw</td>\n",
       "    </tr>\n",
       "    <tr>\n",
       "      <th>25</th>\n",
       "      <td>@opinadorw @aperezfilgueira No tengo crédito d...</td>\n",
       "      <td>aperezfilgueira</td>\n",
       "    </tr>\n",
       "    <tr>\n",
       "      <th>26</th>\n",
       "      <td>.....kukin ,, no creas q' esto es gratis,, ,,H...</td>\n",
       "      <td>pcanoero</td>\n",
       "    </tr>\n",
       "    <tr>\n",
       "      <th>27</th>\n",
       "      <td>estas son medidas k o peronistas , el gas  y l...</td>\n",
       "      <td>dofe6381</td>\n",
       "    </tr>\n",
       "    <tr>\n",
       "      <th>28</th>\n",
       "      <td>@dofe6381 .......¿ ¿ ¿DONDE   DICE Q' NO VAN A...</td>\n",
       "      <td>pcanoero</td>\n",
       "    </tr>\n",
       "  </tbody>\n",
       "</table>\n",
       "</div>"
      ],
      "text/plain": [
       "                                             comments          usuarios\n",
       "0   esto sería algo así como \"no vas a perder nada...          ICPA2016\n",
       "1               pero para los bancos, se entiende no?          ICPA2016\n",
       "2   Ah... Por fin una buena para la gente...! Ah.....           elinus2\n",
       "3                                    que paparruchada          ICPA2016\n",
       "4   Así que pensas aumentar la oferta de alquilere...  vecinopreocupado\n",
       "5   Pobreza en 1983: 5%. Pobreza en 2018: 30%. \\nP...         LuigiPaul\n",
       "6   Tal cual !! Yo sé que el culpable principal es...  vecinopreocupado\n",
       "7   @vecinopreocupado ojo que desde el 83 para acá...          ICPA2016\n",
       "8   Que te pasa Mauricio??? En que te has converti...  vecinopreocupado\n",
       "9   te aumentaron la deuda el 100 pero te dan fasi...     nomengrapes70\n",
       "10  Lamentable la situación económica que se vive....         jcarlos48\n",
       "11              UVITA , UVITA TA TA TA TÁ (Opas 2019)              ytun\n",
       "12  OTRAAAAAA  MENTIRAAAAA !!!\\nNOS TOMAN DE INGEN...     MariaInes1967\n",
       "13  nunca, pero nunca van a hacer algo para benefi...        random7474\n",
       "14  Da ternura la ingenuidad de estos anuncios de ...          pony0447\n",
       "15  Tranquilos, Mauri lo prometió y el siempre cum...       danielgvera\n",
       "16  Los prestamos UVA  sonpara economias ordenadas...             gcano\n",
       "17  EL CRÉDITO A LOS JUBILADOS DEBE SER PARA EL SU...     hectorernesto\n",
       "18  Lo que te dicen por la mañana, te lo borra con...          mbetuska\n",
       "19  Ahora sí que estoy preocupado, este mismo tipo...       rafaelariel\n",
       "20  En el tema alquileres quieren que ls comision ...        JMParadela\n",
       "21  @JMParadela Olvidate de eso, locador e inmobil...          pony0447\n",
       "22  Argentinos, en proceso que ya casi es hiperinf...            RRRIOS\n",
       "23  O sea, según yo lo entiendo: Tengo un aumento ...   aperezfilgueira\n",
       "24  @aperezfilgueira  Si la inflación es mayor al ...         opinadorw\n",
       "25  @opinadorw @aperezfilgueira No tengo crédito d...   aperezfilgueira\n",
       "26  .....kukin ,, no creas q' esto es gratis,, ,,H...          pcanoero\n",
       "27  estas son medidas k o peronistas , el gas  y l...          dofe6381\n",
       "28  @dofe6381 .......¿ ¿ ¿DONDE   DICE Q' NO VAN A...          pcanoero"
      ]
     },
     "execution_count": 53,
     "metadata": {},
     "output_type": "execute_result"
    }
   ],
   "source": [
    "df"
   ]
  },
  {
   "cell_type": "code",
   "execution_count": null,
   "metadata": {
    "collapsed": true
   },
   "outputs": [],
   "source": []
  }
 ],
 "metadata": {
  "colab": {
   "collapsed_sections": [],
   "name": "Copia de Comentarios La Nacion-Scraping2.ipynb",
   "provenance": [
    {
     "file_id": "0B2ZIrvgohCxRYWlqUGg1aWM2SHlURy1RN3FpNGZoMlRjLWRn",
     "timestamp": 1536682879067
    }
   ],
   "version": "0.3.2"
  },
  "kernelspec": {
   "display_name": "Python 3",
   "language": "python",
   "name": "python3"
  },
  "language_info": {
   "codemirror_mode": {
    "name": "ipython",
    "version": 3
   },
   "file_extension": ".py",
   "mimetype": "text/x-python",
   "name": "python",
   "nbconvert_exporter": "python",
   "pygments_lexer": "ipython3",
   "version": "3.6.3"
  }
 },
 "nbformat": 4,
 "nbformat_minor": 1
}
