{
 "cells": [
  {
   "cell_type": "code",
   "execution_count": 1,
   "metadata": {},
   "outputs": [],
   "source": [
    "#bajar un noticia y sus comentarios para hacer pruebas"
   ]
  },
  {
   "cell_type": "code",
   "execution_count": null,
   "metadata": {},
   "outputs": [],
   "source": [
    "#noticia"
   ]
  },
  {
   "cell_type": "code",
   "execution_count": 2,
   "metadata": {},
   "outputs": [],
   "source": [
    "import requests\n",
    "import json\n",
    "from bs4 import BeautifulSoup"
   ]
  },
  {
   "cell_type": "code",
   "execution_count": 3,
   "metadata": {},
   "outputs": [],
   "source": [
    "url = 'https://www.lanacion.com.ar/2181393-la-relacion-entre-macri-y-vidal-un-vinculo-desgastado-por-la-crisis'"
   ]
  },
  {
   "cell_type": "code",
   "execution_count": 4,
   "metadata": {},
   "outputs": [],
   "source": [
    "response =  requests.get(url)"
   ]
  },
  {
   "cell_type": "code",
   "execution_count": 5,
   "metadata": {},
   "outputs": [],
   "source": [
    "html_soup = BeautifulSoup(response.text, 'html.parser')\n"
   ]
  },
  {
   "cell_type": "code",
   "execution_count": 6,
   "metadata": {},
   "outputs": [],
   "source": [
    "titulo = html_soup.find_all('h1')[0].text"
   ]
  },
  {
   "cell_type": "code",
   "execution_count": 7,
   "metadata": {},
   "outputs": [],
   "source": [
    "texto = \"\"\n",
    "for parrafo in html_soup.find_all(\"article\", {\"id\": \"nota\"})[0].find_all('p'):\n",
    "    texto +=  parrafo.text.replace('\\r\\n', '').strip().replace('\\n', '')"
   ]
  },
  {
   "cell_type": "code",
   "execution_count": 45,
   "metadata": {},
   "outputs": [
    {
     "name": "stdout",
     "output_type": "stream",
     "text": [
      "[nltk_data] Downloading package punkt to /home/pablo/nltk_data...\n",
      "[nltk_data]   Unzipping tokenizers/punkt.zip.\n"
     ]
    },
    {
     "data": {
      "text/plain": [
       "True"
      ]
     },
     "execution_count": 45,
     "metadata": {},
     "output_type": "execute_result"
    }
   ],
   "source": [
    "#import nltk\n",
    "#nltk.download('punkt')"
   ]
  },
  {
   "cell_type": "code",
   "execution_count": 9,
   "metadata": {},
   "outputs": [
    {
     "data": {
      "text/plain": [
       "27"
      ]
     },
     "execution_count": 9,
     "metadata": {},
     "output_type": "execute_result"
    }
   ],
   "source": [
    "from nltk.tokenize import sent_tokenize\n",
    "sent_tokenize_list = sent_tokenize(texto, language='spanish')\n",
    "len(sent_tokenize_list)"
   ]
  },
  {
   "cell_type": "code",
   "execution_count": 10,
   "metadata": {},
   "outputs": [],
   "source": [
    "from sklearn.decomposition import NMF, LatentDirichletAllocation, TruncatedSVD\n",
    "from sklearn.feature_extraction.text import CountVectorizer"
   ]
  },
  {
   "cell_type": "code",
   "execution_count": 11,
   "metadata": {},
   "outputs": [],
   "source": [
    "#nltk.download('stopwords')"
   ]
  },
  {
   "cell_type": "code",
   "execution_count": 12,
   "metadata": {},
   "outputs": [],
   "source": [
    "from nltk.corpus import stopwords"
   ]
  },
  {
   "cell_type": "code",
   "execution_count": 48,
   "metadata": {},
   "outputs": [],
   "source": [
    "vectorizer = CountVectorizer(min_df=3, max_df=0.9, \n",
    "                             stop_words=stopwords.words('spanish'), lowercase=True, \n",
    "                             )\n",
    "data_vectorized = vectorizer.fit_transform(sent_tokenize_list)"
   ]
  },
  {
   "cell_type": "code",
   "execution_count": 49,
   "metadata": {},
   "outputs": [
    {
     "data": {
      "text/plain": [
       "{'macri': 6,\n",
       " 'vidal': 11,\n",
       " 'gobernadora': 4,\n",
       " 'decisiones': 2,\n",
       " 'distancia': 3,\n",
       " 'gobierno': 5,\n",
       " 'nacional': 8,\n",
       " 'política': 9,\n",
       " 'mesa': 7,\n",
       " 'aumento': 0,\n",
       " 'casa': 1,\n",
       " 'rosada': 10}"
      ]
     },
     "execution_count": 49,
     "metadata": {},
     "output_type": "execute_result"
    }
   ],
   "source": [
    "vectorizer.vocabulary_"
   ]
  },
  {
   "cell_type": "code",
   "execution_count": 50,
   "metadata": {},
   "outputs": [],
   "source": [
    "lda_model = LatentDirichletAllocation(n_components=3, max_iter=10, learning_method='online')\n",
    "lda_Z = lda_model.fit_transform(data_vectorized)"
   ]
  },
  {
   "cell_type": "code",
   "execution_count": 51,
   "metadata": {},
   "outputs": [
    {
     "name": "stderr",
     "output_type": "stream",
     "text": [
      "/home/pablo/anaconda3/lib/python3.6/site-packages/pyLDAvis/_prepare.py:257: FutureWarning: Sorting because non-concatenation axis is not aligned. A future version\n",
      "of pandas will change to not sort by default.\n",
      "\n",
      "To accept the future behavior, pass 'sort=True'.\n",
      "\n",
      "To retain the current behavior and silence the warning, pass sort=False\n",
      "\n",
      "  return pd.concat([default_term_info] + list(topic_dfs))\n"
     ]
    },
    {
     "data": {
      "text/html": [
       "\n",
       "<link rel=\"stylesheet\" type=\"text/css\" href=\"https://cdn.rawgit.com/bmabey/pyLDAvis/files/ldavis.v1.0.0.css\">\n",
       "\n",
       "\n",
       "<div id=\"ldavis_el82991405281802193603276625948\"></div>\n",
       "<script type=\"text/javascript\">\n",
       "\n",
       "var ldavis_el82991405281802193603276625948_data = {\"mdsDat\": {\"x\": [-372.1424560546875, -437.7695617675781, -620.1272583007812], \"y\": [-195.24327087402344, -443.70355224609375, -262.63836669921875], \"topics\": [1, 2, 3], \"cluster\": [1, 1, 1], \"Freq\": [65.56002002674626, 25.28374938818148, 9.156230585072263]}, \"tinfo\": {\"Category\": [\"Default\", \"Default\", \"Default\", \"Default\", \"Default\", \"Default\", \"Default\", \"Default\", \"Default\", \"Default\", \"Default\", \"Default\", \"Topic1\", \"Topic1\", \"Topic1\", \"Topic1\", \"Topic1\", \"Topic1\", \"Topic1\", \"Topic1\", \"Topic1\", \"Topic1\", \"Topic1\", \"Topic1\", \"Topic2\", \"Topic2\", \"Topic2\", \"Topic2\", \"Topic2\", \"Topic2\", \"Topic2\", \"Topic2\", \"Topic2\", \"Topic2\", \"Topic2\", \"Topic2\", \"Topic3\", \"Topic3\", \"Topic3\", \"Topic3\", \"Topic3\", \"Topic3\", \"Topic3\", \"Topic3\", \"Topic3\", \"Topic3\", \"Topic3\", \"Topic3\"], \"Freq\": [3.0, 3.0, 3.0, 3.0, 3.0, 3.0, 4.0, 4.0, 4.0, 3.0, 6.0, 9.0, 3.8957416080699296, 7.374056629922647, 3.1888024091749, 3.1649604535231766, 2.4846701093488237, 2.437719137893594, 2.4199471076114842, 4.521986454374695, 2.424036513677296, 0.7744173049094021, 0.7331676834901012, 0.6717050019120054, 2.418743259363843, 2.467660124524219, 1.7420784807520535, 1.4407645646732532, 0.5954919932359637, 0.576918452516932, 0.5456172450315306, 1.354433453213104, 0.47127694856909663, 0.5608036495072961, 0.4853376404169132, 0.48842387005016696, 0.9190557019055261, 0.36726204753838326, 0.35141819794614226, 0.3523503821544453, 0.3288792348082948, 0.33959612342544526, 0.3374020573144374, 0.35731661997547487, 0.3583363558028365, 0.37099944957209485, 0.33373059834890423, 0.34489313544559164], \"Term\": [\"aumento\", \"casa\", \"rosada\", \"nacional\", \"mesa\", \"distancia\", \"pol\\u00edtica\", \"gobernadora\", \"gobierno\", \"decisiones\", \"macri\", \"vidal\", \"pol\\u00edtica\", \"vidal\", \"gobernadora\", \"gobierno\", \"mesa\", \"distancia\", \"decisiones\", \"macri\", \"nacional\", \"casa\", \"rosada\", \"aumento\", \"rosada\", \"casa\", \"aumento\", \"macri\", \"nacional\", \"decisiones\", \"distancia\", \"vidal\", \"mesa\", \"gobierno\", \"gobernadora\", \"pol\\u00edtica\", \"aumento\", \"nacional\", \"mesa\", \"distancia\", \"decisiones\", \"rosada\", \"casa\", \"gobernadora\", \"gobierno\", \"pol\\u00edtica\", \"macri\", \"vidal\"], \"Total\": [3.0, 3.0, 3.0, 3.0, 3.0, 3.0, 4.0, 4.0, 4.0, 3.0, 6.0, 9.0, 4.755164927692191, 9.073383218581343, 4.031456669567288, 4.084100458833309, 3.3073652558640627, 3.33568676507957, 3.325744794936711, 6.296481617396852, 3.386790554451643, 3.579479486748059, 3.4915070662793894, 3.3328391845695853, 3.4915070662793894, 3.579479486748059, 3.3328391845695853, 6.296481617396852, 3.386790554451643, 3.325744794936711, 3.33568676507957, 9.073383218581343, 3.3073652558640627, 4.084100458833309, 4.031456669567288, 4.755164927692191, 3.3328391845695853, 3.386790554451643, 3.3073652558640627, 3.33568676507957, 3.325744794936711, 3.4915070662793894, 3.579479486748059, 4.031456669567288, 4.084100458833309, 4.755164927692191, 6.296481617396852, 9.073383218581343], \"loglift\": [12.0, 11.0, 10.0, 9.0, 8.0, 7.0, 6.0, 5.0, 4.0, 3.0, 2.0, 1.0, 0.2229, 0.2148, 0.1877, 0.1672, 0.1362, 0.1086, 0.1043, 0.0912, 0.0878, -1.1087, -1.1385, -1.1796, 1.0079, 1.0031, 0.7263, -0.0998, -0.3632, -0.3767, -0.4355, -0.527, -0.5735, -0.6105, -0.742, -0.9008, 1.1025, 0.1692, 0.1488, 0.1429, 0.077, 0.0604, 0.029, -0.0325, -0.0426, -0.1601, -0.5467, -0.8791], \"logprob\": [12.0, 11.0, 10.0, 9.0, 8.0, 7.0, 6.0, 5.0, 4.0, 3.0, 2.0, 1.0, -2.1692, -1.5311, -2.3694, -2.3769, -2.6189, -2.638, -2.6453, -2.0201, -2.6436, -3.7847, -3.8394, -3.927, -1.693, -1.673, -2.0212, -2.2111, -3.0946, -3.1263, -3.1821, -2.2729, -3.3285, -3.1546, -3.2991, -3.2928, -1.6449, -2.5622, -2.6063, -2.6036, -2.6726, -2.6405, -2.647, -2.5896, -2.5868, -2.5521, -2.6579, -2.625]}, \"token.table\": {\"Topic\": [1, 2, 3, 1, 2, 1, 2, 1, 2, 1, 1, 2, 1, 2, 1, 1, 2, 1, 1, 2, 1, 2], \"Freq\": [0.3000444799826559, 0.6000889599653118, 0.3000444799826559, 0.27937022790665456, 0.5587404558133091, 0.6013690536462405, 0.30068452682312025, 0.5995766811612756, 0.2997883405806378, 0.7441478963786063, 0.7345558783970264, 0.24485195946567545, 0.7940942742031136, 0.15881885484062272, 0.6047109542721165, 0.5905295789168814, 0.2952647894584407, 0.8411905918773899, 0.2864092728489355, 0.572818545697871, 0.7714873086882001, 0.11021247266974289], \"Term\": [\"aumento\", \"aumento\", \"aumento\", \"casa\", \"casa\", \"decisiones\", \"decisiones\", \"distancia\", \"distancia\", \"gobernadora\", \"gobierno\", \"gobierno\", \"macri\", \"macri\", \"mesa\", \"nacional\", \"nacional\", \"pol\\u00edtica\", \"rosada\", \"rosada\", \"vidal\", \"vidal\"]}, \"R\": 12, \"lambda.step\": 0.01, \"plot.opts\": {\"xlab\": \"PC1\", \"ylab\": \"PC2\"}, \"topic.order\": [1, 3, 2]};\n",
       "\n",
       "function LDAvis_load_lib(url, callback){\n",
       "  var s = document.createElement('script');\n",
       "  s.src = url;\n",
       "  s.async = true;\n",
       "  s.onreadystatechange = s.onload = callback;\n",
       "  s.onerror = function(){console.warn(\"failed to load library \" + url);};\n",
       "  document.getElementsByTagName(\"head\")[0].appendChild(s);\n",
       "}\n",
       "\n",
       "if(typeof(LDAvis) !== \"undefined\"){\n",
       "   // already loaded: just create the visualization\n",
       "   !function(LDAvis){\n",
       "       new LDAvis(\"#\" + \"ldavis_el82991405281802193603276625948\", ldavis_el82991405281802193603276625948_data);\n",
       "   }(LDAvis);\n",
       "}else if(typeof define === \"function\" && define.amd){\n",
       "   // require.js is available: use it to load d3/LDAvis\n",
       "   require.config({paths: {d3: \"https://cdnjs.cloudflare.com/ajax/libs/d3/3.5.5/d3.min\"}});\n",
       "   require([\"d3\"], function(d3){\n",
       "      window.d3 = d3;\n",
       "      LDAvis_load_lib(\"https://cdn.rawgit.com/bmabey/pyLDAvis/files/ldavis.v1.0.0.js\", function(){\n",
       "        new LDAvis(\"#\" + \"ldavis_el82991405281802193603276625948\", ldavis_el82991405281802193603276625948_data);\n",
       "      });\n",
       "    });\n",
       "}else{\n",
       "    // require.js not available: dynamically load d3 & LDAvis\n",
       "    LDAvis_load_lib(\"https://cdnjs.cloudflare.com/ajax/libs/d3/3.5.5/d3.min.js\", function(){\n",
       "         LDAvis_load_lib(\"https://cdn.rawgit.com/bmabey/pyLDAvis/files/ldavis.v1.0.0.js\", function(){\n",
       "                 new LDAvis(\"#\" + \"ldavis_el82991405281802193603276625948\", ldavis_el82991405281802193603276625948_data);\n",
       "            })\n",
       "         });\n",
       "}\n",
       "</script>"
      ],
      "text/plain": [
       "PreparedData(topic_coordinates=                x           y  topics  cluster       Freq\n",
       "topic                                                    \n",
       "0     -372.142456 -195.243271       1        1  65.560020\n",
       "2     -437.769562 -443.703552       2        1  25.283749\n",
       "1     -620.127258 -262.638367       3        1   9.156231, topic_info=     Category      Freq         Term     Total  loglift  logprob\n",
       "term                                                            \n",
       "0     Default  3.000000      aumento  3.000000  12.0000  12.0000\n",
       "1     Default  3.000000         casa  3.000000  11.0000  11.0000\n",
       "10    Default  3.000000       rosada  3.000000  10.0000  10.0000\n",
       "8     Default  3.000000     nacional  3.000000   9.0000   9.0000\n",
       "7     Default  3.000000         mesa  3.000000   8.0000   8.0000\n",
       "3     Default  3.000000    distancia  3.000000   7.0000   7.0000\n",
       "9     Default  4.000000     política  4.000000   6.0000   6.0000\n",
       "4     Default  4.000000  gobernadora  4.000000   5.0000   5.0000\n",
       "5     Default  4.000000     gobierno  4.000000   4.0000   4.0000\n",
       "2     Default  3.000000   decisiones  3.000000   3.0000   3.0000\n",
       "6     Default  6.000000        macri  6.000000   2.0000   2.0000\n",
       "11    Default  9.000000        vidal  9.000000   1.0000   1.0000\n",
       "9      Topic1  3.895742     política  4.755165   0.2229  -2.1692\n",
       "11     Topic1  7.374057        vidal  9.073383   0.2148  -1.5311\n",
       "4      Topic1  3.188802  gobernadora  4.031457   0.1877  -2.3694\n",
       "5      Topic1  3.164960     gobierno  4.084100   0.1672  -2.3769\n",
       "7      Topic1  2.484670         mesa  3.307365   0.1362  -2.6189\n",
       "3      Topic1  2.437719    distancia  3.335687   0.1086  -2.6380\n",
       "2      Topic1  2.419947   decisiones  3.325745   0.1043  -2.6453\n",
       "6      Topic1  4.521986        macri  6.296482   0.0912  -2.0201\n",
       "8      Topic1  2.424037     nacional  3.386791   0.0878  -2.6436\n",
       "1      Topic1  0.774417         casa  3.579479  -1.1087  -3.7847\n",
       "10     Topic1  0.733168       rosada  3.491507  -1.1385  -3.8394\n",
       "0      Topic1  0.671705      aumento  3.332839  -1.1796  -3.9270\n",
       "10     Topic2  2.418743       rosada  3.491507   1.0079  -1.6930\n",
       "1      Topic2  2.467660         casa  3.579479   1.0031  -1.6730\n",
       "0      Topic2  1.742078      aumento  3.332839   0.7263  -2.0212\n",
       "6      Topic2  1.440765        macri  6.296482  -0.0998  -2.2111\n",
       "8      Topic2  0.595492     nacional  3.386791  -0.3632  -3.0946\n",
       "2      Topic2  0.576918   decisiones  3.325745  -0.3767  -3.1263\n",
       "3      Topic2  0.545617    distancia  3.335687  -0.4355  -3.1821\n",
       "11     Topic2  1.354433        vidal  9.073383  -0.5270  -2.2729\n",
       "7      Topic2  0.471277         mesa  3.307365  -0.5735  -3.3285\n",
       "5      Topic2  0.560804     gobierno  4.084100  -0.6105  -3.1546\n",
       "4      Topic2  0.485338  gobernadora  4.031457  -0.7420  -3.2991\n",
       "9      Topic2  0.488424     política  4.755165  -0.9008  -3.2928\n",
       "0      Topic3  0.919056      aumento  3.332839   1.1025  -1.6449\n",
       "8      Topic3  0.367262     nacional  3.386791   0.1692  -2.5622\n",
       "7      Topic3  0.351418         mesa  3.307365   0.1488  -2.6063\n",
       "3      Topic3  0.352350    distancia  3.335687   0.1429  -2.6036\n",
       "2      Topic3  0.328879   decisiones  3.325745   0.0770  -2.6726\n",
       "10     Topic3  0.339596       rosada  3.491507   0.0604  -2.6405\n",
       "1      Topic3  0.337402         casa  3.579479   0.0290  -2.6470\n",
       "4      Topic3  0.357317  gobernadora  4.031457  -0.0325  -2.5896\n",
       "5      Topic3  0.358336     gobierno  4.084100  -0.0426  -2.5868\n",
       "9      Topic3  0.370999     política  4.755165  -0.1601  -2.5521\n",
       "6      Topic3  0.333731        macri  6.296482  -0.5467  -2.6579\n",
       "11     Topic3  0.344893        vidal  9.073383  -0.8791  -2.6250, token_table=      Topic      Freq         Term\n",
       "term                              \n",
       "0         1  0.300044      aumento\n",
       "0         2  0.600089      aumento\n",
       "0         3  0.300044      aumento\n",
       "1         1  0.279370         casa\n",
       "1         2  0.558740         casa\n",
       "2         1  0.601369   decisiones\n",
       "2         2  0.300685   decisiones\n",
       "3         1  0.599577    distancia\n",
       "3         2  0.299788    distancia\n",
       "4         1  0.744148  gobernadora\n",
       "5         1  0.734556     gobierno\n",
       "5         2  0.244852     gobierno\n",
       "6         1  0.794094        macri\n",
       "6         2  0.158819        macri\n",
       "7         1  0.604711         mesa\n",
       "8         1  0.590530     nacional\n",
       "8         2  0.295265     nacional\n",
       "9         1  0.841191     política\n",
       "10        1  0.286409       rosada\n",
       "10        2  0.572819       rosada\n",
       "11        1  0.771487        vidal\n",
       "11        2  0.110212        vidal, R=12, lambda_step=0.01, plot_opts={'xlab': 'PC1', 'ylab': 'PC2'}, topic_order=[1, 3, 2])"
      ]
     },
     "execution_count": 51,
     "metadata": {},
     "output_type": "execute_result"
    }
   ],
   "source": [
    "import pyLDAvis.sklearn\n",
    " \n",
    "pyLDAvis.enable_notebook()\n",
    "panel = pyLDAvis.sklearn.prepare(lda_model, data_vectorized, vectorizer, mds='tsne')\n",
    "panel"
   ]
  },
  {
   "cell_type": "code",
   "execution_count": 52,
   "metadata": {},
   "outputs": [
    {
     "name": "stdout",
     "output_type": "stream",
     "text": [
      "[0.33333333 0.33333333 0.33333333] 1.0\n"
     ]
    }
   ],
   "source": [
    "text = \"RAJA GATO Y LLEVATE A LA CHIRUSA LAVADORA\"\n",
    "x = lda_model.transform(vectorizer.transform([text]))[0]\n",
    "print(x, x.sum())\n",
    "#si la distrubición es uniforme no tiene relación con los topicos?"
   ]
  },
  {
   "cell_type": "code",
   "execution_count": 53,
   "metadata": {},
   "outputs": [
    {
     "name": "stdout",
     "output_type": "stream",
     "text": [
      "[0.6534354  0.1692219  0.17734269] 1.0\n"
     ]
    }
   ],
   "source": [
    "text = 'Están lanzando la candidatura de Vidal. Macro ya esta quemado'\n",
    "x = lda_model.transform(vectorizer.transform([text]))[0]\n",
    "print(x, x.sum())"
   ]
  },
  {
   "cell_type": "code",
   "execution_count": 54,
   "metadata": {},
   "outputs": [
    {
     "name": "stdout",
     "output_type": "stream",
     "text": [
      "[0.33333333 0.33333333 0.33333333] 1.0\n"
     ]
    }
   ],
   "source": [
    "text = 'PRONTO SE LIBERA BRASIL DE POPULISMO, SANTA CRUZ TAMBIÉN SERÁ DE LA PATRIA'\n",
    "x = lda_model.transform(vectorizer.transform([text]))[0]\n",
    "print(x, x.sum())"
   ]
  },
  {
   "cell_type": "code",
   "execution_count": 55,
   "metadata": {},
   "outputs": [
    {
     "name": "stdout",
     "output_type": "stream",
     "text": [
      "[0.65369344 0.17459346 0.1717131 ] 1.0\n"
     ]
    }
   ],
   "source": [
    "text = 'Solo quienes no vivieron los 90s podian creer que esto tuviera un final distinto. Todavia falta lo peor. A esta altura un gobierno solo defendido por fanaticos'\n",
    "x = lda_model.transform(vectorizer.transform([text]))[0]\n",
    "print(x, x.sum())"
   ]
  },
  {
   "cell_type": "code",
   "execution_count": null,
   "metadata": {},
   "outputs": [],
   "source": []
  }
 ],
 "metadata": {
  "kernelspec": {
   "display_name": "Python 3",
   "language": "python",
   "name": "python3"
  },
  "language_info": {
   "codemirror_mode": {
    "name": "ipython",
    "version": 3
   },
   "file_extension": ".py",
   "mimetype": "text/x-python",
   "name": "python",
   "nbconvert_exporter": "python",
   "pygments_lexer": "ipython3",
   "version": "3.6.5"
  }
 },
 "nbformat": 4,
 "nbformat_minor": 2
}
