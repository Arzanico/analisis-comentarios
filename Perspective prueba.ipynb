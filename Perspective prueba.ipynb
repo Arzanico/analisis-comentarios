{
 "cells": [
  {
   "cell_type": "markdown",
   "metadata": {},
   "source": [
    "### Librerias necesarias con Anaconda:\n",
    "conda install -c conda-forge google-api-python-client\n",
    "\n",
    "conda install -c conda-forge googletrans \n",
    "\n",
    "### Documentación de perspective, sobre todo ver la lista de modelos. Si usamos Perspective las categorías de la investigación debería adecuarse a estos modelos\n",
    "https://github.com/conversationai/perspectiveapi/blob/master/api_reference.md"
   ]
  },
  {
   "cell_type": "code",
   "execution_count": 1,
   "metadata": {
    "collapsed": true
   },
   "outputs": [],
   "source": [
    "import config"
   ]
  },
  {
   "cell_type": "code",
   "execution_count": 2,
   "metadata": {
    "collapsed": true
   },
   "outputs": [],
   "source": [
    "#ejemplos de algunos comments de Clarin\n",
    "texto = \"Y LAS RATAS KK SIGUEN PENSANDO QUE EL KIRSCHNERISMO VA A VOLVER........COSTARA MUCHISIMO SALIR DE ESTO, PERO LOS KK NUNCA MAS....\"\n",
    "texto2= \"che clarin dejalo tranquilo al ple0tudo de gamurra no lo hagas laburar tanto jajajajaja\"\n",
    "texto3= \"CLARIN UN DIARIO INMUNDO, IGUAL QUE ESTE GOBIERNO\\\n",
    " UN DIARIO QUE LOS NEGROS IGNORANTES DE ESTE PAÍS UTILIZAN PARA LIMPIARSE EL CUULO...\\\n",
    " UN DIARIO QUE EL GRUPO CLARIN USA PARA EXTORSIONAR Y COIMEAR A LOS GOBIERNOS Y DESPUÉS HACER NEGOCIOS\\\n",
    " CON UNA PAUTA MILLONARÍA EN DÓLARES Y SESENTA NICK'S TRUCHOS SE ENCARGAN DE LINCHAR A LOS CIUDADANOS QUE LES MOLESTAN...\\\n",
    "                             DECIME EN QUE NACIÓN DEL MUNDO... \\\n",
    "                       EN QUÉ PAIS DE AFRICA OCURRE ALGO IGUAL\"\n",
    "texto4 = 'QUE LE paso a Macri? Nadie invierte 150dolares para perder. que alguien saque la cuenta si conviene vender y poner a interese en en BNACION A VER si conviene o no....que desilusion!'"
   ]
  },
  {
   "cell_type": "markdown",
   "metadata": {},
   "source": [
    "### En muchos casa los \"comentaristas\" (trolls) usan entrategias para zafar la censura, habría que ver como preprocesar esto, ejemplos:\n",
    "\n",
    "Solo lei la \" Araña\" y me imagine hablaba de la c0ncha p.uta de Cristina Fernandez de Kirchner\n",
    "\n",
    "che clarin dejalo tranquilo al ple0tudo de gamurra no lo hagas laburar tanto jajajajaja\n"
   ]
  },
  {
   "cell_type": "code",
   "execution_count": 3,
   "metadata": {
    "collapsed": true
   },
   "outputs": [],
   "source": [
    "#Para el caso de querer traducir:\n",
    "\n",
    "#from googletrans import Translator\n",
    "#translator = Translator()\n",
    "#traduccion = translator.translate(texto3).text\n",
    "#print(traduccion)"
   ]
  },
  {
   "cell_type": "code",
   "execution_count": 4,
   "metadata": {
    "collapsed": true
   },
   "outputs": [],
   "source": [
    "from googleapiclient import discovery\n",
    "import json\n",
    "\n",
    "API_KEY= config.perspectiveAPI_KEY #Toni\n",
    "\n",
    "service = discovery.build('commentanalyzer', 'v1alpha1', developerKey=API_KEY)"
   ]
  },
  {
   "cell_type": "markdown",
   "metadata": {},
   "source": [
    "Modulos que funcionan en español:\n",
    "TOXICITY_EXPERIMENTAL\n",
    "SEVERE_TOXICITY_EXPERIMENTAL\n",
    "IDENTITY_ATTACK_EXPERIMENTAL\n",
    "INSULT_EXPERIMENTAL\n",
    "PROFANITY_EXPERIMENTAL\n",
    "THREAT_EXPERIMENTAL"
   ]
  },
  {
   "cell_type": "code",
   "execution_count": 6,
   "metadata": {},
   "outputs": [
    {
     "name": "stdout",
     "output_type": "stream",
     "text": [
      "{\n",
      "  \"attributeScores\": {\n",
      "    \"SEVERE_TOXICITY_EXPERIMENTAL\": {\n",
      "      \"spanScores\": [\n",
      "        {\n",
      "          \"begin\": 0,\n",
      "          \"end\": 87,\n",
      "          \"score\": {\n",
      "            \"value\": 0.12493451,\n",
      "            \"type\": \"PROBABILITY\"\n",
      "          }\n",
      "        }\n",
      "      ],\n",
      "      \"summaryScore\": {\n",
      "        \"value\": 0.12493451,\n",
      "        \"type\": \"PROBABILITY\"\n",
      "      }\n",
      "    },\n",
      "    \"TOXICITY_EXPERIMENTAL\": {\n",
      "      \"spanScores\": [\n",
      "        {\n",
      "          \"begin\": 0,\n",
      "          \"end\": 87,\n",
      "          \"score\": {\n",
      "            \"value\": 0.19863188,\n",
      "            \"type\": \"PROBABILITY\"\n",
      "          }\n",
      "        }\n",
      "      ],\n",
      "      \"summaryScore\": {\n",
      "        \"value\": 0.19863188,\n",
      "        \"type\": \"PROBABILITY\"\n",
      "      }\n",
      "    }\n",
      "  },\n",
      "  \"languages\": [\n",
      "    \"es\"\n",
      "  ]\n",
      "}\n"
     ]
    }
   ],
   "source": [
    "analyze_request = {\n",
    "  'comment': { 'text': texto2 },\n",
    "  'requestedAttributes': {'TOXICITY_EXPERIMENTAL': {}, \n",
    "                          'SEVERE_TOXICITY_EXPERIMENTAL':{},\n",
    "                          'IDENTITY_ATTACK_EXPERIMENTAL':{},\n",
    "                          'PROFANITY_EXPERIMENTAL':{},\n",
    "                          'THREAT_EXPERIMENTAL':{},\n",
    "                          'INSULT_EXPERIMENTAL':{}\n",
    "                         }\n",
    "}\n",
    "\n",
    "response = service.comments().analyze(body=analyze_request).execute()\n",
    "\n",
    "print (json.dumps(response, indent=2))"
   ]
  },
  {
   "cell_type": "code",
   "execution_count": 9,
   "metadata": {},
   "outputs": [
    {
     "name": "stdout",
     "output_type": "stream",
     "text": [
      "{\n",
      "  \"attributeScores\": {\n",
      "    \"SEVERE_TOXICITY_EXPERIMENTAL\": {\n",
      "      \"spanScores\": [\n",
      "        {\n",
      "          \"begin\": 0,\n",
      "          \"end\": 181,\n",
      "          \"score\": {\n",
      "            \"value\": 0.085778356,\n",
      "            \"type\": \"PROBABILITY\"\n",
      "          }\n",
      "        }\n",
      "      ],\n",
      "      \"summaryScore\": {\n",
      "        \"value\": 0.085778356,\n",
      "        \"type\": \"PROBABILITY\"\n",
      "      }\n",
      "    },\n",
      "    \"TOXICITY_EXPERIMENTAL\": {\n",
      "      \"spanScores\": [\n",
      "        {\n",
      "          \"begin\": 0,\n",
      "          \"end\": 181,\n",
      "          \"score\": {\n",
      "            \"value\": 0.13242681,\n",
      "            \"type\": \"PROBABILITY\"\n",
      "          }\n",
      "        }\n",
      "      ],\n",
      "      \"summaryScore\": {\n",
      "        \"value\": 0.13242681,\n",
      "        \"type\": \"PROBABILITY\"\n",
      "      }\n",
      "    }\n",
      "  },\n",
      "  \"languages\": [\n",
      "    \"es\"\n",
      "  ]\n",
      "}\n"
     ]
    }
   ],
   "source": [
    "analyze_request = {\n",
    "  'comment': { 'text': texto4 },\n",
    "  'requestedAttributes': {'TOXICITY_EXPERIMENTAL': {}, \n",
    "                          'SEVERE_TOXICITY_EXPERIMENTAL':{},\n",
    "                          'PROFANITY_EXPERIMENTAL':{},\n",
    "                          'THREAT_EXPERIMENTAL':{},\n",
    "                          'INSULT_EXPERIMENTAL':{}\n",
    "                         }\n",
    "}\n",
    "\n",
    "response = service.comments().analyze(body=analyze_request).execute()\n",
    "\n",
    "print (json.dumps(response, indent=2))"
   ]
  },
  {
   "cell_type": "code",
   "execution_count": 14,
   "metadata": {},
   "outputs": [
    {
     "data": {
      "text/plain": [
       "{'spanScores': [{'begin': 0,\n",
       "   'end': 181,\n",
       "   'score': {'type': 'PROBABILITY', 'value': 0.13242681}}],\n",
       " 'summaryScore': {'type': 'PROBABILITY', 'value': 0.13242681}}"
      ]
     },
     "execution_count": 14,
     "metadata": {},
     "output_type": "execute_result"
    }
   ],
   "source": [
    "response['attributeScores']['TOXICITY_EXPERIMENTAL']['summaryScore']['value']"
   ]
  },
  {
   "cell_type": "code",
   "execution_count": 17,
   "metadata": {},
   "outputs": [
    {
     "data": {
      "text/plain": [
       "0.085778356"
      ]
     },
     "execution_count": 17,
     "metadata": {},
     "output_type": "execute_result"
    }
   ],
   "source": [
    "response['attributeScores']['SEVERE_TOXICITY_EXPERIMENTAL']['summaryScore']['value']"
   ]
  },
  {
   "cell_type": "code",
   "execution_count": 20,
   "metadata": {
    "collapsed": true
   },
   "outputs": [],
   "source": [
    "import pandas as pd\n",
    "df = pd.read_csv('./data/hugo-moyano-pedido-detencion-hijo.csv', index_col= 0).dropna().reset_index()"
   ]
  },
  {
   "cell_type": "code",
   "execution_count": 76,
   "metadata": {},
   "outputs": [],
   "source": [
    "import numpy as np\n",
    "def analizar(comentarios):\n",
    "    resultados = []\n",
    "    for comentario in comentarios:\n",
    "        resultado = {}\n",
    "        try:\n",
    "            analyze_request = {\n",
    "                            'comment': { 'text': comentario },\n",
    "                            'requestedAttributes': {'TOXICITY_EXPERIMENTAL': {}, \n",
    "                                                      'SEVERE_TOXICITY_EXPERIMENTAL':{}}}\n",
    "            response = service.comments().analyze(body=analyze_request).execute()\n",
    "            \n",
    "            resultado['comment'] = comentario\n",
    "            resultado['toxicity'] =response['attributeScores']['TOXICITY_EXPERIMENTAL']['summaryScore']['value']\n",
    "            resultado['severe_toxicity'] = response['attributeScores']['SEVERE_TOXICITY_EXPERIMENTAL']['summaryScore']['value']\n",
    "            resultados.append(resultado)\n",
    "        except:\n",
    "            resultado['comment'] = comentario\n",
    "            resultado['toxicity'] = np.nan\n",
    "            resultado['severe_toxicity'] = np.nan\n",
    "            resultados.append(resultado)\n",
    "    return resultados     "
   ]
  },
  {
   "cell_type": "code",
   "execution_count": 77,
   "metadata": {},
   "outputs": [],
   "source": [
    "from joblib import Parallel, delayed"
   ]
  },
  {
   "cell_type": "code",
   "execution_count": 78,
   "metadata": {},
   "outputs": [],
   "source": [
    "lista_comentarios =np.array_split(df.comments, 4)"
   ]
  },
  {
   "cell_type": "code",
   "execution_count": 79,
   "metadata": {},
   "outputs": [
    {
     "name": "stdout",
     "output_type": "stream",
     "text": [
      "Wall time: 41.3 s\n"
     ]
    }
   ],
   "source": [
    "%%time\n",
    "results = Parallel(n_jobs=-1)(delayed(analizar)(comentarios) for comentarios in lista_comentarios)"
   ]
  },
  {
   "cell_type": "code",
   "execution_count": 84,
   "metadata": {},
   "outputs": [],
   "source": [
    "results = results[0] +results[1] +results[2] +results[3]"
   ]
  },
  {
   "cell_type": "code",
   "execution_count": 85,
   "metadata": {
    "collapsed": true
   },
   "outputs": [],
   "source": [
    "df_comentarios = pd.DataFrame(results)"
   ]
  },
  {
   "cell_type": "code",
   "execution_count": 88,
   "metadata": {},
   "outputs": [],
   "source": [
    "df_comentarios.to_csv('./data/hugo moyano pedido detencion hijo Perspective.csv')"
   ]
  },
  {
   "cell_type": "code",
   "execution_count": null,
   "metadata": {
    "collapsed": true
   },
   "outputs": [],
   "source": []
  }
 ],
 "metadata": {
  "kernelspec": {
   "display_name": "Python 3",
   "language": "python",
   "name": "python3"
  },
  "language_info": {
   "codemirror_mode": {
    "name": "ipython",
    "version": 3
   },
   "file_extension": ".py",
   "mimetype": "text/x-python",
   "name": "python",
   "nbconvert_exporter": "python",
   "pygments_lexer": "ipython3",
   "version": "3.6.3"
  }
 },
 "nbformat": 4,
 "nbformat_minor": 2
}
